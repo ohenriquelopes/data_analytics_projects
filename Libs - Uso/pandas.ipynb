{
 "cells": [
  {
   "cell_type": "code",
   "execution_count": 24,
   "id": "initial_id",
   "metadata": {
    "collapsed": true,
    "ExecuteTime": {
     "end_time": "2023-10-22T22:05:25.356864715Z",
     "start_time": "2023-10-22T22:05:25.312611856Z"
    }
   },
   "outputs": [],
   "source": [
    "import pandas as pd\n",
    "import numpy as np"
   ]
  },
  {
   "cell_type": "code",
   "execution_count": 25,
   "outputs": [],
   "source": [
    "mylist = list('abcedfghijklmnopqrstuvwxyz')\n",
    "myarr = np.arange(26)\n",
    "mydict = dict(zip(mylist, myarr))\n",
    "ser = pd.Series(mydict)\n"
   ],
   "metadata": {
    "collapsed": false,
    "ExecuteTime": {
     "end_time": "2023-10-22T22:05:25.997335767Z",
     "start_time": "2023-10-22T22:05:25.991105233Z"
    }
   },
   "id": "48cb3d19d133df23"
  },
  {
   "cell_type": "markdown",
   "source": [
    "## How to convert the index of a series into a column of a dataframe?"
   ],
   "metadata": {
    "collapsed": false
   },
   "id": "3c2dc2c9bbf0f27c"
  },
  {
   "cell_type": "code",
   "execution_count": 26,
   "outputs": [
    {
     "name": "stdout",
     "output_type": "stream",
     "text": [
      "  index  0\n",
      "0     a  0\n",
      "1     b  1\n",
      "2     c  2\n",
      "3     e  3\n",
      "4     d  4\n"
     ]
    }
   ],
   "source": [
    "df = ser.to_frame().reset_index()\n",
    "print(df.head())"
   ],
   "metadata": {
    "collapsed": false,
    "ExecuteTime": {
     "end_time": "2023-10-22T22:05:26.957686478Z",
     "start_time": "2023-10-22T22:05:26.950701860Z"
    }
   },
   "id": "5d313d20e4710c18"
  },
  {
   "cell_type": "markdown",
   "source": [
    "## How to combine many series to form a dataframe?"
   ],
   "metadata": {
    "collapsed": false
   },
   "id": "87c5a5d95354bb0"
  },
  {
   "cell_type": "code",
   "execution_count": 27,
   "outputs": [],
   "source": [
    "ser1 = pd.Series(list('abcedfghijklmnopqrstuvwxyz'))\n",
    "ser2 = pd.Series(np.arange(26))"
   ],
   "metadata": {
    "collapsed": false,
    "ExecuteTime": {
     "end_time": "2023-10-22T22:05:27.311045727Z",
     "start_time": "2023-10-22T22:05:27.308119138Z"
    }
   },
   "id": "cd7c9665dd27cdb7"
  },
  {
   "cell_type": "code",
   "execution_count": 28,
   "outputs": [
    {
     "name": "stdout",
     "output_type": "stream",
     "text": [
      "   0  1\n",
      "0  a  0\n",
      "1  b  1\n",
      "2  c  2\n",
      "3  e  3\n",
      "4  d  4\n"
     ]
    }
   ],
   "source": [
    "df = pd.concat([ser1, ser2], axis=1)\n",
    "print(df.head())"
   ],
   "metadata": {
    "collapsed": false,
    "ExecuteTime": {
     "end_time": "2023-10-22T22:05:27.478877070Z",
     "start_time": "2023-10-22T22:05:27.473347471Z"
    }
   },
   "id": "dca5484d54bad62d"
  },
  {
   "cell_type": "markdown",
   "source": [
    "## How to assign name to the series’ index?"
   ],
   "metadata": {
    "collapsed": false
   },
   "id": "29e705b553cbf95d"
  },
  {
   "cell_type": "code",
   "execution_count": 29,
   "outputs": [
    {
     "data": {
      "text/plain": "0    a\n1    b\n2    c\n3    e\n4    d\nName: alphabets, dtype: object"
     },
     "execution_count": 29,
     "metadata": {},
     "output_type": "execute_result"
    }
   ],
   "source": [
    "ser = pd.Series(list('abcedfghijklmnopqrstuvwxyz'))\n",
    "ser.name = 'alphabets'\n",
    "ser.head()"
   ],
   "metadata": {
    "collapsed": false,
    "ExecuteTime": {
     "end_time": "2023-10-22T22:05:27.809090546Z",
     "start_time": "2023-10-22T22:05:27.800572896Z"
    }
   },
   "id": "cbb4c05287f238aa"
  },
  {
   "cell_type": "markdown",
   "source": [
    "## How to get the items of series A not present in series B?"
   ],
   "metadata": {
    "collapsed": false
   },
   "id": "492a86174a5ab835"
  },
  {
   "cell_type": "code",
   "execution_count": 30,
   "outputs": [
    {
     "data": {
      "text/plain": "0    1\n1    2\n2    3\nName: ser1, dtype: int64"
     },
     "execution_count": 30,
     "metadata": {},
     "output_type": "execute_result"
    }
   ],
   "source": [
    "ser1 = pd.Series([1, 2, 3, 4, 5])\n",
    "ser2 = pd.Series([4, 5, 6, 7, 8])\n",
    "ser1.name = 'ser1'\n",
    "# isin() valida se o valor está presente na série, e o ~ inverte o resultado\n",
    "ser1[~ser1.isin(ser2)]"
   ],
   "metadata": {
    "collapsed": false,
    "ExecuteTime": {
     "end_time": "2023-10-22T22:05:28.141335098Z",
     "start_time": "2023-10-22T22:05:28.131476552Z"
    }
   },
   "id": "8a63e13b8e2f6e63"
  },
  {
   "cell_type": "markdown",
   "source": [
    "## How to get the items not common to both series A and series B?"
   ],
   "metadata": {
    "collapsed": false
   },
   "id": "3f98fe468db0f213"
  },
  {
   "cell_type": "code",
   "execution_count": 31,
   "outputs": [],
   "source": [
    "ser1 = pd.Series([1, 2, 3, 4, 5])\n",
    "ser2 = pd.Series([4, 5, 6, 7, 8])"
   ],
   "metadata": {
    "collapsed": false,
    "ExecuteTime": {
     "end_time": "2023-10-22T22:05:28.479652692Z",
     "start_time": "2023-10-22T22:05:28.476384157Z"
    }
   },
   "id": "e376df269d704747"
  },
  {
   "cell_type": "code",
   "execution_count": 32,
   "outputs": [
    {
     "name": "stdout",
     "output_type": "stream",
     "text": [
      "0    4\n",
      "1    5\n",
      "dtype: int64\n"
     ]
    }
   ],
   "source": [
    "ser_u = pd.Series(np.union1d(ser1, ser2))  # union / unique no repeat\n",
    "ser_i = pd.Series(np.intersect1d(ser1, ser2))  # intersect / common\n",
    "print(ser_i)"
   ],
   "metadata": {
    "collapsed": false,
    "ExecuteTime": {
     "end_time": "2023-10-22T22:05:28.659460123Z",
     "start_time": "2023-10-22T22:05:28.656513769Z"
    }
   },
   "id": "64590087e68e75ff"
  },
  {
   "cell_type": "code",
   "execution_count": 33,
   "outputs": [
    {
     "data": {
      "text/plain": "0    1\n1    2\n2    3\n5    6\n6    7\n7    8\ndtype: int64"
     },
     "execution_count": 33,
     "metadata": {},
     "output_type": "execute_result"
    }
   ],
   "source": [
    "ser_u[~ser_u.isin(ser_i)]"
   ],
   "metadata": {
    "collapsed": false,
    "ExecuteTime": {
     "end_time": "2023-10-22T22:05:28.842786054Z",
     "start_time": "2023-10-22T22:05:28.840322308Z"
    }
   },
   "id": "596a030782a9bc25"
  },
  {
   "cell_type": "code",
   "execution_count": 34,
   "outputs": [
    {
     "data": {
      "text/plain": "0     True\n1     True\n2     True\n3    False\n4    False\n5     True\n6     True\n7     True\ndtype: bool"
     },
     "execution_count": 34,
     "metadata": {},
     "output_type": "execute_result"
    }
   ],
   "source": [
    "~ser_u.isin(ser_i)"
   ],
   "metadata": {
    "collapsed": false,
    "ExecuteTime": {
     "end_time": "2023-10-22T22:05:29.083848960Z",
     "start_time": "2023-10-22T22:05:29.037814289Z"
    }
   },
   "id": "70e6c882fb3bc563"
  },
  {
   "cell_type": "code",
   "execution_count": 35,
   "outputs": [
    {
     "data": {
      "text/plain": "0    False\n1    False\n2    False\n3     True\n4     True\n5    False\n6    False\n7    False\ndtype: bool"
     },
     "execution_count": 35,
     "metadata": {},
     "output_type": "execute_result"
    }
   ],
   "source": [
    "ser_u.isin(ser_i)"
   ],
   "metadata": {
    "collapsed": false,
    "ExecuteTime": {
     "end_time": "2023-10-22T22:05:29.281036712Z",
     "start_time": "2023-10-22T22:05:29.265965649Z"
    }
   },
   "id": "38a4ef1991dd59df"
  },
  {
   "cell_type": "markdown",
   "source": [
    "## How to get the minimum, 25th percentile, median, 75th, and max of a numeric series?"
   ],
   "metadata": {
    "collapsed": false
   },
   "id": "e22fe6370bdd557d"
  },
  {
   "cell_type": "code",
   "execution_count": 36,
   "outputs": [],
   "source": [
    "ser = pd.Series(np.random.normal(10, 5, 25))"
   ],
   "metadata": {
    "collapsed": false,
    "ExecuteTime": {
     "end_time": "2023-10-22T22:05:30.163258583Z",
     "start_time": "2023-10-22T22:05:30.145919611Z"
    }
   },
   "id": "bc853538c1bc0cd3"
  },
  {
   "cell_type": "code",
   "execution_count": 37,
   "outputs": [
    {
     "name": "stdout",
     "output_type": "stream",
     "text": [
      "0      7.297011\n",
      "1      8.530715\n",
      "2      6.466971\n",
      "3      9.066038\n",
      "4      8.741166\n",
      "5      9.621535\n",
      "6     13.170319\n",
      "7     11.700705\n",
      "8      6.460049\n",
      "9      7.993254\n",
      "10     1.964238\n",
      "11    17.779239\n",
      "12    13.535066\n",
      "13     3.843639\n",
      "14    23.118758\n",
      "15     5.523505\n",
      "16     5.065392\n",
      "17     7.541536\n",
      "18     6.057875\n",
      "19     6.553236\n",
      "20    10.706587\n",
      "21     8.177666\n",
      "22    13.571916\n",
      "23     5.164086\n",
      "24     8.352853\n",
      "dtype: float64\n"
     ]
    }
   ],
   "source": [
    "print(ser)"
   ],
   "metadata": {
    "collapsed": false,
    "ExecuteTime": {
     "end_time": "2023-10-22T22:05:30.451309231Z",
     "start_time": "2023-10-22T22:05:30.448521837Z"
    }
   },
   "id": "4a631bd5f2ea14fc"
  },
  {
   "cell_type": "code",
   "execution_count": 38,
   "outputs": [
    {
     "data": {
      "text/plain": "array([ 1.96423848,  6.46004877,  8.17766611, 10.7065872 , 23.11875793])"
     },
     "execution_count": 38,
     "metadata": {},
     "output_type": "execute_result"
    }
   ],
   "source": [
    "np.percentile(ser, q=[0, 25, 50, 75, 100])"
   ],
   "metadata": {
    "collapsed": false,
    "ExecuteTime": {
     "end_time": "2023-10-22T22:05:30.711190857Z",
     "start_time": "2023-10-22T22:05:30.707748905Z"
    }
   },
   "id": "4acf2cd9b4bef5e1"
  },
  {
   "cell_type": "code",
   "execution_count": 39,
   "outputs": [
    {
     "data": {
      "text/plain": "count    25.000000\nmean      9.040134\nstd       4.560412\nmin       1.964238\n25%       6.460049\n50%       8.177666\n75%      10.706587\nmax      23.118758\ndtype: float64"
     },
     "execution_count": 39,
     "metadata": {},
     "output_type": "execute_result"
    }
   ],
   "source": [
    "ser.describe()"
   ],
   "metadata": {
    "collapsed": false,
    "ExecuteTime": {
     "end_time": "2023-10-22T22:05:31.071296649Z",
     "start_time": "2023-10-22T22:05:31.061192189Z"
    }
   },
   "id": "6b799e79e03fa59d"
  },
  {
   "cell_type": "markdown",
   "source": [
    "## How to get frequency counts of unique items of a series?"
   ],
   "metadata": {
    "collapsed": false
   },
   "id": "62ba69005d0ac07b"
  },
  {
   "cell_type": "code",
   "execution_count": 40,
   "outputs": [],
   "source": [
    "ser = pd.Series(np.take(list('abcdefgh'), np.random.randint(8, size=30)))"
   ],
   "metadata": {
    "collapsed": false,
    "ExecuteTime": {
     "end_time": "2023-10-22T22:05:31.841954761Z",
     "start_time": "2023-10-22T22:05:31.838077134Z"
    }
   },
   "id": "375677cb53d51a9e"
  },
  {
   "cell_type": "code",
   "execution_count": 43,
   "outputs": [
    {
     "data": {
      "text/plain": "g    7\nd    6\nb    5\na    4\nf    3\nh    3\ne    2\nName: count, dtype: int64"
     },
     "execution_count": 43,
     "metadata": {},
     "output_type": "execute_result"
    }
   ],
   "source": [
    "ser.value_counts()"
   ],
   "metadata": {
    "collapsed": false,
    "ExecuteTime": {
     "end_time": "2023-10-22T22:05:48.206664066Z",
     "start_time": "2023-10-22T22:05:48.163560582Z"
    }
   },
   "id": "3b70cab4b925dd47"
  },
  {
   "cell_type": "markdown",
   "source": [
    "# How to keep only top 2 most frequent values as it is and replace everything else as Other?"
   ],
   "metadata": {
    "collapsed": false
   },
   "id": "49f8670523841130"
  },
  {
   "cell_type": "code",
   "execution_count": 45,
   "outputs": [],
   "source": [
    "np.random.RandomState(100)\n",
    "#cria uma Series chamada ser que contém 12 números inteiros aleatórios entre 1 e 4.\n",
    "ser = pd.Series(np.random.randint(1, 5, [12]))"
   ],
   "metadata": {
    "collapsed": false,
    "ExecuteTime": {
     "end_time": "2023-10-22T22:07:07.188998917Z",
     "start_time": "2023-10-22T22:07:07.176787800Z"
    }
   },
   "id": "703e073d859b9bf4"
  },
  {
   "cell_type": "code",
   "execution_count": 55,
   "outputs": [],
   "source": [
    "# ser.value_counts().index[:2] retorna os dois índices com as maiores contagens.\n",
    "# ~ser.isin(ser.value_counts().index[:2]) retorna uma Series booleana que é True para os valores em ser que não estão nos dois índices com as maiores contagens\n",
    "# ser[~ser.isin(ser.value_counts().index[:2])] = 'Other' substitui todos os valores em ser que não estão nos dois índices com as maiores contagens por 'Other'."
   ],
   "metadata": {
    "collapsed": false,
    "ExecuteTime": {
     "end_time": "2023-10-22T22:15:14.141098003Z",
     "start_time": "2023-10-22T22:15:14.127055683Z"
    }
   },
   "id": "fa334f473f877733"
  },
  {
   "cell_type": "code",
   "execution_count": 57,
   "outputs": [
    {
     "name": "stdout",
     "output_type": "stream",
     "text": [
      "Top 2 freq: Other    7\n",
      "2        5\n",
      "Name: count, dtype: int64\n"
     ]
    },
    {
     "data": {
      "text/plain": "0     Other\n1         2\n2     Other\n3     Other\n4     Other\n5         2\n6     Other\n7     Other\n8         2\n9         2\n10    Other\n11        2\ndtype: object"
     },
     "execution_count": 57,
     "metadata": {},
     "output_type": "execute_result"
    }
   ],
   "source": [
    "print(\"Top 2 freq:\", ser.value_counts())\n",
    "ser[~ser.isin(ser.value_counts().index[:2])] = 'Other'\n",
    "ser"
   ],
   "metadata": {
    "collapsed": false,
    "ExecuteTime": {
     "end_time": "2023-10-22T22:15:25.962020109Z",
     "start_time": "2023-10-22T22:15:25.951822677Z"
    }
   },
   "id": "bb80b66a9624c5ff"
  },
  {
   "cell_type": "markdown",
   "source": [
    "# How to bin a numeric series to 10 groups of equal size?"
   ],
   "metadata": {
    "collapsed": false
   },
   "id": "8ea9e2d45fb728b3"
  },
  {
   "cell_type": "code",
   "execution_count": 60,
   "outputs": [
    {
     "name": "stdout",
     "output_type": "stream",
     "text": [
      "0    0.052151\n",
      "1    0.618334\n",
      "2    0.324701\n",
      "3    0.601158\n",
      "4    0.655394\n",
      "dtype: float64\n"
     ]
    }
   ],
   "source": [
    "ser = pd.Series(np.random.random(20))\n",
    "print(ser.head())"
   ],
   "metadata": {
    "collapsed": false,
    "ExecuteTime": {
     "end_time": "2023-10-22T22:17:48.656438154Z",
     "start_time": "2023-10-22T22:17:48.609498064Z"
    }
   },
   "id": "a26db1a212879659"
  },
  {
   "cell_type": "code",
   "execution_count": 62,
   "outputs": [
    {
     "data": {
      "text/plain": "0      1st\n1      8th\n2      4th\n3      7th\n4      8th\n5      5th\n6      6th\n7      1st\n8      2nd\n9      3rd\n10     4th\n11     6th\n12     3rd\n13    10th\n14     9th\n15     5th\n16    10th\n17     9th\n18     2nd\n19     7th\ndtype: category\nCategories (10, object): ['1st' < '2nd' < '3rd' < '4th' ... '7th' < '8th' < '9th' < '10th']"
     },
     "execution_count": 62,
     "metadata": {},
     "output_type": "execute_result"
    }
   ],
   "source": [
    "pd.qcut(ser, q=[0, .10, .20, .3, .4, .5, .6, .7, .8, .9, 1], labels=['1st', '2nd', '3rd', '4th', '5th', '6th', '7th', '8th', '9th', '10th'])"
   ],
   "metadata": {
    "collapsed": false,
    "ExecuteTime": {
     "end_time": "2023-10-22T22:18:51.516743328Z",
     "start_time": "2023-10-22T22:18:51.472244769Z"
    }
   },
   "id": "6ee4dd4ff96f6a11"
  },
  {
   "cell_type": "code",
   "execution_count": null,
   "outputs": [],
   "source": [],
   "metadata": {
    "collapsed": false
   },
   "id": "cbc39405fe867c8f"
  }
 ],
 "metadata": {
  "kernelspec": {
   "display_name": "Python 3",
   "language": "python",
   "name": "python3"
  },
  "language_info": {
   "codemirror_mode": {
    "name": "ipython",
    "version": 2
   },
   "file_extension": ".py",
   "mimetype": "text/x-python",
   "name": "python",
   "nbconvert_exporter": "python",
   "pygments_lexer": "ipython2",
   "version": "2.7.6"
  }
 },
 "nbformat": 4,
 "nbformat_minor": 5
}
