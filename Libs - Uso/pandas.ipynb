{
 "cells": [
  {
   "cell_type": "code",
   "execution_count": 1,
   "id": "initial_id",
   "metadata": {
    "collapsed": true,
    "ExecuteTime": {
     "end_time": "2023-10-24T01:11:52.249465883Z",
     "start_time": "2023-10-24T01:11:51.738271425Z"
    }
   },
   "outputs": [],
   "source": [
    "import pandas as pd\n",
    "import numpy as np"
   ]
  },
  {
   "cell_type": "code",
   "execution_count": 2,
   "outputs": [],
   "source": [
    "mylist = list('abcedfghijklmnopqrstuvwxyz')\n",
    "myarr = np.arange(26)\n",
    "mydict = dict(zip(mylist, myarr))\n",
    "ser = pd.Series(mydict)\n"
   ],
   "metadata": {
    "collapsed": false,
    "ExecuteTime": {
     "end_time": "2023-10-24T01:11:52.271649044Z",
     "start_time": "2023-10-24T01:11:52.245014766Z"
    }
   },
   "id": "48cb3d19d133df23"
  },
  {
   "cell_type": "markdown",
   "source": [
    "## How to convert the index of a series into a column of a dataframe?"
   ],
   "metadata": {
    "collapsed": false
   },
   "id": "3c2dc2c9bbf0f27c"
  },
  {
   "cell_type": "code",
   "execution_count": 3,
   "outputs": [
    {
     "name": "stdout",
     "output_type": "stream",
     "text": [
      "  index  0\n",
      "0     a  0\n",
      "1     b  1\n",
      "2     c  2\n",
      "3     e  3\n",
      "4     d  4\n"
     ]
    }
   ],
   "source": [
    "df = ser.to_frame().reset_index()\n",
    "print(df.head())"
   ],
   "metadata": {
    "collapsed": false,
    "ExecuteTime": {
     "end_time": "2023-10-24T01:11:52.273321242Z",
     "start_time": "2023-10-24T01:11:52.245413471Z"
    }
   },
   "id": "5d313d20e4710c18"
  },
  {
   "cell_type": "markdown",
   "source": [
    "## How to combine many series to form a dataframe?"
   ],
   "metadata": {
    "collapsed": false
   },
   "id": "87c5a5d95354bb0"
  },
  {
   "cell_type": "code",
   "execution_count": 4,
   "outputs": [],
   "source": [
    "ser1 = pd.Series(list('abcedfghijklmnopqrstuvwxyz'))\n",
    "ser2 = pd.Series(np.arange(26))"
   ],
   "metadata": {
    "collapsed": false,
    "ExecuteTime": {
     "end_time": "2023-10-24T01:11:52.273566024Z",
     "start_time": "2023-10-24T01:11:52.246022876Z"
    }
   },
   "id": "cd7c9665dd27cdb7"
  },
  {
   "cell_type": "code",
   "execution_count": 5,
   "outputs": [
    {
     "name": "stdout",
     "output_type": "stream",
     "text": [
      "   0  1\n",
      "0  a  0\n",
      "1  b  1\n",
      "2  c  2\n",
      "3  e  3\n",
      "4  d  4\n"
     ]
    }
   ],
   "source": [
    "df = pd.concat([ser1, ser2], axis=1)\n",
    "print(df.head())"
   ],
   "metadata": {
    "collapsed": false,
    "ExecuteTime": {
     "end_time": "2023-10-24T01:11:52.273895379Z",
     "start_time": "2023-10-24T01:11:52.246311516Z"
    }
   },
   "id": "dca5484d54bad62d"
  },
  {
   "cell_type": "markdown",
   "source": [
    "## How to assign name to the series’ index?"
   ],
   "metadata": {
    "collapsed": false
   },
   "id": "29e705b553cbf95d"
  },
  {
   "cell_type": "code",
   "execution_count": 6,
   "outputs": [
    {
     "data": {
      "text/plain": "0    a\n1    b\n2    c\n3    e\n4    d\nName: alphabets, dtype: object"
     },
     "execution_count": 6,
     "metadata": {},
     "output_type": "execute_result"
    }
   ],
   "source": [
    "ser = pd.Series(list('abcedfghijklmnopqrstuvwxyz'))\n",
    "ser.name = 'alphabets'\n",
    "ser.head()"
   ],
   "metadata": {
    "collapsed": false,
    "ExecuteTime": {
     "end_time": "2023-10-24T01:11:52.281070591Z",
     "start_time": "2023-10-24T01:11:52.246538908Z"
    }
   },
   "id": "cbb4c05287f238aa"
  },
  {
   "cell_type": "markdown",
   "source": [
    "## How to get the items of series A not present in series B?"
   ],
   "metadata": {
    "collapsed": false
   },
   "id": "492a86174a5ab835"
  },
  {
   "cell_type": "code",
   "execution_count": 7,
   "outputs": [
    {
     "data": {
      "text/plain": "0    1\n1    2\n2    3\nName: ser1, dtype: int64"
     },
     "execution_count": 7,
     "metadata": {},
     "output_type": "execute_result"
    }
   ],
   "source": [
    "ser1 = pd.Series([1, 2, 3, 4, 5])\n",
    "ser2 = pd.Series([4, 5, 6, 7, 8])\n",
    "ser1.name = 'ser1'\n",
    "# isin() valida se o valor está presente na série, e o ~ inverte o resultado\n",
    "ser1[~ser1.isin(ser2)]"
   ],
   "metadata": {
    "collapsed": false,
    "ExecuteTime": {
     "end_time": "2023-10-24T01:11:52.283107762Z",
     "start_time": "2023-10-24T01:11:52.246982169Z"
    }
   },
   "id": "8a63e13b8e2f6e63"
  },
  {
   "cell_type": "markdown",
   "source": [
    "## How to get the items not common to both series A and series B?"
   ],
   "metadata": {
    "collapsed": false
   },
   "id": "3f98fe468db0f213"
  },
  {
   "cell_type": "code",
   "execution_count": 8,
   "outputs": [],
   "source": [
    "ser1 = pd.Series([1, 2, 3, 4, 5])\n",
    "ser2 = pd.Series([4, 5, 6, 7, 8])"
   ],
   "metadata": {
    "collapsed": false,
    "ExecuteTime": {
     "end_time": "2023-10-24T01:11:52.284078718Z",
     "start_time": "2023-10-24T01:11:52.255161161Z"
    }
   },
   "id": "e376df269d704747"
  },
  {
   "cell_type": "code",
   "execution_count": 9,
   "outputs": [
    {
     "name": "stdout",
     "output_type": "stream",
     "text": [
      "0    4\n",
      "1    5\n",
      "dtype: int64\n"
     ]
    }
   ],
   "source": [
    "ser_u = pd.Series(np.union1d(ser1, ser2))  # union / unique no repeat\n",
    "ser_i = pd.Series(np.intersect1d(ser1, ser2))  # intersect / common\n",
    "print(ser_i)"
   ],
   "metadata": {
    "collapsed": false,
    "ExecuteTime": {
     "end_time": "2023-10-24T01:11:52.384613612Z",
     "start_time": "2023-10-24T01:11:52.262915679Z"
    }
   },
   "id": "64590087e68e75ff"
  },
  {
   "cell_type": "code",
   "execution_count": 10,
   "outputs": [
    {
     "data": {
      "text/plain": "0    1\n1    2\n2    3\n5    6\n6    7\n7    8\ndtype: int64"
     },
     "execution_count": 10,
     "metadata": {},
     "output_type": "execute_result"
    }
   ],
   "source": [
    "ser_u[~ser_u.isin(ser_i)]"
   ],
   "metadata": {
    "collapsed": false,
    "ExecuteTime": {
     "end_time": "2023-10-24T01:11:52.423840076Z",
     "start_time": "2023-10-24T01:11:52.271188323Z"
    }
   },
   "id": "596a030782a9bc25"
  },
  {
   "cell_type": "code",
   "execution_count": 11,
   "outputs": [
    {
     "data": {
      "text/plain": "0     True\n1     True\n2     True\n3    False\n4    False\n5     True\n6     True\n7     True\ndtype: bool"
     },
     "execution_count": 11,
     "metadata": {},
     "output_type": "execute_result"
    }
   ],
   "source": [
    "~ser_u.isin(ser_i)"
   ],
   "metadata": {
    "collapsed": false,
    "ExecuteTime": {
     "end_time": "2023-10-24T01:11:52.437131898Z",
     "start_time": "2023-10-24T01:11:52.280153271Z"
    }
   },
   "id": "70e6c882fb3bc563"
  },
  {
   "cell_type": "code",
   "execution_count": 12,
   "outputs": [
    {
     "data": {
      "text/plain": "0    False\n1    False\n2    False\n3     True\n4     True\n5    False\n6    False\n7    False\ndtype: bool"
     },
     "execution_count": 12,
     "metadata": {},
     "output_type": "execute_result"
    }
   ],
   "source": [
    "ser_u.isin(ser_i)"
   ],
   "metadata": {
    "collapsed": false,
    "ExecuteTime": {
     "end_time": "2023-10-24T01:11:52.438061580Z",
     "start_time": "2023-10-24T01:11:52.288776851Z"
    }
   },
   "id": "38a4ef1991dd59df"
  },
  {
   "cell_type": "markdown",
   "source": [
    "## How to get the minimum, 25th percentile, median, 75th, and max of a numeric series?"
   ],
   "metadata": {
    "collapsed": false
   },
   "id": "e22fe6370bdd557d"
  },
  {
   "cell_type": "code",
   "execution_count": 13,
   "outputs": [],
   "source": [
    "ser = pd.Series(np.random.normal(10, 5, 25))"
   ],
   "metadata": {
    "collapsed": false,
    "ExecuteTime": {
     "end_time": "2023-10-24T01:11:52.440156926Z",
     "start_time": "2023-10-24T01:11:52.297046562Z"
    }
   },
   "id": "bc853538c1bc0cd3"
  },
  {
   "cell_type": "code",
   "execution_count": 14,
   "outputs": [
    {
     "name": "stdout",
     "output_type": "stream",
     "text": [
      "0      9.164891\n",
      "1      4.621890\n",
      "2      4.261217\n",
      "3     15.964626\n",
      "4      1.204652\n",
      "5     12.030346\n",
      "6      4.722124\n",
      "7      5.856227\n",
      "8     20.578387\n",
      "9      8.718009\n",
      "10    14.912550\n",
      "11    -0.235066\n",
      "12    -2.732618\n",
      "13    -0.310633\n",
      "14     2.930576\n",
      "15    16.271006\n",
      "16    12.420679\n",
      "17    14.192814\n",
      "18     8.620373\n",
      "19    13.406398\n",
      "20    11.580480\n",
      "21     5.462625\n",
      "22     6.477577\n",
      "23    17.648936\n",
      "24    21.167628\n",
      "dtype: float64\n"
     ]
    }
   ],
   "source": [
    "print(ser)"
   ],
   "metadata": {
    "collapsed": false,
    "ExecuteTime": {
     "end_time": "2023-10-24T01:11:52.440936526Z",
     "start_time": "2023-10-24T01:11:52.340903906Z"
    }
   },
   "id": "4a631bd5f2ea14fc"
  },
  {
   "cell_type": "code",
   "execution_count": 15,
   "outputs": [
    {
     "data": {
      "text/plain": "array([-2.73261767,  4.62189028,  8.71800926, 14.19281434, 21.16762767])"
     },
     "execution_count": 15,
     "metadata": {},
     "output_type": "execute_result"
    }
   ],
   "source": [
    "np.percentile(ser, q=[0, 25, 50, 75, 100])"
   ],
   "metadata": {
    "collapsed": false,
    "ExecuteTime": {
     "end_time": "2023-10-24T01:11:52.441466176Z",
     "start_time": "2023-10-24T01:11:52.341224881Z"
    }
   },
   "id": "4acf2cd9b4bef5e1"
  },
  {
   "cell_type": "code",
   "execution_count": 16,
   "outputs": [
    {
     "data": {
      "text/plain": "count    25.000000\nmean      9.157428\nstd       6.654319\nmin      -2.732618\n25%       4.621890\n50%       8.718009\n75%      14.192814\nmax      21.167628\ndtype: float64"
     },
     "execution_count": 16,
     "metadata": {},
     "output_type": "execute_result"
    }
   ],
   "source": [
    "ser.describe()"
   ],
   "metadata": {
    "collapsed": false,
    "ExecuteTime": {
     "end_time": "2023-10-24T01:11:52.441957695Z",
     "start_time": "2023-10-24T01:11:52.341421195Z"
    }
   },
   "id": "6b799e79e03fa59d"
  },
  {
   "cell_type": "markdown",
   "source": [
    "## How to get frequency counts of unique items of a series?"
   ],
   "metadata": {
    "collapsed": false
   },
   "id": "62ba69005d0ac07b"
  },
  {
   "cell_type": "code",
   "execution_count": 17,
   "outputs": [],
   "source": [
    "ser = pd.Series(np.take(list('abcdefgh'), np.random.randint(8, size=30)))"
   ],
   "metadata": {
    "collapsed": false,
    "ExecuteTime": {
     "end_time": "2023-10-24T01:11:52.442538676Z",
     "start_time": "2023-10-24T01:11:52.341593694Z"
    }
   },
   "id": "375677cb53d51a9e"
  },
  {
   "cell_type": "code",
   "execution_count": 18,
   "outputs": [
    {
     "data": {
      "text/plain": "h    6\nf    5\na    5\ne    4\nc    3\nd    3\nb    2\ng    2\nName: count, dtype: int64"
     },
     "execution_count": 18,
     "metadata": {},
     "output_type": "execute_result"
    }
   ],
   "source": [
    "ser.value_counts()"
   ],
   "metadata": {
    "collapsed": false,
    "ExecuteTime": {
     "end_time": "2023-10-24T01:11:52.443044233Z",
     "start_time": "2023-10-24T01:11:52.341760467Z"
    }
   },
   "id": "3b70cab4b925dd47"
  },
  {
   "cell_type": "markdown",
   "source": [
    "# How to keep only top 2 most frequent values as it is and replace everything else as Other?"
   ],
   "metadata": {
    "collapsed": false
   },
   "id": "49f8670523841130"
  },
  {
   "cell_type": "code",
   "execution_count": 19,
   "outputs": [],
   "source": [
    "np.random.RandomState(100)\n",
    "#cria uma Series chamada ser que contém 12 números inteiros aleatórios entre 1 e 4.\n",
    "ser = pd.Series(np.random.randint(1, 5, [12]))"
   ],
   "metadata": {
    "collapsed": false,
    "ExecuteTime": {
     "end_time": "2023-10-24T01:11:52.452163801Z",
     "start_time": "2023-10-24T01:11:52.350233826Z"
    }
   },
   "id": "703e073d859b9bf4"
  },
  {
   "cell_type": "code",
   "execution_count": 20,
   "outputs": [],
   "source": [
    "# ser.value_counts().index[:2] retorna os dois índices com as maiores contagens.\n",
    "# ~ser.isin(ser.value_counts().index[:2]) retorna uma Series booleana que é True para os valores em ser que não estão nos dois índices com as maiores contagens\n",
    "# ser[~ser.isin(ser.value_counts().index[:2])] = 'Other' substitui todos os valores em ser que não estão nos dois índices com as maiores contagens por 'Other'."
   ],
   "metadata": {
    "collapsed": false,
    "ExecuteTime": {
     "end_time": "2023-10-24T01:11:52.452562994Z",
     "start_time": "2023-10-24T01:11:52.394378273Z"
    }
   },
   "id": "fa334f473f877733"
  },
  {
   "cell_type": "code",
   "execution_count": 21,
   "outputs": [
    {
     "name": "stdout",
     "output_type": "stream",
     "text": [
      "Top 2 freq: 2    7\n",
      "4    2\n",
      "1    2\n",
      "3    1\n",
      "Name: count, dtype: int64\n"
     ]
    },
    {
     "name": "stderr",
     "output_type": "stream",
     "text": [
      "/tmp/ipykernel_83266/1646089746.py:2: FutureWarning: Setting an item of incompatible dtype is deprecated and will raise in a future error of pandas. Value 'Other' has dtype incompatible with int64, please explicitly cast to a compatible dtype first.\n",
      "  ser[~ser.isin(ser.value_counts().index[:2])] = 'Other'\n"
     ]
    },
    {
     "data": {
      "text/plain": "0         2\n1         2\n2         2\n3         2\n4         2\n5         2\n6         4\n7         4\n8     Other\n9     Other\n10    Other\n11        2\ndtype: object"
     },
     "execution_count": 21,
     "metadata": {},
     "output_type": "execute_result"
    }
   ],
   "source": [
    "print(\"Top 2 freq:\", ser.value_counts())\n",
    "ser[~ser.isin(ser.value_counts().index[:2])] = 'Other'\n",
    "ser"
   ],
   "metadata": {
    "collapsed": false,
    "ExecuteTime": {
     "end_time": "2023-10-24T01:11:52.453483877Z",
     "start_time": "2023-10-24T01:11:52.394963305Z"
    }
   },
   "id": "bb80b66a9624c5ff"
  },
  {
   "cell_type": "markdown",
   "source": [
    "# How to bin a numeric series to 10 groups of equal size?"
   ],
   "metadata": {
    "collapsed": false
   },
   "id": "8ea9e2d45fb728b3"
  },
  {
   "cell_type": "code",
   "execution_count": 22,
   "outputs": [
    {
     "name": "stdout",
     "output_type": "stream",
     "text": [
      "0    0.126737\n",
      "1    0.119945\n",
      "2    0.541650\n",
      "3    0.668392\n",
      "4    0.749375\n",
      "dtype: float64\n"
     ]
    }
   ],
   "source": [
    "ser = pd.Series(np.random.random(20))\n",
    "print(ser.head())"
   ],
   "metadata": {
    "collapsed": false,
    "ExecuteTime": {
     "end_time": "2023-10-24T01:11:52.453813651Z",
     "start_time": "2023-10-24T01:11:52.395440367Z"
    }
   },
   "id": "a26db1a212879659"
  },
  {
   "cell_type": "code",
   "execution_count": 23,
   "outputs": [
    {
     "data": {
      "text/plain": "0      2nd\n1      2nd\n2      6th\n3      7th\n4      8th\n5      1st\n6     10th\n7      5th\n8      8th\n9      4th\n10    10th\n11     9th\n12     7th\n13     3rd\n14     5th\n15     9th\n16     4th\n17     1st\n18     6th\n19     3rd\ndtype: category\nCategories (10, object): ['1st' < '2nd' < '3rd' < '4th' ... '7th' < '8th' < '9th' < '10th']"
     },
     "execution_count": 23,
     "metadata": {},
     "output_type": "execute_result"
    }
   ],
   "source": [
    "pd.qcut(ser, q=[0, .10, .20, .3, .4, .5, .6, .7, .8, .9, 1], labels=['1st', '2nd', '3rd', '4th', '5th', '6th', '7th', '8th', '9th', '10th'])"
   ],
   "metadata": {
    "collapsed": false,
    "ExecuteTime": {
     "end_time": "2023-10-24T01:11:52.454231072Z",
     "start_time": "2023-10-24T01:11:52.395711338Z"
    }
   },
   "id": "6ee4dd4ff96f6a11"
  },
  {
   "cell_type": "markdown",
   "source": [
    "# How to convert a numpy array to a dataframe of given shape?"
   ],
   "metadata": {
    "collapsed": false
   },
   "id": "b43f7c77bee9de45"
  },
  {
   "cell_type": "code",
   "execution_count": 24,
   "outputs": [
    {
     "name": "stdout",
     "output_type": "stream",
     "text": [
      "0    8\n",
      "1    5\n",
      "2    7\n",
      "3    8\n",
      "4    2\n",
      "dtype: int64\n"
     ]
    }
   ],
   "source": [
    "ser = pd.Series(np.random.randint(1, 10, 35))\n",
    "print(ser.head())"
   ],
   "metadata": {
    "collapsed": false,
    "ExecuteTime": {
     "end_time": "2023-10-24T01:11:52.454677336Z",
     "start_time": "2023-10-24T01:11:52.397442758Z"
    }
   },
   "id": "cbc39405fe867c8f"
  },
  {
   "cell_type": "code",
   "execution_count": 25,
   "outputs": [
    {
     "name": "stdout",
     "output_type": "stream",
     "text": [
      "[[8 5 7 8 2]\n",
      " [7 7 3 2 5]\n",
      " [1 5 9 5 4]\n",
      " [5 7 5 4 8]\n",
      " [4 8 3 6 3]\n",
      " [6 4 3 8 4]\n",
      " [6 7 1 1 7]]\n"
     ]
    }
   ],
   "source": [
    "teste = ser.values.reshape(7, 5)\n",
    "print(teste)"
   ],
   "metadata": {
    "collapsed": false,
    "ExecuteTime": {
     "end_time": "2023-10-24T01:11:52.648500677Z",
     "start_time": "2023-10-24T01:11:52.404918413Z"
    }
   },
   "id": "cf3b4bd8e8deff00"
  },
  {
   "cell_type": "code",
   "execution_count": 26,
   "outputs": [
    {
     "name": "stdout",
     "output_type": "stream",
     "text": [
      "[7 7 3 2 5]\n"
     ]
    }
   ],
   "source": [
    "print(teste[1])"
   ],
   "metadata": {
    "collapsed": false,
    "ExecuteTime": {
     "end_time": "2023-10-24T01:11:52.648987586Z",
     "start_time": "2023-10-24T01:11:52.447633838Z"
    }
   },
   "id": "5a59dcaa48fc0e98"
  },
  {
   "cell_type": "code",
   "execution_count": 27,
   "outputs": [],
   "source": [
    "df = pd.DataFrame(ser.values.reshape(7, 5))"
   ],
   "metadata": {
    "collapsed": false,
    "ExecuteTime": {
     "end_time": "2023-10-24T01:11:52.649211347Z",
     "start_time": "2023-10-24T01:11:52.447995807Z"
    }
   },
   "id": "6a1ab4f164585303"
  },
  {
   "cell_type": "code",
   "execution_count": 28,
   "outputs": [
    {
     "data": {
      "text/plain": "   0  1  2  3  4\n0  8  5  7  8  2\n1  7  7  3  2  5\n2  1  5  9  5  4\n3  5  7  5  4  8\n4  4  8  3  6  3\n5  6  4  3  8  4\n6  6  7  1  1  7",
      "text/html": "<div>\n<style scoped>\n    .dataframe tbody tr th:only-of-type {\n        vertical-align: middle;\n    }\n\n    .dataframe tbody tr th {\n        vertical-align: top;\n    }\n\n    .dataframe thead th {\n        text-align: right;\n    }\n</style>\n<table border=\"1\" class=\"dataframe\">\n  <thead>\n    <tr style=\"text-align: right;\">\n      <th></th>\n      <th>0</th>\n      <th>1</th>\n      <th>2</th>\n      <th>3</th>\n      <th>4</th>\n    </tr>\n  </thead>\n  <tbody>\n    <tr>\n      <th>0</th>\n      <td>8</td>\n      <td>5</td>\n      <td>7</td>\n      <td>8</td>\n      <td>2</td>\n    </tr>\n    <tr>\n      <th>1</th>\n      <td>7</td>\n      <td>7</td>\n      <td>3</td>\n      <td>2</td>\n      <td>5</td>\n    </tr>\n    <tr>\n      <th>2</th>\n      <td>1</td>\n      <td>5</td>\n      <td>9</td>\n      <td>5</td>\n      <td>4</td>\n    </tr>\n    <tr>\n      <th>3</th>\n      <td>5</td>\n      <td>7</td>\n      <td>5</td>\n      <td>4</td>\n      <td>8</td>\n    </tr>\n    <tr>\n      <th>4</th>\n      <td>4</td>\n      <td>8</td>\n      <td>3</td>\n      <td>6</td>\n      <td>3</td>\n    </tr>\n    <tr>\n      <th>5</th>\n      <td>6</td>\n      <td>4</td>\n      <td>3</td>\n      <td>8</td>\n      <td>4</td>\n    </tr>\n    <tr>\n      <th>6</th>\n      <td>6</td>\n      <td>7</td>\n      <td>1</td>\n      <td>1</td>\n      <td>7</td>\n    </tr>\n  </tbody>\n</table>\n</div>"
     },
     "execution_count": 28,
     "metadata": {},
     "output_type": "execute_result"
    }
   ],
   "source": [
    "df"
   ],
   "metadata": {
    "collapsed": false,
    "ExecuteTime": {
     "end_time": "2023-10-24T01:11:52.650432602Z",
     "start_time": "2023-10-24T01:11:52.448172148Z"
    }
   },
   "id": "467f86f2998160a1"
  },
  {
   "cell_type": "markdown",
   "source": [
    "# How to find the positions of numbers that are multiples of 3 from a series?"
   ],
   "metadata": {
    "collapsed": false
   },
   "id": "76a34716f45d9a30"
  },
  {
   "cell_type": "code",
   "execution_count": 29,
   "outputs": [
    {
     "data": {
      "text/plain": "0    6\n1    2\n2    1\n3    5\n4    8\n5    3\n6    6\ndtype: int64"
     },
     "execution_count": 29,
     "metadata": {},
     "output_type": "execute_result"
    }
   ],
   "source": [
    "# cria uma Series chamada ser com 7 valores aleatórios entre 1 e 10.\n",
    "ser = pd.Series(np.random.randint(1, 10, 7))\n",
    "ser.head(7)"
   ],
   "metadata": {
    "collapsed": false,
    "ExecuteTime": {
     "end_time": "2023-10-24T01:11:52.650951078Z",
     "start_time": "2023-10-24T01:11:52.448407013Z"
    }
   },
   "id": "8db057977aa09eef"
  },
  {
   "cell_type": "code",
   "execution_count": 30,
   "outputs": [
    {
     "data": {
      "text/plain": "array([[0],\n       [5],\n       [6]])"
     },
     "execution_count": 30,
     "metadata": {},
     "output_type": "execute_result"
    }
   ],
   "source": [
    "np.argwhere(ser % 3==0) #retorna os índices dos valores em ser que são múltiplos de 3."
   ],
   "metadata": {
    "collapsed": false,
    "ExecuteTime": {
     "end_time": "2023-10-24T01:11:52.676728375Z",
     "start_time": "2023-10-24T01:11:52.449254286Z"
    }
   },
   "id": "f438fe6f8593a3cc"
  },
  {
   "cell_type": "markdown",
   "source": [
    "# How to extract items at given positions from a series"
   ],
   "metadata": {
    "collapsed": false
   },
   "id": "33dd83a9661f2917"
  },
  {
   "cell_type": "code",
   "execution_count": 31,
   "outputs": [],
   "source": [
    "# # ser = pd.Series(list('abcdefghijklmnopqrstuvwxyz'))\n",
    "# # ser = pd.Series(np.array(list('abcdefghijklmnopqrstuvwxyz')))\n",
    "# ser = pd.Series(np.array(list('abcdefghijklmnopqrstuvwxyz')))\n",
    "# pos = [0, 4, 8, 14, 20]\n",
    "# # pos"
   ],
   "metadata": {
    "collapsed": false,
    "ExecuteTime": {
     "end_time": "2023-10-24T01:11:52.677098236Z",
     "start_time": "2023-10-24T01:11:52.494224914Z"
    }
   },
   "id": "287a62f299d6cc95"
  },
  {
   "cell_type": "code",
   "execution_count": 32,
   "outputs": [],
   "source": [
    "# ser = pd.Series(np.array(list('abcdefghijklmnopqrstuvwxyz')))\n",
    "# pos = np.array(pos)\n",
    "# \n",
    "# print(ser[pos])\n"
   ],
   "metadata": {
    "collapsed": false,
    "ExecuteTime": {
     "end_time": "2023-10-24T01:11:52.677289243Z",
     "start_time": "2023-10-24T01:11:52.494697647Z"
    }
   },
   "id": "d3f2436931511026"
  },
  {
   "cell_type": "markdown",
   "source": [
    "# How to stack two series vertically and horizontally ?"
   ],
   "metadata": {
    "collapsed": false
   },
   "id": "f52282bcbe407c26"
  },
  {
   "cell_type": "code",
   "execution_count": 33,
   "outputs": [],
   "source": [
    "ser1 = pd.Series(range(5))\n",
    "ser2 = pd.Series(['a', 'b', 'c', 'd', 'e'])"
   ],
   "metadata": {
    "collapsed": false,
    "ExecuteTime": {
     "end_time": "2023-10-24T01:11:52.677437578Z",
     "start_time": "2023-10-24T01:11:52.495011359Z"
    }
   },
   "id": "291f0e5a382c74cb"
  },
  {
   "cell_type": "code",
   "execution_count": 34,
   "outputs": [
    {
     "data": {
      "text/plain": "   0  1\n0  0  a\n1  1  b\n2  2  c\n3  3  d\n4  4  e",
      "text/html": "<div>\n<style scoped>\n    .dataframe tbody tr th:only-of-type {\n        vertical-align: middle;\n    }\n\n    .dataframe tbody tr th {\n        vertical-align: top;\n    }\n\n    .dataframe thead th {\n        text-align: right;\n    }\n</style>\n<table border=\"1\" class=\"dataframe\">\n  <thead>\n    <tr style=\"text-align: right;\">\n      <th></th>\n      <th>0</th>\n      <th>1</th>\n    </tr>\n  </thead>\n  <tbody>\n    <tr>\n      <th>0</th>\n      <td>0</td>\n      <td>a</td>\n    </tr>\n    <tr>\n      <th>1</th>\n      <td>1</td>\n      <td>b</td>\n    </tr>\n    <tr>\n      <th>2</th>\n      <td>2</td>\n      <td>c</td>\n    </tr>\n    <tr>\n      <th>3</th>\n      <td>3</td>\n      <td>d</td>\n    </tr>\n    <tr>\n      <th>4</th>\n      <td>4</td>\n      <td>e</td>\n    </tr>\n  </tbody>\n</table>\n</div>"
     },
     "execution_count": 34,
     "metadata": {},
     "output_type": "execute_result"
    }
   ],
   "source": [
    "pd.concat([ser1, ser2], axis=1)"
   ],
   "metadata": {
    "collapsed": false,
    "ExecuteTime": {
     "end_time": "2023-10-24T01:11:52.678337439Z",
     "start_time": "2023-10-24T01:11:52.495233722Z"
    }
   },
   "id": "af0a42180a7db7e5"
  },
  {
   "cell_type": "markdown",
   "source": [
    "# How to get the positions of items of series A in another series B?"
   ],
   "metadata": {
    "collapsed": false
   },
   "id": "f5c9cf4e6c7f8573"
  },
  {
   "cell_type": "code",
   "execution_count": 35,
   "outputs": [],
   "source": [
    "ser1 = pd.Series([10, 9, 6, 5, 3, 1, 12, 8, 13])\n",
    "ser2 = pd.Series([1, 3, 10, 13])"
   ],
   "metadata": {
    "collapsed": false,
    "ExecuteTime": {
     "end_time": "2023-10-24T01:11:52.679156568Z",
     "start_time": "2023-10-24T01:11:52.504197902Z"
    }
   },
   "id": "b1494b8c59232a4c"
  },
  {
   "cell_type": "code",
   "execution_count": 36,
   "outputs": [
    {
     "data": {
      "text/plain": "[5, 4, 0, 8]"
     },
     "execution_count": 36,
     "metadata": {},
     "output_type": "execute_result"
    }
   ],
   "source": [
    "[np.where(i == ser1)[0].tolist()[0] for i in ser2]"
   ],
   "metadata": {
    "collapsed": false,
    "ExecuteTime": {
     "end_time": "2023-10-24T01:11:52.679512322Z",
     "start_time": "2023-10-24T01:11:52.547289752Z"
    }
   },
   "id": "1eef57c490b4b59f"
  },
  {
   "cell_type": "code",
   "execution_count": 37,
   "outputs": [
    {
     "data": {
      "text/plain": "[5, 4, 0, 8]"
     },
     "execution_count": 37,
     "metadata": {},
     "output_type": "execute_result"
    }
   ],
   "source": [
    "[pd.Index(ser1).get_loc(i) for i in ser2]"
   ],
   "metadata": {
    "collapsed": false,
    "ExecuteTime": {
     "end_time": "2023-10-24T01:11:52.679869962Z",
     "start_time": "2023-10-24T01:11:52.547592569Z"
    }
   },
   "id": "fa1b14a6d57a957f"
  },
  {
   "cell_type": "code",
   "execution_count": 38,
   "outputs": [
    {
     "name": "stdout",
     "output_type": "stream",
     "text": [
      "1\n",
      "3\n",
      "10\n",
      "13\n"
     ]
    }
   ],
   "source": [
    "for i in ser2:\n",
    "    print(i)"
   ],
   "metadata": {
    "collapsed": false,
    "ExecuteTime": {
     "end_time": "2023-10-24T01:11:52.680212516Z",
     "start_time": "2023-10-24T01:11:52.547834976Z"
    }
   },
   "id": "321ee251de4eab80"
  },
  {
   "cell_type": "code",
   "execution_count": 39,
   "outputs": [
    {
     "data": {
      "text/plain": "1"
     },
     "execution_count": 39,
     "metadata": {},
     "output_type": "execute_result"
    }
   ],
   "source": [
    "pd.Index(ser1).get_loc(9)"
   ],
   "metadata": {
    "collapsed": false,
    "ExecuteTime": {
     "end_time": "2023-10-24T01:11:52.680532374Z",
     "start_time": "2023-10-24T01:11:52.547981426Z"
    }
   },
   "id": "f68488957334419d"
  },
  {
   "cell_type": "markdown",
   "source": [
    "# How to compute the mean squared error on a truth and predicted series?"
   ],
   "metadata": {
    "collapsed": false
   },
   "id": "f0e0e4d1db3cc6ab"
  },
  {
   "cell_type": "code",
   "execution_count": 40,
   "outputs": [],
   "source": [
    "truth = pd.Series(range(10))\n",
    "pred = pd.Series(range(10)) + np.random.random(10) # cria uma Series com 10 valores, começando em 0 e terminando em 9. A cada valor é adicionado um valor aleatório entre 0 e 1."
   ],
   "metadata": {
    "collapsed": false,
    "ExecuteTime": {
     "end_time": "2023-10-24T01:11:52.680853628Z",
     "start_time": "2023-10-24T01:11:52.548114607Z"
    }
   },
   "id": "4f2c8c189ae30381"
  },
  {
   "cell_type": "code",
   "execution_count": 41,
   "outputs": [
    {
     "data": {
      "text/plain": "0.26738835270582173"
     },
     "execution_count": 41,
     "metadata": {},
     "output_type": "execute_result"
    }
   ],
   "source": [
    "np.mean((truth-pred)**2)"
   ],
   "metadata": {
    "collapsed": false,
    "ExecuteTime": {
     "end_time": "2023-10-24T01:11:52.692293839Z",
     "start_time": "2023-10-24T01:11:52.556130318Z"
    }
   },
   "id": "385bf2f28bfd2852"
  },
  {
   "cell_type": "code",
   "execution_count": 42,
   "outputs": [
    {
     "data": {
      "text/plain": "0   -0.561336\n1   -0.202666\n2   -0.216564\n3   -0.887173\n4   -0.485689\n5   -0.480932\n6   -0.290807\n7   -0.407182\n8   -0.289117\n9   -0.826192\ndtype: float64"
     },
     "execution_count": 42,
     "metadata": {},
     "output_type": "execute_result"
    }
   ],
   "source": [
    "truth - pred"
   ],
   "metadata": {
    "collapsed": false,
    "ExecuteTime": {
     "end_time": "2023-10-24T01:11:52.692969590Z",
     "start_time": "2023-10-24T01:11:52.597517077Z"
    }
   },
   "id": "ce09da88fc868289"
  },
  {
   "cell_type": "code",
   "execution_count": 43,
   "outputs": [
    {
     "data": {
      "text/plain": "0    0.315098\n1    0.041073\n2    0.046900\n3    0.787076\n4    0.235893\n5    0.231295\n6    0.084569\n7    0.165797\n8    0.083589\n9    0.682593\ndtype: float64"
     },
     "execution_count": 43,
     "metadata": {},
     "output_type": "execute_result"
    }
   ],
   "source": [
    "(truth - pred)**2"
   ],
   "metadata": {
    "collapsed": false,
    "ExecuteTime": {
     "end_time": "2023-10-24T01:11:52.693357470Z",
     "start_time": "2023-10-24T01:11:52.597827507Z"
    }
   },
   "id": "fff9f790b142faa0"
  },
  {
   "cell_type": "markdown",
   "source": [
    "# How to convert the first character of each element in a series to uppercase?"
   ],
   "metadata": {
    "collapsed": false
   },
   "id": "69f2188ef904f636"
  },
  {
   "cell_type": "code",
   "execution_count": 44,
   "outputs": [],
   "source": [
    "ser = pd.Series(['how', 'to', 'kick', 'ass?'])"
   ],
   "metadata": {
    "collapsed": false,
    "ExecuteTime": {
     "end_time": "2023-10-24T01:11:52.693544915Z",
     "start_time": "2023-10-24T01:11:52.597974865Z"
    }
   },
   "id": "2a1cba5c2f7e126c"
  },
  {
   "cell_type": "code",
   "execution_count": 45,
   "outputs": [
    {
     "data": {
      "text/plain": "0     How\n1      To\n2    Kick\n3    Ass?\ndtype: object"
     },
     "execution_count": 45,
     "metadata": {},
     "output_type": "execute_result"
    }
   ],
   "source": [
    "ser.map(lambda x: x.title())"
   ],
   "metadata": {
    "collapsed": false,
    "ExecuteTime": {
     "end_time": "2023-10-24T01:11:52.693897037Z",
     "start_time": "2023-10-24T01:11:52.598076828Z"
    }
   },
   "id": "c820f8f66d933417"
  },
  {
   "cell_type": "code",
   "execution_count": 46,
   "outputs": [
    {
     "data": {
      "text/plain": "0     How\n1      To\n2    Kick\n3    Ass?\ndtype: object"
     },
     "execution_count": 46,
     "metadata": {},
     "output_type": "execute_result"
    }
   ],
   "source": [
    "ser.map(lambda x: x[0].upper() + x[1:])"
   ],
   "metadata": {
    "collapsed": false,
    "ExecuteTime": {
     "end_time": "2023-10-24T01:11:52.694317042Z",
     "start_time": "2023-10-24T01:11:52.598241436Z"
    }
   },
   "id": "3bc70f729c58ccb5"
  },
  {
   "cell_type": "code",
   "execution_count": 47,
   "outputs": [
    {
     "data": {
      "text/plain": "0     How\n1      To\n2    Kick\n3    Ass?\ndtype: object"
     },
     "execution_count": 47,
     "metadata": {},
     "output_type": "execute_result"
    }
   ],
   "source": [
    "pd.Series([i.title() for i in ser])"
   ],
   "metadata": {
    "collapsed": false,
    "ExecuteTime": {
     "end_time": "2023-10-24T01:11:52.694769731Z",
     "start_time": "2023-10-24T01:11:52.606587270Z"
    }
   },
   "id": "94ae541027bf6ad8"
  },
  {
   "cell_type": "markdown",
   "source": [
    "# How to calculate the number of character in each word in a series"
   ],
   "metadata": {
    "collapsed": false
   },
   "id": "7491b3e6e71ed51f"
  },
  {
   "cell_type": "code",
   "execution_count": 48,
   "outputs": [],
   "source": [
    "ser = pd.Series(['how', 'to', 'kick', 'ass?'])"
   ],
   "metadata": {
    "collapsed": false,
    "ExecuteTime": {
     "end_time": "2023-10-24T01:11:52.694923863Z",
     "start_time": "2023-10-24T01:11:52.647356523Z"
    }
   },
   "id": "14aa20471ac8fb53"
  },
  {
   "cell_type": "code",
   "execution_count": 49,
   "outputs": [
    {
     "data": {
      "text/plain": "0    3\n1    2\n2    4\n3    4\ndtype: int64"
     },
     "execution_count": 49,
     "metadata": {},
     "output_type": "execute_result"
    }
   ],
   "source": [
    "ser.map(lambda x: len(x))"
   ],
   "metadata": {
    "collapsed": false,
    "ExecuteTime": {
     "end_time": "2023-10-24T01:11:52.695243721Z",
     "start_time": "2023-10-24T01:11:52.647605355Z"
    }
   },
   "id": "9dbc6990deaad10a"
  },
  {
   "cell_type": "markdown",
   "source": [
    "# How to compute difference of differences between consequtive numbers of a series?"
   ],
   "metadata": {
    "collapsed": false
   },
   "id": "f8be6c5690b76b35"
  },
  {
   "cell_type": "code",
   "execution_count": 50,
   "outputs": [],
   "source": [
    "ser = pd.Series([1, 3, 6, 10, 15, 21, 27, 35])"
   ],
   "metadata": {
    "collapsed": false,
    "ExecuteTime": {
     "end_time": "2023-10-24T01:11:52.695396805Z",
     "start_time": "2023-10-24T01:11:52.647999800Z"
    }
   },
   "id": "aaff921ba8a604e8"
  },
  {
   "cell_type": "code",
   "execution_count": 51,
   "outputs": [
    {
     "name": "stdout",
     "output_type": "stream",
     "text": [
      "[nan, 2.0, 3.0, 4.0, 5.0, 6.0, 6.0, 8.0]\n"
     ]
    }
   ],
   "source": [
    "print(ser.diff().tolist())"
   ],
   "metadata": {
    "collapsed": false,
    "ExecuteTime": {
     "end_time": "2023-10-24T01:11:52.695732586Z",
     "start_time": "2023-10-24T01:11:52.648128581Z"
    }
   },
   "id": "448ae58eb6f7337a"
  },
  {
   "cell_type": "code",
   "execution_count": 52,
   "outputs": [
    {
     "name": "stdout",
     "output_type": "stream",
     "text": [
      "[nan, nan, 1.0, 1.0, 1.0, 1.0, 0.0, 2.0]\n"
     ]
    }
   ],
   "source": [
    "print(ser.diff().diff().tolist())"
   ],
   "metadata": {
    "collapsed": false,
    "ExecuteTime": {
     "end_time": "2023-10-24T01:11:52.712514276Z",
     "start_time": "2023-10-24T01:11:52.648267488Z"
    }
   },
   "id": "86cfacd0b0891258"
  },
  {
   "cell_type": "markdown",
   "source": [
    "# How to convert a series of date-string to a timeseries?"
   ],
   "metadata": {
    "collapsed": false
   },
   "id": "bd30ac63af8ddb8"
  },
  {
   "cell_type": "code",
   "execution_count": 57,
   "outputs": [],
   "source": [
    "ser = pd.Series(['01 Jan 2010', '02-02-2011', '20120303', '2013/04/04', '2014-05-05', '2015-06-06T12:20'])"
   ],
   "metadata": {
    "collapsed": false,
    "ExecuteTime": {
     "end_time": "2023-10-24T01:19:16.172767285Z",
     "start_time": "2023-10-24T01:19:16.166671694Z"
    }
   },
   "id": "8b1f082e520cc1be"
  },
  {
   "cell_type": "code",
   "execution_count": 62,
   "outputs": [
    {
     "ename": "ValueError",
     "evalue": "time data \"02-02-2011\" doesn't match format \"%d %b %Y\", at position 1. You might want to try:\n    - passing `format` if your strings have a consistent format;\n    - passing `format='ISO8601'` if your strings are all ISO8601 but not necessarily in exactly the same format;\n    - passing `format='mixed'`, and the format will be inferred for each element individually. You might want to use `dayfirst` alongside this.",
     "output_type": "error",
     "traceback": [
      "\u001B[0;31m---------------------------------------------------------------------------\u001B[0m",
      "\u001B[0;31mValueError\u001B[0m                                Traceback (most recent call last)",
      "Cell \u001B[0;32mIn[62], line 1\u001B[0m\n\u001B[0;32m----> 1\u001B[0m \u001B[43mpd\u001B[49m\u001B[38;5;241;43m.\u001B[39;49m\u001B[43mto_datetime\u001B[49m\u001B[43m(\u001B[49m\u001B[43mser\u001B[49m\u001B[43m)\u001B[49m\n",
      "File \u001B[0;32m~/PycharmProjects/data_analytics_projects/venv/lib/python3.11/site-packages/pandas/core/tools/datetimes.py:1112\u001B[0m, in \u001B[0;36mto_datetime\u001B[0;34m(arg, errors, dayfirst, yearfirst, utc, format, exact, unit, infer_datetime_format, origin, cache)\u001B[0m\n\u001B[1;32m   1110\u001B[0m         result \u001B[38;5;241m=\u001B[39m arg\u001B[38;5;241m.\u001B[39mmap(cache_array)\n\u001B[1;32m   1111\u001B[0m     \u001B[38;5;28;01melse\u001B[39;00m:\n\u001B[0;32m-> 1112\u001B[0m         values \u001B[38;5;241m=\u001B[39m \u001B[43mconvert_listlike\u001B[49m\u001B[43m(\u001B[49m\u001B[43marg\u001B[49m\u001B[38;5;241;43m.\u001B[39;49m\u001B[43m_values\u001B[49m\u001B[43m,\u001B[49m\u001B[43m \u001B[49m\u001B[38;5;28;43mformat\u001B[39;49m\u001B[43m)\u001B[49m\n\u001B[1;32m   1113\u001B[0m         result \u001B[38;5;241m=\u001B[39m arg\u001B[38;5;241m.\u001B[39m_constructor(values, index\u001B[38;5;241m=\u001B[39marg\u001B[38;5;241m.\u001B[39mindex, name\u001B[38;5;241m=\u001B[39marg\u001B[38;5;241m.\u001B[39mname)\n\u001B[1;32m   1114\u001B[0m \u001B[38;5;28;01melif\u001B[39;00m \u001B[38;5;28misinstance\u001B[39m(arg, (ABCDataFrame, abc\u001B[38;5;241m.\u001B[39mMutableMapping)):\n",
      "File \u001B[0;32m~/PycharmProjects/data_analytics_projects/venv/lib/python3.11/site-packages/pandas/core/tools/datetimes.py:488\u001B[0m, in \u001B[0;36m_convert_listlike_datetimes\u001B[0;34m(arg, format, name, utc, unit, errors, dayfirst, yearfirst, exact)\u001B[0m\n\u001B[1;32m    486\u001B[0m \u001B[38;5;66;03m# `format` could be inferred, or user didn't ask for mixed-format parsing.\u001B[39;00m\n\u001B[1;32m    487\u001B[0m \u001B[38;5;28;01mif\u001B[39;00m \u001B[38;5;28mformat\u001B[39m \u001B[38;5;129;01mis\u001B[39;00m \u001B[38;5;129;01mnot\u001B[39;00m \u001B[38;5;28;01mNone\u001B[39;00m \u001B[38;5;129;01mand\u001B[39;00m \u001B[38;5;28mformat\u001B[39m \u001B[38;5;241m!=\u001B[39m \u001B[38;5;124m\"\u001B[39m\u001B[38;5;124mmixed\u001B[39m\u001B[38;5;124m\"\u001B[39m:\n\u001B[0;32m--> 488\u001B[0m     \u001B[38;5;28;01mreturn\u001B[39;00m \u001B[43m_array_strptime_with_fallback\u001B[49m\u001B[43m(\u001B[49m\u001B[43marg\u001B[49m\u001B[43m,\u001B[49m\u001B[43m \u001B[49m\u001B[43mname\u001B[49m\u001B[43m,\u001B[49m\u001B[43m \u001B[49m\u001B[43mutc\u001B[49m\u001B[43m,\u001B[49m\u001B[43m \u001B[49m\u001B[38;5;28;43mformat\u001B[39;49m\u001B[43m,\u001B[49m\u001B[43m \u001B[49m\u001B[43mexact\u001B[49m\u001B[43m,\u001B[49m\u001B[43m \u001B[49m\u001B[43merrors\u001B[49m\u001B[43m)\u001B[49m\n\u001B[1;32m    490\u001B[0m result, tz_parsed \u001B[38;5;241m=\u001B[39m objects_to_datetime64ns(\n\u001B[1;32m    491\u001B[0m     arg,\n\u001B[1;32m    492\u001B[0m     dayfirst\u001B[38;5;241m=\u001B[39mdayfirst,\n\u001B[0;32m   (...)\u001B[0m\n\u001B[1;32m    496\u001B[0m     allow_object\u001B[38;5;241m=\u001B[39m\u001B[38;5;28;01mTrue\u001B[39;00m,\n\u001B[1;32m    497\u001B[0m )\n\u001B[1;32m    499\u001B[0m \u001B[38;5;28;01mif\u001B[39;00m tz_parsed \u001B[38;5;129;01mis\u001B[39;00m \u001B[38;5;129;01mnot\u001B[39;00m \u001B[38;5;28;01mNone\u001B[39;00m:\n\u001B[1;32m    500\u001B[0m     \u001B[38;5;66;03m# We can take a shortcut since the datetime64 numpy array\u001B[39;00m\n\u001B[1;32m    501\u001B[0m     \u001B[38;5;66;03m# is in UTC\u001B[39;00m\n",
      "File \u001B[0;32m~/PycharmProjects/data_analytics_projects/venv/lib/python3.11/site-packages/pandas/core/tools/datetimes.py:519\u001B[0m, in \u001B[0;36m_array_strptime_with_fallback\u001B[0;34m(arg, name, utc, fmt, exact, errors)\u001B[0m\n\u001B[1;32m    508\u001B[0m \u001B[38;5;28;01mdef\u001B[39;00m \u001B[38;5;21m_array_strptime_with_fallback\u001B[39m(\n\u001B[1;32m    509\u001B[0m     arg,\n\u001B[1;32m    510\u001B[0m     name,\n\u001B[0;32m   (...)\u001B[0m\n\u001B[1;32m    514\u001B[0m     errors: \u001B[38;5;28mstr\u001B[39m,\n\u001B[1;32m    515\u001B[0m ) \u001B[38;5;241m-\u001B[39m\u001B[38;5;241m>\u001B[39m Index:\n\u001B[1;32m    516\u001B[0m \u001B[38;5;250m    \u001B[39m\u001B[38;5;124;03m\"\"\"\u001B[39;00m\n\u001B[1;32m    517\u001B[0m \u001B[38;5;124;03m    Call array_strptime, with fallback behavior depending on 'errors'.\u001B[39;00m\n\u001B[1;32m    518\u001B[0m \u001B[38;5;124;03m    \"\"\"\u001B[39;00m\n\u001B[0;32m--> 519\u001B[0m     result, timezones \u001B[38;5;241m=\u001B[39m \u001B[43marray_strptime\u001B[49m\u001B[43m(\u001B[49m\u001B[43marg\u001B[49m\u001B[43m,\u001B[49m\u001B[43m \u001B[49m\u001B[43mfmt\u001B[49m\u001B[43m,\u001B[49m\u001B[43m \u001B[49m\u001B[43mexact\u001B[49m\u001B[38;5;241;43m=\u001B[39;49m\u001B[43mexact\u001B[49m\u001B[43m,\u001B[49m\u001B[43m \u001B[49m\u001B[43merrors\u001B[49m\u001B[38;5;241;43m=\u001B[39;49m\u001B[43merrors\u001B[49m\u001B[43m,\u001B[49m\u001B[43m \u001B[49m\u001B[43mutc\u001B[49m\u001B[38;5;241;43m=\u001B[39;49m\u001B[43mutc\u001B[49m\u001B[43m)\u001B[49m\n\u001B[1;32m    520\u001B[0m     \u001B[38;5;28;01mif\u001B[39;00m \u001B[38;5;28many\u001B[39m(tz \u001B[38;5;129;01mis\u001B[39;00m \u001B[38;5;129;01mnot\u001B[39;00m \u001B[38;5;28;01mNone\u001B[39;00m \u001B[38;5;28;01mfor\u001B[39;00m tz \u001B[38;5;129;01min\u001B[39;00m timezones):\n\u001B[1;32m    521\u001B[0m         \u001B[38;5;28;01mreturn\u001B[39;00m _return_parsed_timezone_results(result, timezones, utc, name)\n",
      "File \u001B[0;32mstrptime.pyx:534\u001B[0m, in \u001B[0;36mpandas._libs.tslibs.strptime.array_strptime\u001B[0;34m()\u001B[0m\n",
      "File \u001B[0;32mstrptime.pyx:355\u001B[0m, in \u001B[0;36mpandas._libs.tslibs.strptime.array_strptime\u001B[0;34m()\u001B[0m\n",
      "\u001B[0;31mValueError\u001B[0m: time data \"02-02-2011\" doesn't match format \"%d %b %Y\", at position 1. You might want to try:\n    - passing `format` if your strings have a consistent format;\n    - passing `format='ISO8601'` if your strings are all ISO8601 but not necessarily in exactly the same format;\n    - passing `format='mixed'`, and the format will be inferred for each element individually. You might want to use `dayfirst` alongside this."
     ]
    }
   ],
   "source": [
    "pd.to_datetime(ser)"
   ],
   "metadata": {
    "collapsed": false,
    "ExecuteTime": {
     "end_time": "2023-10-24T01:20:30.167705578Z",
     "start_time": "2023-10-24T01:20:30.122914389Z"
    }
   },
   "id": "177a9b9711dcb86d"
  },
  {
   "cell_type": "code",
   "execution_count": 70,
   "outputs": [
    {
     "data": {
      "text/plain": "0   2010-01-01 00:00:00\n1   2011-02-02 00:00:00\n2   2012-03-03 00:00:00\n3   2013-04-04 00:00:00\n4   2014-05-05 00:00:00\n5   2015-06-06 12:20:00\ndtype: datetime64[ns]"
     },
     "execution_count": 70,
     "metadata": {},
     "output_type": "execute_result"
    }
   ],
   "source": [
    "from dateutil.parser import parse\n",
    "ser.map(lambda x: parse(x))"
   ],
   "metadata": {
    "collapsed": false,
    "ExecuteTime": {
     "end_time": "2023-10-24T01:24:12.299023421Z",
     "start_time": "2023-10-24T01:24:12.255756690Z"
    }
   },
   "id": "e83194ab2fad7c39"
  },
  {
   "cell_type": "markdown",
   "source": [
    "# How to get the day of month, week number, day of year and day of week from a series of date strings?"
   ],
   "metadata": {
    "collapsed": false
   },
   "id": "a6cc3ab3a9163816"
  },
  {
   "cell_type": "code",
   "execution_count": 71,
   "outputs": [],
   "source": [
    "ser = pd.Series(['01 Jan 2010', '02-02-2011', '20120303', '2013/04/04', '2014-05-05', '2015-06-06T12:20'])"
   ],
   "metadata": {
    "collapsed": false,
    "ExecuteTime": {
     "end_time": "2023-10-24T01:24:14.423756893Z",
     "start_time": "2023-10-24T01:24:14.416750140Z"
    }
   },
   "id": "df51f64c979381e1"
  },
  {
   "cell_type": "code",
   "execution_count": 72,
   "outputs": [
    {
     "data": {
      "text/plain": "0   2010-01-01 00:00:00\n1   2011-02-02 00:00:00\n2   2012-03-03 00:00:00\n3   2013-04-04 00:00:00\n4   2014-05-05 00:00:00\n5   2015-06-06 12:20:00\ndtype: datetime64[ns]"
     },
     "execution_count": 72,
     "metadata": {},
     "output_type": "execute_result"
    }
   ],
   "source": [
    "ser_ts = ser.map(lambda x: parse(x))\n",
    "ser_ts"
   ],
   "metadata": {
    "collapsed": false,
    "ExecuteTime": {
     "end_time": "2023-10-24T01:24:14.770415787Z",
     "start_time": "2023-10-24T01:24:14.765246770Z"
    }
   },
   "id": "4f3e744979d255f5"
  },
  {
   "cell_type": "code",
   "execution_count": 80,
   "outputs": [
    {
     "name": "stdout",
     "output_type": "stream",
     "text": [
      "Date:  [1, 2, 3, 4, 5, 6]\n",
      "Week number:  [53, 5, 9, 14, 19, 23]\n",
      "day number of year:  [1, 33, 63, 94, 125, 157]\n",
      "Day of week:  ['Friday', 'Wednesday', 'Saturday', 'Thursday', 'Monday', 'Saturday']\n"
     ]
    }
   ],
   "source": [
    "print(\"Date: \", ser_ts.dt.day.tolist())\n",
    "print(\"Week number: \", ser_ts.dt.isocalendar().week.tolist())\n",
    "print(\"day number of year: \",ser_ts.dt.dayofyear.tolist())\n",
    "print(\"Day of week: \", ser_ts.dt.day_name().tolist())"
   ],
   "metadata": {
    "collapsed": false,
    "ExecuteTime": {
     "end_time": "2023-10-24T01:27:56.707771245Z",
     "start_time": "2023-10-24T01:27:56.692449258Z"
    }
   },
   "id": "10f43df5dd81ed51"
  },
  {
   "cell_type": "markdown",
   "source": [
    "# How to convert year-month string to dates corresponding to the 4th day of the month?"
   ],
   "metadata": {
    "collapsed": false
   },
   "id": "fd3e691190a9e220"
  },
  {
   "cell_type": "code",
   "execution_count": 81,
   "outputs": [],
   "source": [
    "ser = pd.Series(['Jan 2010', 'Feb 2011', 'Mar 2012'])"
   ],
   "metadata": {
    "collapsed": false,
    "ExecuteTime": {
     "end_time": "2023-10-24T01:28:28.462313884Z",
     "start_time": "2023-10-24T01:28:28.407097754Z"
    }
   },
   "id": "ad80af5d3c6bcac"
  },
  {
   "cell_type": "code",
   "execution_count": 83,
   "outputs": [
    {
     "data": {
      "text/plain": "0   2010-01-04\n1   2011-02-04\n2   2012-03-04\ndtype: datetime64[ns]"
     },
     "execution_count": 83,
     "metadata": {},
     "output_type": "execute_result"
    }
   ],
   "source": [
    "ser_ts = ser.map(lambda x: parse('04 ' + x))\n",
    "ser_ts"
   ],
   "metadata": {
    "collapsed": false,
    "ExecuteTime": {
     "end_time": "2023-10-24T01:29:23.924323322Z",
     "start_time": "2023-10-24T01:29:23.882375111Z"
    }
   },
   "id": "3e90e50083bfb2e1"
  },
  {
   "cell_type": "markdown",
   "source": [
    "# How to filter words that contain atleast 2 vowels from a series?"
   ],
   "metadata": {
    "collapsed": false
   },
   "id": "44fcbad558723913"
  },
  {
   "cell_type": "code",
   "execution_count": 84,
   "outputs": [],
   "source": [
    "ser = pd.Series(['Apple', 'Orange', 'Plan', 'Python', 'Money'])"
   ],
   "metadata": {
    "collapsed": false,
    "ExecuteTime": {
     "end_time": "2023-10-24T01:30:19.700807365Z",
     "start_time": "2023-10-24T01:30:19.660686792Z"
    }
   },
   "id": "f5d4582f2125473e"
  },
  {
   "cell_type": "code",
   "execution_count": 85,
   "outputs": [
    {
     "data": {
      "text/plain": "0     Apple\n1    Orange\n4     Money\ndtype: object"
     },
     "execution_count": 85,
     "metadata": {},
     "output_type": "execute_result"
    }
   ],
   "source": [
    "from collections import Counter\n",
    "mask = ser.map(lambda x: sum([Counter(x.lower()).get(i, 0) for i in list('aeiou')]) >= 2)\n",
    "ser[mask]"
   ],
   "metadata": {
    "collapsed": false,
    "ExecuteTime": {
     "end_time": "2023-10-24T01:31:02.722638005Z",
     "start_time": "2023-10-24T01:31:02.684800602Z"
    }
   },
   "id": "83e19c975d2cec0"
  },
  {
   "cell_type": "markdown",
   "source": [
    "# How to filter valid emails from a series?"
   ],
   "metadata": {
    "collapsed": false
   },
   "id": "d8b3ef9b4c396243"
  },
  {
   "cell_type": "code",
   "execution_count": 86,
   "outputs": [],
   "source": [
    "emails = pd.Series(['buying books at amazom.com', 'rameses@egypt.com', 'matt@t.co', 'narendra@modi.com'])\n",
    "pattern = '[A-Za-z0-9._%+-]+@[A-Za-z0-9.-]+\\\\.[A-Za-z]{2,4}'"
   ],
   "metadata": {
    "collapsed": false,
    "ExecuteTime": {
     "end_time": "2023-10-24T01:36:32.161443880Z",
     "start_time": "2023-10-24T01:36:32.107512125Z"
    }
   },
   "id": "4d6944915911d473"
  },
  {
   "cell_type": "code",
   "execution_count": 90,
   "outputs": [
    {
     "data": {
      "text/plain": "0                     []\n1    [rameses@egypt.com]\n2            [matt@t.co]\n3    [narendra@modi.com]\ndtype: object"
     },
     "execution_count": 90,
     "metadata": {},
     "output_type": "execute_result"
    }
   ],
   "source": [
    "import re\n",
    "emails.str.findall(pattern, flags=re.IGNORECASE)"
   ],
   "metadata": {
    "collapsed": false,
    "ExecuteTime": {
     "end_time": "2023-10-24T01:37:23.630844420Z",
     "start_time": "2023-10-24T01:37:23.589453998Z"
    }
   },
   "id": "15024996928a9e4d"
  },
  {
   "cell_type": "code",
   "execution_count": 91,
   "outputs": [
    {
     "data": {
      "text/plain": "['rameses@egypt.com', 'matt@t.co', 'narendra@modi.com']"
     },
     "execution_count": 91,
     "metadata": {},
     "output_type": "execute_result"
    }
   ],
   "source": [
    "[x[0] for x in [x for x in emails.str.findall(pattern) if len(x) > 0]]"
   ],
   "metadata": {
    "collapsed": false,
    "ExecuteTime": {
     "end_time": "2023-10-24T01:38:40.010488415Z",
     "start_time": "2023-10-24T01:38:39.886507453Z"
    }
   },
   "id": "2985fe422bc5a0c7"
  },
  {
   "cell_type": "markdown",
   "source": [
    "# How to get the mean of a series grouped by another series?"
   ],
   "metadata": {
    "collapsed": false
   },
   "id": "74acc7cee01f9e52"
  },
  {
   "cell_type": "code",
   "execution_count": 92,
   "outputs": [
    {
     "name": "stdout",
     "output_type": "stream",
     "text": [
      "[1.0, 2.0, 3.0, 4.0, 5.0, 6.0, 7.0, 8.0, 9.0, 10.0]\n",
      "['apple', 'carrot', 'carrot', 'carrot', 'carrot', 'apple', 'banana', 'banana', 'carrot', 'apple']\n"
     ]
    }
   ],
   "source": [
    "fruit = pd.Series(np.random.choice(['apple', 'banana', 'carrot'], 10))\n",
    "weights = pd.Series(np.linspace(1, 10, 10)) # cria uma Series com 10 valores, começando em 1 e terminando em 10.\n",
    "print(weights.tolist())\n",
    "print(fruit.tolist())"
   ],
   "metadata": {
    "collapsed": false,
    "ExecuteTime": {
     "end_time": "2023-10-24T01:41:08.005764272Z",
     "start_time": "2023-10-24T01:41:07.942633024Z"
    }
   },
   "id": "217de24c6bb3845d"
  },
  {
   "cell_type": "code",
   "execution_count": 95,
   "outputs": [
    {
     "data": {
      "text/plain": "apple     5.666667\nbanana    7.500000\ncarrot    4.600000\ndtype: float64"
     },
     "execution_count": 95,
     "metadata": {},
     "output_type": "execute_result"
    }
   ],
   "source": [
    "weights.groupby(fruit).mean()"
   ],
   "metadata": {
    "collapsed": false,
    "ExecuteTime": {
     "end_time": "2023-10-24T01:42:48.662013612Z",
     "start_time": "2023-10-24T01:42:48.643701648Z"
    }
   },
   "id": "d5dd9e24b1e1fb75"
  },
  {
   "cell_type": "markdown",
   "source": [
    "# How to compute the euclidean distance between two series?"
   ],
   "metadata": {
    "collapsed": false
   },
   "id": "76d0b1e33851f4ec"
  },
  {
   "cell_type": "code",
   "execution_count": 96,
   "outputs": [],
   "source": [
    "p = pd.Series([1, 2, 3, 4, 5, 6, 7, 8, 9, 10])\n",
    "q = pd.Series([10, 9, 8, 7, 6, 5, 4, 3, 2, 1])"
   ],
   "metadata": {
    "collapsed": false,
    "ExecuteTime": {
     "end_time": "2023-10-24T01:45:16.044994429Z",
     "start_time": "2023-10-24T01:45:16.001717510Z"
    }
   },
   "id": "c0a044b8f046084e"
  },
  {
   "cell_type": "code",
   "execution_count": 97,
   "outputs": [
    {
     "data": {
      "text/plain": "18.16590212458495"
     },
     "execution_count": 97,
     "metadata": {},
     "output_type": "execute_result"
    }
   ],
   "source": [
    "sum((p - q)**2)**.5"
   ],
   "metadata": {
    "collapsed": false,
    "ExecuteTime": {
     "end_time": "2023-10-24T01:45:34.605482686Z",
     "start_time": "2023-10-24T01:45:34.542464694Z"
    }
   },
   "id": "a326faa74fbd4642"
  },
  {
   "cell_type": "code",
   "execution_count": 98,
   "outputs": [
    {
     "data": {
      "text/plain": "18.16590212458495"
     },
     "execution_count": 98,
     "metadata": {},
     "output_type": "execute_result"
    }
   ],
   "source": [
    "np.linalg.norm(p-q)"
   ],
   "metadata": {
    "collapsed": false,
    "ExecuteTime": {
     "end_time": "2023-10-24T01:45:39.084904138Z",
     "start_time": "2023-10-24T01:45:39.036071892Z"
    }
   },
   "id": "9e7da944a870f115"
  },
  {
   "cell_type": "code",
   "execution_count": 99,
   "outputs": [
    {
     "data": {
      "text/plain": "0   -9\n1   -7\n2   -5\n3   -3\n4   -1\n5    1\n6    3\n7    5\n8    7\n9    9\ndtype: int64"
     },
     "execution_count": 99,
     "metadata": {},
     "output_type": "execute_result"
    }
   ],
   "source": [
    "p-q"
   ],
   "metadata": {
    "collapsed": false,
    "ExecuteTime": {
     "end_time": "2023-10-24T01:46:59.274589861Z",
     "start_time": "2023-10-24T01:46:59.225073040Z"
    }
   },
   "id": "370f8c0b8781e2f7"
  },
  {
   "cell_type": "markdown",
   "source": [
    "# How to find all the local maxima (or peaks) in a numeric series?"
   ],
   "metadata": {
    "collapsed": false
   },
   "id": "a1bc16ff6a95a879"
  },
  {
   "cell_type": "code",
   "execution_count": 100,
   "outputs": [],
   "source": [
    "ser = pd.Series([2, 10, 3, 4, 9, 10, 2, 7, 3])"
   ],
   "metadata": {
    "collapsed": false,
    "ExecuteTime": {
     "end_time": "2023-10-24T01:47:26.948923184Z",
     "start_time": "2023-10-24T01:47:26.884162013Z"
    }
   },
   "id": "adca59e8429dbe15"
  },
  {
   "cell_type": "code",
   "execution_count": 101,
   "outputs": [
    {
     "data": {
      "text/plain": "array([1, 5, 7])"
     },
     "execution_count": 101,
     "metadata": {},
     "output_type": "execute_result"
    }
   ],
   "source": [
    "dd = np.diff(np.sign(np.diff(ser)))\n",
    "peak_locs = np.where(dd == -2)[0] + 1\n",
    "peak_locs"
   ],
   "metadata": {
    "collapsed": false,
    "ExecuteTime": {
     "end_time": "2023-10-24T01:48:29.687180727Z",
     "start_time": "2023-10-24T01:48:29.592688183Z"
    }
   },
   "id": "d28a5473c53721f0"
  },
  {
   "cell_type": "code",
   "execution_count": 102,
   "outputs": [
    {
     "data": {
      "text/plain": "1    10\n5    10\n7     7\ndtype: int64"
     },
     "execution_count": 102,
     "metadata": {},
     "output_type": "execute_result"
    }
   ],
   "source": [
    "ser[peak_locs]"
   ],
   "metadata": {
    "collapsed": false,
    "ExecuteTime": {
     "end_time": "2023-10-24T01:48:47.499071447Z",
     "start_time": "2023-10-24T01:48:47.450481265Z"
    }
   },
   "id": "18a29df3b53db64b"
  },
  {
   "cell_type": "code",
   "execution_count": 103,
   "outputs": [
    {
     "data": {
      "text/plain": "array([ 8, -7,  1,  5,  1, -8,  5, -4])"
     },
     "execution_count": 103,
     "metadata": {},
     "output_type": "execute_result"
    }
   ],
   "source": [
    "np.diff(ser)"
   ],
   "metadata": {
    "collapsed": false,
    "ExecuteTime": {
     "end_time": "2023-10-24T01:50:16.702741012Z",
     "start_time": "2023-10-24T01:50:16.649919863Z"
    }
   },
   "id": "64792c96159f2eb6"
  },
  {
   "cell_type": "code",
   "execution_count": 104,
   "outputs": [
    {
     "data": {
      "text/plain": "array([ 1, -1,  1,  1,  1, -1,  1, -1])"
     },
     "execution_count": 104,
     "metadata": {},
     "output_type": "execute_result"
    }
   ],
   "source": [
    "np.sign(np.diff(ser))"
   ],
   "metadata": {
    "collapsed": false,
    "ExecuteTime": {
     "end_time": "2023-10-24T01:51:06.292954773Z",
     "start_time": "2023-10-24T01:51:06.244965911Z"
    }
   },
   "id": "2e5650a7dcb5b87d"
  },
  {
   "cell_type": "code",
   "execution_count": 105,
   "outputs": [
    {
     "data": {
      "text/plain": "array([-2,  2,  0,  0, -2,  2, -2])"
     },
     "execution_count": 105,
     "metadata": {},
     "output_type": "execute_result"
    }
   ],
   "source": [
    "np.diff(np.sign(np.diff(ser)))"
   ],
   "metadata": {
    "collapsed": false,
    "ExecuteTime": {
     "end_time": "2023-10-24T01:51:29.955249623Z",
     "start_time": "2023-10-24T01:51:29.841533851Z"
    }
   },
   "id": "5dc40f367f568c9a"
  },
  {
   "cell_type": "markdown",
   "source": [
    "# How to replace missing spaces in a string with the least frequent character?"
   ],
   "metadata": {
    "collapsed": false
   },
   "id": "e4a619d0f4a4c779"
  },
  {
   "cell_type": "code",
   "execution_count": 106,
   "outputs": [],
   "source": [
    "my_str = 'dbc deb abed gade'"
   ],
   "metadata": {
    "collapsed": false,
    "ExecuteTime": {
     "end_time": "2023-10-24T01:52:11.701355478Z",
     "start_time": "2023-10-24T01:52:11.649347939Z"
    }
   },
   "id": "3cd13fd1fbb6f7a8"
  },
  {
   "cell_type": "code",
   "execution_count": 108,
   "outputs": [
    {
     "data": {
      "text/plain": "d    4\nb    3\n     3\ne    3\na    2\nc    1\ng    1\nName: count, dtype: int64"
     },
     "execution_count": 108,
     "metadata": {},
     "output_type": "execute_result"
    }
   ],
   "source": [
    "ser = pd.Series(list('dbc deb abed gade'))\n",
    "freq = ser.value_counts()\n",
    "freq"
   ],
   "metadata": {
    "collapsed": false,
    "ExecuteTime": {
     "end_time": "2023-10-24T01:53:08.329177580Z",
     "start_time": "2023-10-24T01:53:08.315360670Z"
    }
   },
   "id": "306acdf4e6613812"
  },
  {
   "cell_type": "code",
   "execution_count": 113,
   "outputs": [
    {
     "data": {
      "text/plain": "'dbcgdebgabedggade'"
     },
     "execution_count": 113,
     "metadata": {},
     "output_type": "execute_result"
    }
   ],
   "source": [
    "least_freq = freq.dropna().index[-1]\n",
    "\"\".join(ser.replace(' ', least_freq))"
   ],
   "metadata": {
    "collapsed": false,
    "ExecuteTime": {
     "end_time": "2023-10-24T01:53:58.744093663Z",
     "start_time": "2023-10-24T01:53:58.731380946Z"
    }
   },
   "id": "f256a13fbc127fde"
  },
  {
   "cell_type": "code",
   "execution_count": 114,
   "outputs": [
    {
     "name": "stdout",
     "output_type": "stream",
     "text": [
      "g\n"
     ]
    }
   ],
   "source": [
    "print(least_freq)"
   ],
   "metadata": {
    "collapsed": false,
    "ExecuteTime": {
     "end_time": "2023-10-24T01:54:12.928610503Z",
     "start_time": "2023-10-24T01:54:12.871949518Z"
    }
   },
   "id": "e4ea06ca88b587d3"
  },
  {
   "cell_type": "markdown",
   "source": [
    "# How to create a TimeSeries starting ‘2000-01-01’ and 10 weekends (saturdays) after that having random numbers as values?"
   ],
   "metadata": {
    "collapsed": false
   },
   "id": "aff73ebe39d7cadf"
  },
  {
   "cell_type": "code",
   "execution_count": 116,
   "outputs": [
    {
     "data": {
      "text/plain": "2000-01-01    3\n2000-01-08    2\n2000-01-15    7\n2000-01-22    4\n2000-01-29    3\n2000-02-05    2\n2000-02-12    4\n2000-02-19    5\n2000-02-26    8\n2000-03-04    5\nFreq: W-SAT, dtype: int64"
     },
     "execution_count": 116,
     "metadata": {},
     "output_type": "execute_result"
    }
   ],
   "source": [
    "ser = pd.Series(np.random.randint(1, 10, 10), pd.date_range('2000-01-01', periods=10, freq='W-SAT'))\n",
    "ser"
   ],
   "metadata": {
    "collapsed": false,
    "ExecuteTime": {
     "end_time": "2023-10-24T01:55:07.267474427Z",
     "start_time": "2023-10-24T01:55:07.253841589Z"
    }
   },
   "id": "248adde97f10c283"
  },
  {
   "cell_type": "code",
   "execution_count": 118,
   "outputs": [
    {
     "data": {
      "text/plain": "DatetimeIndex(['2000-01-01', '2000-01-08', '2000-01-15', '2000-01-22',\n               '2000-01-29', '2000-02-05', '2000-02-12', '2000-02-19',\n               '2000-02-26', '2000-03-04'],\n              dtype='datetime64[ns]', freq='W-SAT')"
     },
     "execution_count": 118,
     "metadata": {},
     "output_type": "execute_result"
    }
   ],
   "source": [
    "np.random.randint(1, 10, 10) # cria uma Series com 10 valores aleatórios entre 1 e 10.\n",
    "pd.date_range('2000-01-01', periods=10, freq='W-SAT') # cria uma Series com 10 datas, começando em 2000-01-01 e terminando em 2000-03-04, com frequência semanal aos sábados."
   ],
   "metadata": {
    "collapsed": false,
    "ExecuteTime": {
     "end_time": "2023-10-24T01:57:09.334683573Z",
     "start_time": "2023-10-24T01:57:09.321102653Z"
    }
   },
   "id": "a2455a2d7ae180bd"
  },
  {
   "cell_type": "code",
   "execution_count": null,
   "outputs": [],
   "source": [],
   "metadata": {
    "collapsed": false
   },
   "id": "88c51095a04869e8"
  }
 ],
 "metadata": {
  "kernelspec": {
   "display_name": "Python 3",
   "language": "python",
   "name": "python3"
  },
  "language_info": {
   "codemirror_mode": {
    "name": "ipython",
    "version": 2
   },
   "file_extension": ".py",
   "mimetype": "text/x-python",
   "name": "python",
   "nbconvert_exporter": "python",
   "pygments_lexer": "ipython2",
   "version": "2.7.6"
  }
 },
 "nbformat": 4,
 "nbformat_minor": 5
}
