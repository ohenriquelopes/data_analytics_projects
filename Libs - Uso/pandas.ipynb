{
 "cells": [
  {
   "cell_type": "code",
   "execution_count": 56,
   "id": "initial_id",
   "metadata": {
    "collapsed": true,
    "ExecuteTime": {
     "end_time": "2023-10-26T01:16:14.656452227Z",
     "start_time": "2023-10-26T01:16:14.168386197Z"
    }
   },
   "outputs": [],
   "source": [
    "import pandas as pd\n",
    "import numpy as np"
   ]
  },
  {
   "cell_type": "code",
   "execution_count": 57,
   "outputs": [],
   "source": [
    "mylist = list('abcedfghijklmnopqrstuvwxyz')\n",
    "myarr = np.arange(26)\n",
    "mydict = dict(zip(mylist, myarr))\n",
    "ser = pd.Series(mydict)\n"
   ],
   "metadata": {
    "collapsed": false,
    "ExecuteTime": {
     "end_time": "2023-10-26T01:16:15.061139838Z",
     "start_time": "2023-10-26T01:16:14.175126475Z"
    }
   },
   "id": "48cb3d19d133df23"
  },
  {
   "cell_type": "markdown",
   "source": [
    "## How to convert the index of a series into a column of a dataframe?"
   ],
   "metadata": {
    "collapsed": false
   },
   "id": "3c2dc2c9bbf0f27c"
  },
  {
   "cell_type": "code",
   "execution_count": 58,
   "outputs": [
    {
     "name": "stdout",
     "output_type": "stream",
     "text": [
      "  index  0\n",
      "0     a  0\n",
      "1     b  1\n",
      "2     c  2\n",
      "3     e  3\n",
      "4     d  4\n"
     ]
    }
   ],
   "source": [
    "df = ser.to_frame().reset_index()\n",
    "print(df.head())"
   ],
   "metadata": {
    "collapsed": false,
    "ExecuteTime": {
     "end_time": "2023-10-26T01:16:15.072174119Z",
     "start_time": "2023-10-26T01:16:14.207894116Z"
    }
   },
   "id": "5d313d20e4710c18"
  },
  {
   "cell_type": "markdown",
   "source": [
    "## How to combine many series to form a dataframe?"
   ],
   "metadata": {
    "collapsed": false
   },
   "id": "87c5a5d95354bb0"
  },
  {
   "cell_type": "code",
   "execution_count": 59,
   "outputs": [],
   "source": [
    "ser1 = pd.Series(list('abcedfghijklmnopqrstuvwxyz'))\n",
    "ser2 = pd.Series(np.arange(26))"
   ],
   "metadata": {
    "collapsed": false,
    "ExecuteTime": {
     "end_time": "2023-10-26T01:16:15.108145381Z",
     "start_time": "2023-10-26T01:16:14.208187418Z"
    }
   },
   "id": "cd7c9665dd27cdb7"
  },
  {
   "cell_type": "code",
   "execution_count": 60,
   "outputs": [
    {
     "name": "stdout",
     "output_type": "stream",
     "text": [
      "   0  1\n",
      "0  a  0\n",
      "1  b  1\n",
      "2  c  2\n",
      "3  e  3\n",
      "4  d  4\n"
     ]
    }
   ],
   "source": [
    "df = pd.concat([ser1, ser2], axis=1)\n",
    "print(df.head())"
   ],
   "metadata": {
    "collapsed": false,
    "ExecuteTime": {
     "end_time": "2023-10-26T01:16:15.127610474Z",
     "start_time": "2023-10-26T01:16:14.219814378Z"
    }
   },
   "id": "dca5484d54bad62d"
  },
  {
   "cell_type": "markdown",
   "source": [
    "## How to assign name to the series’ index?"
   ],
   "metadata": {
    "collapsed": false
   },
   "id": "29e705b553cbf95d"
  },
  {
   "cell_type": "code",
   "execution_count": 61,
   "outputs": [
    {
     "data": {
      "text/plain": "0    a\n1    b\n2    c\n3    e\n4    d\nName: alphabets, dtype: object"
     },
     "execution_count": 61,
     "metadata": {},
     "output_type": "execute_result"
    }
   ],
   "source": [
    "ser = pd.Series(list('abcedfghijklmnopqrstuvwxyz'))\n",
    "ser.name = 'alphabets'\n",
    "ser.head()"
   ],
   "metadata": {
    "collapsed": false,
    "ExecuteTime": {
     "end_time": "2023-10-26T01:16:15.183821494Z",
     "start_time": "2023-10-26T01:16:14.240945423Z"
    }
   },
   "id": "cbb4c05287f238aa"
  },
  {
   "cell_type": "markdown",
   "source": [
    "## How to get the items of series A not present in series B?"
   ],
   "metadata": {
    "collapsed": false
   },
   "id": "492a86174a5ab835"
  },
  {
   "cell_type": "code",
   "execution_count": 62,
   "outputs": [
    {
     "data": {
      "text/plain": "0    1\n1    2\n2    3\nName: ser1, dtype: int64"
     },
     "execution_count": 62,
     "metadata": {},
     "output_type": "execute_result"
    }
   ],
   "source": [
    "ser1 = pd.Series([1, 2, 3, 4, 5])\n",
    "ser2 = pd.Series([4, 5, 6, 7, 8])\n",
    "ser1.name = 'ser1'\n",
    "# isin() valida se o valor está presente na série, e o ~ inverte o resultado\n",
    "ser1[~ser1.isin(ser2)]"
   ],
   "metadata": {
    "collapsed": false,
    "ExecuteTime": {
     "end_time": "2023-10-26T01:16:15.184620251Z",
     "start_time": "2023-10-26T01:16:14.241332650Z"
    }
   },
   "id": "8a63e13b8e2f6e63"
  },
  {
   "cell_type": "markdown",
   "source": [
    "## How to get the items not common to both series A and series B?"
   ],
   "metadata": {
    "collapsed": false
   },
   "id": "3f98fe468db0f213"
  },
  {
   "cell_type": "code",
   "execution_count": 63,
   "outputs": [],
   "source": [
    "ser1 = pd.Series([1, 2, 3, 4, 5])\n",
    "ser2 = pd.Series([4, 5, 6, 7, 8])"
   ],
   "metadata": {
    "collapsed": false,
    "ExecuteTime": {
     "end_time": "2023-10-26T01:16:15.195306831Z",
     "start_time": "2023-10-26T01:16:14.241544316Z"
    }
   },
   "id": "e376df269d704747"
  },
  {
   "cell_type": "code",
   "execution_count": 64,
   "outputs": [
    {
     "name": "stdout",
     "output_type": "stream",
     "text": [
      "0    4\n",
      "1    5\n",
      "dtype: int64\n"
     ]
    }
   ],
   "source": [
    "ser_u = pd.Series(np.union1d(ser1, ser2))  # union / unique no repeat\n",
    "ser_i = pd.Series(np.intersect1d(ser1, ser2))  # intersect / common\n",
    "print(ser_i)"
   ],
   "metadata": {
    "collapsed": false,
    "ExecuteTime": {
     "end_time": "2023-10-26T01:16:15.248457529Z",
     "start_time": "2023-10-26T01:16:14.260686777Z"
    }
   },
   "id": "64590087e68e75ff"
  },
  {
   "cell_type": "code",
   "execution_count": 65,
   "outputs": [
    {
     "data": {
      "text/plain": "0    1\n1    2\n2    3\n5    6\n6    7\n7    8\ndtype: int64"
     },
     "execution_count": 65,
     "metadata": {},
     "output_type": "execute_result"
    }
   ],
   "source": [
    "ser_u[~ser_u.isin(ser_i)]"
   ],
   "metadata": {
    "collapsed": false,
    "ExecuteTime": {
     "end_time": "2023-10-26T01:16:15.295447150Z",
     "start_time": "2023-10-26T01:16:14.261042021Z"
    }
   },
   "id": "596a030782a9bc25"
  },
  {
   "cell_type": "code",
   "execution_count": 66,
   "outputs": [
    {
     "data": {
      "text/plain": "0     True\n1     True\n2     True\n3    False\n4    False\n5     True\n6     True\n7     True\ndtype: bool"
     },
     "execution_count": 66,
     "metadata": {},
     "output_type": "execute_result"
    }
   ],
   "source": [
    "~ser_u.isin(ser_i)"
   ],
   "metadata": {
    "collapsed": false,
    "ExecuteTime": {
     "end_time": "2023-10-26T01:16:15.306182683Z",
     "start_time": "2023-10-26T01:16:14.279028246Z"
    }
   },
   "id": "70e6c882fb3bc563"
  },
  {
   "cell_type": "code",
   "execution_count": 67,
   "outputs": [
    {
     "data": {
      "text/plain": "0    False\n1    False\n2    False\n3     True\n4     True\n5    False\n6    False\n7    False\ndtype: bool"
     },
     "execution_count": 67,
     "metadata": {},
     "output_type": "execute_result"
    }
   ],
   "source": [
    "ser_u.isin(ser_i)"
   ],
   "metadata": {
    "collapsed": false,
    "ExecuteTime": {
     "end_time": "2023-10-26T01:16:15.306893241Z",
     "start_time": "2023-10-26T01:16:14.279208207Z"
    }
   },
   "id": "38a4ef1991dd59df"
  },
  {
   "cell_type": "markdown",
   "source": [
    "## How to get the minimum, 25th percentile, median, 75th, and max of a numeric series?"
   ],
   "metadata": {
    "collapsed": false
   },
   "id": "e22fe6370bdd557d"
  },
  {
   "cell_type": "code",
   "execution_count": 68,
   "outputs": [],
   "source": [
    "ser = pd.Series(np.random.normal(10, 5, 25))"
   ],
   "metadata": {
    "collapsed": false,
    "ExecuteTime": {
     "end_time": "2023-10-26T01:16:15.341120197Z",
     "start_time": "2023-10-26T01:16:14.296505174Z"
    }
   },
   "id": "bc853538c1bc0cd3"
  },
  {
   "cell_type": "code",
   "execution_count": 69,
   "outputs": [
    {
     "name": "stdout",
     "output_type": "stream",
     "text": [
      "0     11.046136\n",
      "1      7.171250\n",
      "2     12.443970\n",
      "3     12.704918\n",
      "4     12.671256\n",
      "5     12.501918\n",
      "6     12.665093\n",
      "7     13.488604\n",
      "8      6.600297\n",
      "9      9.181183\n",
      "10    17.137073\n",
      "11     4.196023\n",
      "12    16.789508\n",
      "13    12.272034\n",
      "14     8.675545\n",
      "15     4.349482\n",
      "16     6.730703\n",
      "17     5.031889\n",
      "18     1.224762\n",
      "19     4.034081\n",
      "20     4.693723\n",
      "21    10.947614\n",
      "22    14.989886\n",
      "23     6.607571\n",
      "24     8.619989\n",
      "dtype: float64\n"
     ]
    }
   ],
   "source": [
    "print(ser)"
   ],
   "metadata": {
    "collapsed": false,
    "ExecuteTime": {
     "end_time": "2023-10-26T01:16:15.341803589Z",
     "start_time": "2023-10-26T01:16:14.296745052Z"
    }
   },
   "id": "4a631bd5f2ea14fc"
  },
  {
   "cell_type": "code",
   "execution_count": 70,
   "outputs": [
    {
     "data": {
      "text/plain": "array([ 1.22476186,  6.60029732,  9.18118264, 12.66509342, 17.1370729 ])"
     },
     "execution_count": 70,
     "metadata": {},
     "output_type": "execute_result"
    }
   ],
   "source": [
    "np.percentile(ser, q=[0, 25, 50, 75, 100])"
   ],
   "metadata": {
    "collapsed": false,
    "ExecuteTime": {
     "end_time": "2023-10-26T01:16:15.403370294Z",
     "start_time": "2023-10-26T01:16:14.314828974Z"
    }
   },
   "id": "4acf2cd9b4bef5e1"
  },
  {
   "cell_type": "code",
   "execution_count": 71,
   "outputs": [
    {
     "data": {
      "text/plain": "count    25.000000\nmean      9.470980\nstd       4.306903\nmin       1.224762\n25%       6.600297\n50%       9.181183\n75%      12.665093\nmax      17.137073\ndtype: float64"
     },
     "execution_count": 71,
     "metadata": {},
     "output_type": "execute_result"
    }
   ],
   "source": [
    "ser.describe()"
   ],
   "metadata": {
    "collapsed": false,
    "ExecuteTime": {
     "end_time": "2023-10-26T01:16:15.416353773Z",
     "start_time": "2023-10-26T01:16:14.315088476Z"
    }
   },
   "id": "6b799e79e03fa59d"
  },
  {
   "cell_type": "markdown",
   "source": [
    "## How to get frequency counts of unique items of a series?"
   ],
   "metadata": {
    "collapsed": false
   },
   "id": "62ba69005d0ac07b"
  },
  {
   "cell_type": "code",
   "execution_count": 72,
   "outputs": [],
   "source": [
    "ser = pd.Series(np.take(list('abcdefgh'), np.random.randint(8, size=30)))"
   ],
   "metadata": {
    "collapsed": false,
    "ExecuteTime": {
     "end_time": "2023-10-26T01:16:15.438245028Z",
     "start_time": "2023-10-26T01:16:14.326282258Z"
    }
   },
   "id": "375677cb53d51a9e"
  },
  {
   "cell_type": "code",
   "execution_count": 73,
   "outputs": [
    {
     "data": {
      "text/plain": "b    7\ne    6\ng    6\nc    5\nf    2\nh    2\na    1\nd    1\nName: count, dtype: int64"
     },
     "execution_count": 73,
     "metadata": {},
     "output_type": "execute_result"
    }
   ],
   "source": [
    "ser.value_counts()"
   ],
   "metadata": {
    "collapsed": false,
    "ExecuteTime": {
     "end_time": "2023-10-26T01:16:15.466142608Z",
     "start_time": "2023-10-26T01:16:14.326765437Z"
    }
   },
   "id": "3b70cab4b925dd47"
  },
  {
   "cell_type": "markdown",
   "source": [
    "# How to keep only top 2 most frequent values as it is and replace everything else as Other?"
   ],
   "metadata": {
    "collapsed": false
   },
   "id": "49f8670523841130"
  },
  {
   "cell_type": "code",
   "execution_count": 74,
   "outputs": [],
   "source": [
    "np.random.RandomState(100)\n",
    "#cria uma Series chamada ser que contém 12 números inteiros aleatórios entre 1 e 4.\n",
    "ser = pd.Series(np.random.randint(1, 5, [12]))"
   ],
   "metadata": {
    "collapsed": false,
    "ExecuteTime": {
     "end_time": "2023-10-26T01:16:15.466448899Z",
     "start_time": "2023-10-26T01:16:14.343717285Z"
    }
   },
   "id": "703e073d859b9bf4"
  },
  {
   "cell_type": "code",
   "execution_count": 75,
   "outputs": [],
   "source": [
    "# ser.value_counts().index[:2] retorna os dois índices com as maiores contagens.\n",
    "# ~ser.isin(ser.value_counts().index[:2]) retorna uma Series booleana que é True para os valores em ser que não estão nos dois índices com as maiores contagens\n",
    "# ser[~ser.isin(ser.value_counts().index[:2])] = 'Other' substitui todos os valores em ser que não estão nos dois índices com as maiores contagens por 'Other'."
   ],
   "metadata": {
    "collapsed": false,
    "ExecuteTime": {
     "end_time": "2023-10-26T01:16:15.466586401Z",
     "start_time": "2023-10-26T01:16:14.343946549Z"
    }
   },
   "id": "fa334f473f877733"
  },
  {
   "cell_type": "code",
   "execution_count": 76,
   "outputs": [
    {
     "name": "stdout",
     "output_type": "stream",
     "text": [
      "Top 2 freq: 1    5\n",
      "2    3\n",
      "3    2\n",
      "4    2\n",
      "Name: count, dtype: int64\n"
     ]
    },
    {
     "name": "stderr",
     "output_type": "stream",
     "text": [
      "/tmp/ipykernel_54135/1646089746.py:2: FutureWarning: Setting an item of incompatible dtype is deprecated and will raise in a future error of pandas. Value 'Other' has dtype incompatible with int64, please explicitly cast to a compatible dtype first.\n",
      "  ser[~ser.isin(ser.value_counts().index[:2])] = 'Other'\n"
     ]
    },
    {
     "data": {
      "text/plain": "0     Other\n1         2\n2         2\n3         1\n4         1\n5     Other\n6         1\n7         1\n8         1\n9     Other\n10        2\n11    Other\ndtype: object"
     },
     "execution_count": 76,
     "metadata": {},
     "output_type": "execute_result"
    }
   ],
   "source": [
    "print(\"Top 2 freq:\", ser.value_counts())\n",
    "ser[~ser.isin(ser.value_counts().index[:2])] = 'Other'\n",
    "ser"
   ],
   "metadata": {
    "collapsed": false,
    "ExecuteTime": {
     "end_time": "2023-10-26T01:16:15.544899713Z",
     "start_time": "2023-10-26T01:16:14.354242060Z"
    }
   },
   "id": "bb80b66a9624c5ff"
  },
  {
   "cell_type": "markdown",
   "source": [
    "# How to bin a numeric series to 10 groups of equal size?"
   ],
   "metadata": {
    "collapsed": false
   },
   "id": "8ea9e2d45fb728b3"
  },
  {
   "cell_type": "code",
   "execution_count": 77,
   "outputs": [
    {
     "name": "stdout",
     "output_type": "stream",
     "text": [
      "0    0.678638\n",
      "1    0.890025\n",
      "2    0.087384\n",
      "3    0.612228\n",
      "4    0.986618\n",
      "dtype: float64\n"
     ]
    }
   ],
   "source": [
    "ser = pd.Series(np.random.random(20))\n",
    "print(ser.head())"
   ],
   "metadata": {
    "collapsed": false,
    "ExecuteTime": {
     "end_time": "2023-10-26T01:16:15.556046846Z",
     "start_time": "2023-10-26T01:16:14.366521126Z"
    }
   },
   "id": "a26db1a212879659"
  },
  {
   "cell_type": "code",
   "execution_count": 78,
   "outputs": [
    {
     "data": {
      "text/plain": "0      6th\n1      8th\n2      1st\n3      5th\n4     10th\n5      3rd\n6      9th\n7      2nd\n8     10th\n9      4th\n10     7th\n11     2nd\n12     1st\n13     6th\n14     9th\n15     4th\n16     5th\n17     8th\n18     7th\n19     3rd\ndtype: category\nCategories (10, object): ['1st' < '2nd' < '3rd' < '4th' ... '7th' < '8th' < '9th' < '10th']"
     },
     "execution_count": 78,
     "metadata": {},
     "output_type": "execute_result"
    }
   ],
   "source": [
    "pd.qcut(ser, q=[0, .10, .20, .3, .4, .5, .6, .7, .8, .9, 1], labels=['1st', '2nd', '3rd', '4th', '5th', '6th', '7th', '8th', '9th', '10th'])"
   ],
   "metadata": {
    "collapsed": false,
    "ExecuteTime": {
     "end_time": "2023-10-26T01:16:15.609545944Z",
     "start_time": "2023-10-26T01:16:14.368464667Z"
    }
   },
   "id": "6ee4dd4ff96f6a11"
  },
  {
   "cell_type": "markdown",
   "source": [
    "# How to convert a numpy array to a dataframe of given shape?"
   ],
   "metadata": {
    "collapsed": false
   },
   "id": "b43f7c77bee9de45"
  },
  {
   "cell_type": "code",
   "execution_count": 79,
   "outputs": [
    {
     "name": "stdout",
     "output_type": "stream",
     "text": [
      "0    4\n",
      "1    2\n",
      "2    3\n",
      "3    1\n",
      "4    7\n",
      "dtype: int64\n"
     ]
    }
   ],
   "source": [
    "ser = pd.Series(np.random.randint(1, 10, 35))\n",
    "print(ser.head())"
   ],
   "metadata": {
    "collapsed": false,
    "ExecuteTime": {
     "end_time": "2023-10-26T01:16:15.642339913Z",
     "start_time": "2023-10-26T01:16:14.379255020Z"
    }
   },
   "id": "cbc39405fe867c8f"
  },
  {
   "cell_type": "code",
   "execution_count": 80,
   "outputs": [
    {
     "name": "stdout",
     "output_type": "stream",
     "text": [
      "[[4 2 3 1 7]\n",
      " [6 7 6 4 8]\n",
      " [1 8 1 2 1]\n",
      " [2 9 5 1 2]\n",
      " [4 5 2 9 2]\n",
      " [1 3 8 5 5]\n",
      " [1 2 1 4 2]]\n"
     ]
    }
   ],
   "source": [
    "teste = ser.values.reshape(7, 5)\n",
    "print(teste)"
   ],
   "metadata": {
    "collapsed": false,
    "ExecuteTime": {
     "end_time": "2023-10-26T01:16:15.651093077Z",
     "start_time": "2023-10-26T01:16:14.397056045Z"
    }
   },
   "id": "cf3b4bd8e8deff00"
  },
  {
   "cell_type": "code",
   "execution_count": 81,
   "outputs": [
    {
     "name": "stdout",
     "output_type": "stream",
     "text": [
      "[6 7 6 4 8]\n"
     ]
    }
   ],
   "source": [
    "print(teste[1])"
   ],
   "metadata": {
    "collapsed": false,
    "ExecuteTime": {
     "end_time": "2023-10-26T01:16:15.656806799Z",
     "start_time": "2023-10-26T01:16:14.397311776Z"
    }
   },
   "id": "5a59dcaa48fc0e98"
  },
  {
   "cell_type": "code",
   "execution_count": 82,
   "outputs": [],
   "source": [
    "df = pd.DataFrame(ser.values.reshape(7, 5))"
   ],
   "metadata": {
    "collapsed": false,
    "ExecuteTime": {
     "end_time": "2023-10-26T01:16:15.674661946Z",
     "start_time": "2023-10-26T01:16:14.417200550Z"
    }
   },
   "id": "6a1ab4f164585303"
  },
  {
   "cell_type": "code",
   "execution_count": 83,
   "outputs": [
    {
     "data": {
      "text/plain": "   0  1  2  3  4\n0  4  2  3  1  7\n1  6  7  6  4  8\n2  1  8  1  2  1\n3  2  9  5  1  2\n4  4  5  2  9  2\n5  1  3  8  5  5\n6  1  2  1  4  2",
      "text/html": "<div>\n<style scoped>\n    .dataframe tbody tr th:only-of-type {\n        vertical-align: middle;\n    }\n\n    .dataframe tbody tr th {\n        vertical-align: top;\n    }\n\n    .dataframe thead th {\n        text-align: right;\n    }\n</style>\n<table border=\"1\" class=\"dataframe\">\n  <thead>\n    <tr style=\"text-align: right;\">\n      <th></th>\n      <th>0</th>\n      <th>1</th>\n      <th>2</th>\n      <th>3</th>\n      <th>4</th>\n    </tr>\n  </thead>\n  <tbody>\n    <tr>\n      <th>0</th>\n      <td>4</td>\n      <td>2</td>\n      <td>3</td>\n      <td>1</td>\n      <td>7</td>\n    </tr>\n    <tr>\n      <th>1</th>\n      <td>6</td>\n      <td>7</td>\n      <td>6</td>\n      <td>4</td>\n      <td>8</td>\n    </tr>\n    <tr>\n      <th>2</th>\n      <td>1</td>\n      <td>8</td>\n      <td>1</td>\n      <td>2</td>\n      <td>1</td>\n    </tr>\n    <tr>\n      <th>3</th>\n      <td>2</td>\n      <td>9</td>\n      <td>5</td>\n      <td>1</td>\n      <td>2</td>\n    </tr>\n    <tr>\n      <th>4</th>\n      <td>4</td>\n      <td>5</td>\n      <td>2</td>\n      <td>9</td>\n      <td>2</td>\n    </tr>\n    <tr>\n      <th>5</th>\n      <td>1</td>\n      <td>3</td>\n      <td>8</td>\n      <td>5</td>\n      <td>5</td>\n    </tr>\n    <tr>\n      <th>6</th>\n      <td>1</td>\n      <td>2</td>\n      <td>1</td>\n      <td>4</td>\n      <td>2</td>\n    </tr>\n  </tbody>\n</table>\n</div>"
     },
     "execution_count": 83,
     "metadata": {},
     "output_type": "execute_result"
    }
   ],
   "source": [
    "df"
   ],
   "metadata": {
    "collapsed": false,
    "ExecuteTime": {
     "end_time": "2023-10-26T01:16:15.706306313Z",
     "start_time": "2023-10-26T01:16:14.417686383Z"
    }
   },
   "id": "467f86f2998160a1"
  },
  {
   "cell_type": "markdown",
   "source": [
    "# How to find the positions of numbers that are multiples of 3 from a series?"
   ],
   "metadata": {
    "collapsed": false
   },
   "id": "76a34716f45d9a30"
  },
  {
   "cell_type": "code",
   "execution_count": 84,
   "outputs": [
    {
     "data": {
      "text/plain": "0    9\n1    7\n2    7\n3    7\n4    7\n5    3\n6    1\ndtype: int64"
     },
     "execution_count": 84,
     "metadata": {},
     "output_type": "execute_result"
    }
   ],
   "source": [
    "# cria uma Series chamada ser com 7 valores aleatórios entre 1 e 10.\n",
    "ser = pd.Series(np.random.randint(1, 10, 7))\n",
    "ser.head(7)"
   ],
   "metadata": {
    "collapsed": false,
    "ExecuteTime": {
     "end_time": "2023-10-26T01:16:15.709995347Z",
     "start_time": "2023-10-26T01:16:14.441613778Z"
    }
   },
   "id": "8db057977aa09eef"
  },
  {
   "cell_type": "code",
   "execution_count": 85,
   "outputs": [
    {
     "data": {
      "text/plain": "array([[0],\n       [5]])"
     },
     "execution_count": 85,
     "metadata": {},
     "output_type": "execute_result"
    }
   ],
   "source": [
    "np.argwhere(ser % 3==0) #retorna os índices dos valores em ser que são múltiplos de 3."
   ],
   "metadata": {
    "collapsed": false,
    "ExecuteTime": {
     "end_time": "2023-10-26T01:16:15.710528877Z",
     "start_time": "2023-10-26T01:16:14.441895068Z"
    }
   },
   "id": "f438fe6f8593a3cc"
  },
  {
   "cell_type": "markdown",
   "source": [
    "# How to extract items at given positions from a series"
   ],
   "metadata": {
    "collapsed": false
   },
   "id": "33dd83a9661f2917"
  },
  {
   "cell_type": "code",
   "execution_count": 86,
   "outputs": [],
   "source": [
    "# # ser = pd.Series(list('abcdefghijklmnopqrstuvwxyz'))\n",
    "# # ser = pd.Series(np.array(list('abcdefghijklmnopqrstuvwxyz')))\n",
    "# ser = pd.Series(np.array(list('abcdefghijklmnopqrstuvwxyz')))\n",
    "# pos = [0, 4, 8, 14, 20]\n",
    "# # pos"
   ],
   "metadata": {
    "collapsed": false,
    "ExecuteTime": {
     "end_time": "2023-10-26T01:16:15.710788449Z",
     "start_time": "2023-10-26T01:16:14.442048004Z"
    }
   },
   "id": "287a62f299d6cc95"
  },
  {
   "cell_type": "code",
   "execution_count": 87,
   "outputs": [],
   "source": [
    "# ser = pd.Series(np.array(list('abcdefghijklmnopqrstuvwxyz')))\n",
    "# pos = np.array(pos)\n",
    "# \n",
    "# print(ser[pos])\n"
   ],
   "metadata": {
    "collapsed": false,
    "ExecuteTime": {
     "end_time": "2023-10-26T01:16:15.735858393Z",
     "start_time": "2023-10-26T01:16:14.452467120Z"
    }
   },
   "id": "d3f2436931511026"
  },
  {
   "cell_type": "markdown",
   "source": [
    "# How to stack two series vertically and horizontally ?"
   ],
   "metadata": {
    "collapsed": false
   },
   "id": "f52282bcbe407c26"
  },
  {
   "cell_type": "code",
   "execution_count": 88,
   "outputs": [],
   "source": [
    "ser1 = pd.Series(range(5))\n",
    "ser2 = pd.Series(['a', 'b', 'c', 'd', 'e'])"
   ],
   "metadata": {
    "collapsed": false,
    "ExecuteTime": {
     "end_time": "2023-10-26T01:16:15.765043287Z",
     "start_time": "2023-10-26T01:16:14.463245950Z"
    }
   },
   "id": "291f0e5a382c74cb"
  },
  {
   "cell_type": "code",
   "execution_count": 89,
   "outputs": [
    {
     "data": {
      "text/plain": "   0  1\n0  0  a\n1  1  b\n2  2  c\n3  3  d\n4  4  e",
      "text/html": "<div>\n<style scoped>\n    .dataframe tbody tr th:only-of-type {\n        vertical-align: middle;\n    }\n\n    .dataframe tbody tr th {\n        vertical-align: top;\n    }\n\n    .dataframe thead th {\n        text-align: right;\n    }\n</style>\n<table border=\"1\" class=\"dataframe\">\n  <thead>\n    <tr style=\"text-align: right;\">\n      <th></th>\n      <th>0</th>\n      <th>1</th>\n    </tr>\n  </thead>\n  <tbody>\n    <tr>\n      <th>0</th>\n      <td>0</td>\n      <td>a</td>\n    </tr>\n    <tr>\n      <th>1</th>\n      <td>1</td>\n      <td>b</td>\n    </tr>\n    <tr>\n      <th>2</th>\n      <td>2</td>\n      <td>c</td>\n    </tr>\n    <tr>\n      <th>3</th>\n      <td>3</td>\n      <td>d</td>\n    </tr>\n    <tr>\n      <th>4</th>\n      <td>4</td>\n      <td>e</td>\n    </tr>\n  </tbody>\n</table>\n</div>"
     },
     "execution_count": 89,
     "metadata": {},
     "output_type": "execute_result"
    }
   ],
   "source": [
    "pd.concat([ser1, ser2], axis=1)"
   ],
   "metadata": {
    "collapsed": false,
    "ExecuteTime": {
     "end_time": "2023-10-26T01:16:15.793579427Z",
     "start_time": "2023-10-26T01:16:14.463679477Z"
    }
   },
   "id": "af0a42180a7db7e5"
  },
  {
   "cell_type": "markdown",
   "source": [
    "# How to get the positions of items of series A in another series B?"
   ],
   "metadata": {
    "collapsed": false
   },
   "id": "f5c9cf4e6c7f8573"
  },
  {
   "cell_type": "code",
   "execution_count": 90,
   "outputs": [],
   "source": [
    "ser1 = pd.Series([10, 9, 6, 5, 3, 1, 12, 8, 13])\n",
    "ser2 = pd.Series([1, 3, 10, 13])"
   ],
   "metadata": {
    "collapsed": false,
    "ExecuteTime": {
     "end_time": "2023-10-26T01:16:15.813330139Z",
     "start_time": "2023-10-26T01:16:14.475344147Z"
    }
   },
   "id": "b1494b8c59232a4c"
  },
  {
   "cell_type": "code",
   "execution_count": 91,
   "outputs": [
    {
     "data": {
      "text/plain": "[5, 4, 0, 8]"
     },
     "execution_count": 91,
     "metadata": {},
     "output_type": "execute_result"
    }
   ],
   "source": [
    "[np.where(i == ser1)[0].tolist()[0] for i in ser2]"
   ],
   "metadata": {
    "collapsed": false,
    "ExecuteTime": {
     "end_time": "2023-10-26T01:16:15.851732312Z",
     "start_time": "2023-10-26T01:16:14.484649835Z"
    }
   },
   "id": "1eef57c490b4b59f"
  },
  {
   "cell_type": "code",
   "execution_count": 92,
   "outputs": [
    {
     "data": {
      "text/plain": "[5, 4, 0, 8]"
     },
     "execution_count": 92,
     "metadata": {},
     "output_type": "execute_result"
    }
   ],
   "source": [
    "[pd.Index(ser1).get_loc(i) for i in ser2]"
   ],
   "metadata": {
    "collapsed": false,
    "ExecuteTime": {
     "end_time": "2023-10-26T01:16:15.880719367Z",
     "start_time": "2023-10-26T01:16:14.495441444Z"
    }
   },
   "id": "fa1b14a6d57a957f"
  },
  {
   "cell_type": "code",
   "execution_count": 93,
   "outputs": [
    {
     "name": "stdout",
     "output_type": "stream",
     "text": [
      "1\n",
      "3\n",
      "10\n",
      "13\n"
     ]
    }
   ],
   "source": [
    "for i in ser2:\n",
    "    print(i)"
   ],
   "metadata": {
    "collapsed": false,
    "ExecuteTime": {
     "end_time": "2023-10-26T01:16:15.883607130Z",
     "start_time": "2023-10-26T01:16:14.505180241Z"
    }
   },
   "id": "321ee251de4eab80"
  },
  {
   "cell_type": "code",
   "execution_count": 94,
   "outputs": [
    {
     "data": {
      "text/plain": "1"
     },
     "execution_count": 94,
     "metadata": {},
     "output_type": "execute_result"
    }
   ],
   "source": [
    "pd.Index(ser1).get_loc(9)"
   ],
   "metadata": {
    "collapsed": false,
    "ExecuteTime": {
     "end_time": "2023-10-26T01:16:15.927605914Z",
     "start_time": "2023-10-26T01:16:14.515915704Z"
    }
   },
   "id": "f68488957334419d"
  },
  {
   "cell_type": "markdown",
   "source": [
    "# How to compute the mean squared error on a truth and predicted series?"
   ],
   "metadata": {
    "collapsed": false
   },
   "id": "f0e0e4d1db3cc6ab"
  },
  {
   "cell_type": "code",
   "execution_count": 95,
   "outputs": [],
   "source": [
    "truth = pd.Series(range(10))\n",
    "pred = pd.Series(range(10)) + np.random.random(10) # cria uma Series com 10 valores, começando em 0 e terminando em 9. A cada valor é adicionado um valor aleatório entre 0 e 1."
   ],
   "metadata": {
    "collapsed": false,
    "ExecuteTime": {
     "end_time": "2023-10-26T01:16:16.009997164Z",
     "start_time": "2023-10-26T01:16:14.526166032Z"
    }
   },
   "id": "4f2c8c189ae30381"
  },
  {
   "cell_type": "code",
   "execution_count": 96,
   "outputs": [
    {
     "data": {
      "text/plain": "0.29411741052006657"
     },
     "execution_count": 96,
     "metadata": {},
     "output_type": "execute_result"
    }
   ],
   "source": [
    "np.mean((truth-pred)**2)"
   ],
   "metadata": {
    "collapsed": false,
    "ExecuteTime": {
     "end_time": "2023-10-26T01:16:16.052007783Z",
     "start_time": "2023-10-26T01:16:14.529550312Z"
    }
   },
   "id": "385bf2f28bfd2852"
  },
  {
   "cell_type": "code",
   "execution_count": 97,
   "outputs": [
    {
     "data": {
      "text/plain": "0   -0.182848\n1   -0.717131\n2   -0.044160\n3   -0.139247\n4   -0.843879\n5   -0.571570\n6   -0.470785\n7   -0.481565\n8   -0.738437\n9   -0.578332\ndtype: float64"
     },
     "execution_count": 97,
     "metadata": {},
     "output_type": "execute_result"
    }
   ],
   "source": [
    "truth - pred"
   ],
   "metadata": {
    "collapsed": false,
    "ExecuteTime": {
     "end_time": "2023-10-26T01:16:16.057818784Z",
     "start_time": "2023-10-26T01:16:14.538011431Z"
    }
   },
   "id": "ce09da88fc868289"
  },
  {
   "cell_type": "code",
   "execution_count": 98,
   "outputs": [
    {
     "data": {
      "text/plain": "0    0.033433\n1    0.514277\n2    0.001950\n3    0.019390\n4    0.712132\n5    0.326692\n6    0.221638\n7    0.231905\n8    0.545289\n9    0.334468\ndtype: float64"
     },
     "execution_count": 98,
     "metadata": {},
     "output_type": "execute_result"
    }
   ],
   "source": [
    "(truth - pred)**2"
   ],
   "metadata": {
    "collapsed": false,
    "ExecuteTime": {
     "end_time": "2023-10-26T01:16:16.093272160Z",
     "start_time": "2023-10-26T01:16:14.547648270Z"
    }
   },
   "id": "fff9f790b142faa0"
  },
  {
   "cell_type": "markdown",
   "source": [
    "# How to convert the first character of each element in a series to uppercase?"
   ],
   "metadata": {
    "collapsed": false
   },
   "id": "69f2188ef904f636"
  },
  {
   "cell_type": "code",
   "execution_count": 99,
   "outputs": [],
   "source": [
    "ser = pd.Series(['how', 'to', 'kick', 'ass?'])"
   ],
   "metadata": {
    "collapsed": false,
    "ExecuteTime": {
     "end_time": "2023-10-26T01:16:16.100361885Z",
     "start_time": "2023-10-26T01:16:14.559264196Z"
    }
   },
   "id": "2a1cba5c2f7e126c"
  },
  {
   "cell_type": "code",
   "execution_count": 100,
   "outputs": [
    {
     "data": {
      "text/plain": "0     How\n1      To\n2    Kick\n3    Ass?\ndtype: object"
     },
     "execution_count": 100,
     "metadata": {},
     "output_type": "execute_result"
    }
   ],
   "source": [
    "ser.map(lambda x: x.title())"
   ],
   "metadata": {
    "collapsed": false,
    "ExecuteTime": {
     "end_time": "2023-10-26T01:16:16.101577899Z",
     "start_time": "2023-10-26T01:16:14.602081394Z"
    }
   },
   "id": "c820f8f66d933417"
  },
  {
   "cell_type": "code",
   "execution_count": 101,
   "outputs": [
    {
     "data": {
      "text/plain": "0     How\n1      To\n2    Kick\n3    Ass?\ndtype: object"
     },
     "execution_count": 101,
     "metadata": {},
     "output_type": "execute_result"
    }
   ],
   "source": [
    "ser.map(lambda x: x[0].upper() + x[1:])"
   ],
   "metadata": {
    "collapsed": false,
    "ExecuteTime": {
     "end_time": "2023-10-26T01:16:16.101919944Z",
     "start_time": "2023-10-26T01:16:14.602301790Z"
    }
   },
   "id": "3bc70f729c58ccb5"
  },
  {
   "cell_type": "code",
   "execution_count": 102,
   "outputs": [
    {
     "data": {
      "text/plain": "0     How\n1      To\n2    Kick\n3    Ass?\ndtype: object"
     },
     "execution_count": 102,
     "metadata": {},
     "output_type": "execute_result"
    }
   ],
   "source": [
    "pd.Series([i.title() for i in ser])"
   ],
   "metadata": {
    "collapsed": false,
    "ExecuteTime": {
     "end_time": "2023-10-26T01:16:16.102198860Z",
     "start_time": "2023-10-26T01:16:14.602413733Z"
    }
   },
   "id": "94ae541027bf6ad8"
  },
  {
   "cell_type": "markdown",
   "source": [
    "# How to calculate the number of character in each word in a series"
   ],
   "metadata": {
    "collapsed": false
   },
   "id": "7491b3e6e71ed51f"
  },
  {
   "cell_type": "code",
   "execution_count": 103,
   "outputs": [],
   "source": [
    "ser = pd.Series(['how', 'to', 'kick', 'ass?'])"
   ],
   "metadata": {
    "collapsed": false,
    "ExecuteTime": {
     "end_time": "2023-10-26T01:16:16.102343765Z",
     "start_time": "2023-10-26T01:16:14.602499209Z"
    }
   },
   "id": "14aa20471ac8fb53"
  },
  {
   "cell_type": "code",
   "execution_count": 104,
   "outputs": [
    {
     "data": {
      "text/plain": "0    3\n1    2\n2    4\n3    4\ndtype: int64"
     },
     "execution_count": 104,
     "metadata": {},
     "output_type": "execute_result"
    }
   ],
   "source": [
    "ser.map(lambda x: len(x))"
   ],
   "metadata": {
    "collapsed": false,
    "ExecuteTime": {
     "end_time": "2023-10-26T01:16:16.102629036Z",
     "start_time": "2023-10-26T01:16:14.602575049Z"
    }
   },
   "id": "9dbc6990deaad10a"
  },
  {
   "cell_type": "markdown",
   "source": [
    "# How to compute difference of differences between consequtive numbers of a series?"
   ],
   "metadata": {
    "collapsed": false
   },
   "id": "f8be6c5690b76b35"
  },
  {
   "cell_type": "code",
   "execution_count": 105,
   "outputs": [],
   "source": [
    "ser = pd.Series([1, 3, 6, 10, 15, 21, 27, 35])"
   ],
   "metadata": {
    "collapsed": false,
    "ExecuteTime": {
     "end_time": "2023-10-26T01:16:16.102756063Z",
     "start_time": "2023-10-26T01:16:14.610025605Z"
    }
   },
   "id": "aaff921ba8a604e8"
  },
  {
   "cell_type": "code",
   "execution_count": 106,
   "outputs": [
    {
     "name": "stdout",
     "output_type": "stream",
     "text": [
      "[nan, 2.0, 3.0, 4.0, 5.0, 6.0, 6.0, 8.0]\n"
     ]
    }
   ],
   "source": [
    "print(ser.diff().tolist())"
   ],
   "metadata": {
    "collapsed": false,
    "ExecuteTime": {
     "end_time": "2023-10-26T01:16:16.106473939Z",
     "start_time": "2023-10-26T01:16:14.624520913Z"
    }
   },
   "id": "448ae58eb6f7337a"
  },
  {
   "cell_type": "code",
   "execution_count": 107,
   "outputs": [
    {
     "name": "stdout",
     "output_type": "stream",
     "text": [
      "[nan, nan, 1.0, 1.0, 1.0, 1.0, 0.0, 2.0]\n"
     ]
    }
   ],
   "source": [
    "print(ser.diff().diff().tolist())"
   ],
   "metadata": {
    "collapsed": false,
    "ExecuteTime": {
     "end_time": "2023-10-26T01:16:16.106842730Z",
     "start_time": "2023-10-26T01:16:14.668907065Z"
    }
   },
   "id": "86cfacd0b0891258"
  },
  {
   "cell_type": "markdown",
   "source": [
    "# How to convert a series of date-string to a timeseries?"
   ],
   "metadata": {
    "collapsed": false
   },
   "id": "bd30ac63af8ddb8"
  },
  {
   "cell_type": "code",
   "execution_count": 108,
   "outputs": [],
   "source": [
    "ser = pd.Series(['01 Jan 2010', '02-02-2011', '20120303', '2013/04/04', '2014-05-05', '2015-06-06T12:20'])"
   ],
   "metadata": {
    "collapsed": false,
    "ExecuteTime": {
     "end_time": "2023-10-26T01:16:16.107047203Z",
     "start_time": "2023-10-26T01:16:14.669186889Z"
    }
   },
   "id": "8b1f082e520cc1be"
  },
  {
   "cell_type": "code",
   "execution_count": 109,
   "outputs": [
    {
     "ename": "ValueError",
     "evalue": "time data \"02-02-2011\" doesn't match format \"%d %b %Y\", at position 1. You might want to try:\n    - passing `format` if your strings have a consistent format;\n    - passing `format='ISO8601'` if your strings are all ISO8601 but not necessarily in exactly the same format;\n    - passing `format='mixed'`, and the format will be inferred for each element individually. You might want to use `dayfirst` alongside this.",
     "output_type": "error",
     "traceback": [
      "\u001B[0;31m---------------------------------------------------------------------------\u001B[0m",
      "\u001B[0;31mValueError\u001B[0m                                Traceback (most recent call last)",
      "Cell \u001B[0;32mIn[109], line 1\u001B[0m\n\u001B[0;32m----> 1\u001B[0m \u001B[43mpd\u001B[49m\u001B[38;5;241;43m.\u001B[39;49m\u001B[43mto_datetime\u001B[49m\u001B[43m(\u001B[49m\u001B[43mser\u001B[49m\u001B[43m)\u001B[49m\n",
      "File \u001B[0;32m~/PycharmProjects/data_analytics_projects/venv/lib/python3.11/site-packages/pandas/core/tools/datetimes.py:1112\u001B[0m, in \u001B[0;36mto_datetime\u001B[0;34m(arg, errors, dayfirst, yearfirst, utc, format, exact, unit, infer_datetime_format, origin, cache)\u001B[0m\n\u001B[1;32m   1110\u001B[0m         result \u001B[38;5;241m=\u001B[39m arg\u001B[38;5;241m.\u001B[39mmap(cache_array)\n\u001B[1;32m   1111\u001B[0m     \u001B[38;5;28;01melse\u001B[39;00m:\n\u001B[0;32m-> 1112\u001B[0m         values \u001B[38;5;241m=\u001B[39m \u001B[43mconvert_listlike\u001B[49m\u001B[43m(\u001B[49m\u001B[43marg\u001B[49m\u001B[38;5;241;43m.\u001B[39;49m\u001B[43m_values\u001B[49m\u001B[43m,\u001B[49m\u001B[43m \u001B[49m\u001B[38;5;28;43mformat\u001B[39;49m\u001B[43m)\u001B[49m\n\u001B[1;32m   1113\u001B[0m         result \u001B[38;5;241m=\u001B[39m arg\u001B[38;5;241m.\u001B[39m_constructor(values, index\u001B[38;5;241m=\u001B[39marg\u001B[38;5;241m.\u001B[39mindex, name\u001B[38;5;241m=\u001B[39marg\u001B[38;5;241m.\u001B[39mname)\n\u001B[1;32m   1114\u001B[0m \u001B[38;5;28;01melif\u001B[39;00m \u001B[38;5;28misinstance\u001B[39m(arg, (ABCDataFrame, abc\u001B[38;5;241m.\u001B[39mMutableMapping)):\n",
      "File \u001B[0;32m~/PycharmProjects/data_analytics_projects/venv/lib/python3.11/site-packages/pandas/core/tools/datetimes.py:488\u001B[0m, in \u001B[0;36m_convert_listlike_datetimes\u001B[0;34m(arg, format, name, utc, unit, errors, dayfirst, yearfirst, exact)\u001B[0m\n\u001B[1;32m    486\u001B[0m \u001B[38;5;66;03m# `format` could be inferred, or user didn't ask for mixed-format parsing.\u001B[39;00m\n\u001B[1;32m    487\u001B[0m \u001B[38;5;28;01mif\u001B[39;00m \u001B[38;5;28mformat\u001B[39m \u001B[38;5;129;01mis\u001B[39;00m \u001B[38;5;129;01mnot\u001B[39;00m \u001B[38;5;28;01mNone\u001B[39;00m \u001B[38;5;129;01mand\u001B[39;00m \u001B[38;5;28mformat\u001B[39m \u001B[38;5;241m!=\u001B[39m \u001B[38;5;124m\"\u001B[39m\u001B[38;5;124mmixed\u001B[39m\u001B[38;5;124m\"\u001B[39m:\n\u001B[0;32m--> 488\u001B[0m     \u001B[38;5;28;01mreturn\u001B[39;00m \u001B[43m_array_strptime_with_fallback\u001B[49m\u001B[43m(\u001B[49m\u001B[43marg\u001B[49m\u001B[43m,\u001B[49m\u001B[43m \u001B[49m\u001B[43mname\u001B[49m\u001B[43m,\u001B[49m\u001B[43m \u001B[49m\u001B[43mutc\u001B[49m\u001B[43m,\u001B[49m\u001B[43m \u001B[49m\u001B[38;5;28;43mformat\u001B[39;49m\u001B[43m,\u001B[49m\u001B[43m \u001B[49m\u001B[43mexact\u001B[49m\u001B[43m,\u001B[49m\u001B[43m \u001B[49m\u001B[43merrors\u001B[49m\u001B[43m)\u001B[49m\n\u001B[1;32m    490\u001B[0m result, tz_parsed \u001B[38;5;241m=\u001B[39m objects_to_datetime64ns(\n\u001B[1;32m    491\u001B[0m     arg,\n\u001B[1;32m    492\u001B[0m     dayfirst\u001B[38;5;241m=\u001B[39mdayfirst,\n\u001B[0;32m   (...)\u001B[0m\n\u001B[1;32m    496\u001B[0m     allow_object\u001B[38;5;241m=\u001B[39m\u001B[38;5;28;01mTrue\u001B[39;00m,\n\u001B[1;32m    497\u001B[0m )\n\u001B[1;32m    499\u001B[0m \u001B[38;5;28;01mif\u001B[39;00m tz_parsed \u001B[38;5;129;01mis\u001B[39;00m \u001B[38;5;129;01mnot\u001B[39;00m \u001B[38;5;28;01mNone\u001B[39;00m:\n\u001B[1;32m    500\u001B[0m     \u001B[38;5;66;03m# We can take a shortcut since the datetime64 numpy array\u001B[39;00m\n\u001B[1;32m    501\u001B[0m     \u001B[38;5;66;03m# is in UTC\u001B[39;00m\n",
      "File \u001B[0;32m~/PycharmProjects/data_analytics_projects/venv/lib/python3.11/site-packages/pandas/core/tools/datetimes.py:519\u001B[0m, in \u001B[0;36m_array_strptime_with_fallback\u001B[0;34m(arg, name, utc, fmt, exact, errors)\u001B[0m\n\u001B[1;32m    508\u001B[0m \u001B[38;5;28;01mdef\u001B[39;00m \u001B[38;5;21m_array_strptime_with_fallback\u001B[39m(\n\u001B[1;32m    509\u001B[0m     arg,\n\u001B[1;32m    510\u001B[0m     name,\n\u001B[0;32m   (...)\u001B[0m\n\u001B[1;32m    514\u001B[0m     errors: \u001B[38;5;28mstr\u001B[39m,\n\u001B[1;32m    515\u001B[0m ) \u001B[38;5;241m-\u001B[39m\u001B[38;5;241m>\u001B[39m Index:\n\u001B[1;32m    516\u001B[0m \u001B[38;5;250m    \u001B[39m\u001B[38;5;124;03m\"\"\"\u001B[39;00m\n\u001B[1;32m    517\u001B[0m \u001B[38;5;124;03m    Call array_strptime, with fallback behavior depending on 'errors'.\u001B[39;00m\n\u001B[1;32m    518\u001B[0m \u001B[38;5;124;03m    \"\"\"\u001B[39;00m\n\u001B[0;32m--> 519\u001B[0m     result, timezones \u001B[38;5;241m=\u001B[39m \u001B[43marray_strptime\u001B[49m\u001B[43m(\u001B[49m\u001B[43marg\u001B[49m\u001B[43m,\u001B[49m\u001B[43m \u001B[49m\u001B[43mfmt\u001B[49m\u001B[43m,\u001B[49m\u001B[43m \u001B[49m\u001B[43mexact\u001B[49m\u001B[38;5;241;43m=\u001B[39;49m\u001B[43mexact\u001B[49m\u001B[43m,\u001B[49m\u001B[43m \u001B[49m\u001B[43merrors\u001B[49m\u001B[38;5;241;43m=\u001B[39;49m\u001B[43merrors\u001B[49m\u001B[43m,\u001B[49m\u001B[43m \u001B[49m\u001B[43mutc\u001B[49m\u001B[38;5;241;43m=\u001B[39;49m\u001B[43mutc\u001B[49m\u001B[43m)\u001B[49m\n\u001B[1;32m    520\u001B[0m     \u001B[38;5;28;01mif\u001B[39;00m \u001B[38;5;28many\u001B[39m(tz \u001B[38;5;129;01mis\u001B[39;00m \u001B[38;5;129;01mnot\u001B[39;00m \u001B[38;5;28;01mNone\u001B[39;00m \u001B[38;5;28;01mfor\u001B[39;00m tz \u001B[38;5;129;01min\u001B[39;00m timezones):\n\u001B[1;32m    521\u001B[0m         \u001B[38;5;28;01mreturn\u001B[39;00m _return_parsed_timezone_results(result, timezones, utc, name)\n",
      "File \u001B[0;32mstrptime.pyx:534\u001B[0m, in \u001B[0;36mpandas._libs.tslibs.strptime.array_strptime\u001B[0;34m()\u001B[0m\n",
      "File \u001B[0;32mstrptime.pyx:355\u001B[0m, in \u001B[0;36mpandas._libs.tslibs.strptime.array_strptime\u001B[0;34m()\u001B[0m\n",
      "\u001B[0;31mValueError\u001B[0m: time data \"02-02-2011\" doesn't match format \"%d %b %Y\", at position 1. You might want to try:\n    - passing `format` if your strings have a consistent format;\n    - passing `format='ISO8601'` if your strings are all ISO8601 but not necessarily in exactly the same format;\n    - passing `format='mixed'`, and the format will be inferred for each element individually. You might want to use `dayfirst` alongside this."
     ]
    }
   ],
   "source": [
    "pd.to_datetime(ser)"
   ],
   "metadata": {
    "collapsed": false,
    "ExecuteTime": {
     "end_time": "2023-10-26T01:16:16.107542254Z",
     "start_time": "2023-10-26T01:16:14.669306444Z"
    }
   },
   "id": "177a9b9711dcb86d"
  },
  {
   "cell_type": "code",
   "execution_count": null,
   "outputs": [],
   "source": [
    "from dateutil.parser import parse\n",
    "ser.map(lambda x: parse(x))"
   ],
   "metadata": {
    "collapsed": false,
    "ExecuteTime": {
     "start_time": "2023-10-26T01:16:14.734192274Z"
    }
   },
   "id": "e83194ab2fad7c39"
  },
  {
   "cell_type": "markdown",
   "source": [
    "# How to get the day of month, week number, day of year and day of week from a series of date strings?"
   ],
   "metadata": {
    "collapsed": false
   },
   "id": "a6cc3ab3a9163816"
  },
  {
   "cell_type": "code",
   "execution_count": null,
   "outputs": [],
   "source": [
    "ser = pd.Series(['01 Jan 2010', '02-02-2011', '20120303', '2013/04/04', '2014-05-05', '2015-06-06T12:20'])"
   ],
   "metadata": {
    "collapsed": false,
    "ExecuteTime": {
     "start_time": "2023-10-26T01:16:14.734402753Z"
    }
   },
   "id": "df51f64c979381e1"
  },
  {
   "cell_type": "code",
   "execution_count": null,
   "outputs": [],
   "source": [
    "ser_ts = ser.map(lambda x: parse(x))\n",
    "ser_ts"
   ],
   "metadata": {
    "collapsed": false,
    "ExecuteTime": {
     "start_time": "2023-10-26T01:16:14.734478732Z"
    }
   },
   "id": "4f3e744979d255f5"
  },
  {
   "cell_type": "code",
   "execution_count": null,
   "outputs": [],
   "source": [
    "print(\"Date: \", ser_ts.dt.day.tolist())\n",
    "print(\"Week number: \", ser_ts.dt.isocalendar().week.tolist())\n",
    "print(\"day number of year: \",ser_ts.dt.dayofyear.tolist())\n",
    "print(\"Day of week: \", ser_ts.dt.day_name().tolist())"
   ],
   "metadata": {
    "collapsed": false,
    "ExecuteTime": {
     "start_time": "2023-10-26T01:16:14.734550730Z"
    }
   },
   "id": "10f43df5dd81ed51"
  },
  {
   "cell_type": "markdown",
   "source": [
    "# How to convert year-month string to dates corresponding to the 4th day of the month?"
   ],
   "metadata": {
    "collapsed": false
   },
   "id": "fd3e691190a9e220"
  },
  {
   "cell_type": "code",
   "execution_count": null,
   "outputs": [],
   "source": [
    "ser = pd.Series(['Jan 2010', 'Feb 2011', 'Mar 2012'])"
   ],
   "metadata": {
    "collapsed": false,
    "ExecuteTime": {
     "start_time": "2023-10-26T01:16:14.734642771Z"
    }
   },
   "id": "ad80af5d3c6bcac"
  },
  {
   "cell_type": "code",
   "execution_count": null,
   "outputs": [],
   "source": [
    "ser_ts = ser.map(lambda x: parse('04 ' + x))\n",
    "ser_ts"
   ],
   "metadata": {
    "collapsed": false,
    "ExecuteTime": {
     "start_time": "2023-10-26T01:16:14.734736767Z"
    }
   },
   "id": "3e90e50083bfb2e1"
  },
  {
   "cell_type": "markdown",
   "source": [
    "# How to filter words that contain atleast 2 vowels from a series?"
   ],
   "metadata": {
    "collapsed": false
   },
   "id": "44fcbad558723913"
  },
  {
   "cell_type": "code",
   "execution_count": null,
   "outputs": [],
   "source": [
    "ser = pd.Series(['Apple', 'Orange', 'Plan', 'Python', 'Money'])"
   ],
   "metadata": {
    "collapsed": false,
    "ExecuteTime": {
     "start_time": "2023-10-26T01:16:14.734891798Z"
    }
   },
   "id": "f5d4582f2125473e"
  },
  {
   "cell_type": "code",
   "execution_count": null,
   "outputs": [],
   "source": [
    "from collections import Counter\n",
    "mask = ser.map(lambda x: sum([Counter(x.lower()).get(i, 0) for i in list('aeiou')]) >= 2)\n",
    "ser[mask]"
   ],
   "metadata": {
    "collapsed": false,
    "ExecuteTime": {
     "start_time": "2023-10-26T01:16:14.734970361Z"
    }
   },
   "id": "83e19c975d2cec0"
  },
  {
   "cell_type": "markdown",
   "source": [
    "# How to filter valid emails from a series?"
   ],
   "metadata": {
    "collapsed": false
   },
   "id": "d8b3ef9b4c396243"
  },
  {
   "cell_type": "code",
   "execution_count": null,
   "outputs": [],
   "source": [
    "emails = pd.Series(['buying books at amazom.com', 'rameses@egypt.com', 'matt@t.co', 'narendra@modi.com'])\n",
    "pattern = '[A-Za-z0-9._%+-]+@[A-Za-z0-9.-]+\\\\.[A-Za-z]{2,4}'"
   ],
   "metadata": {
    "collapsed": false,
    "ExecuteTime": {
     "start_time": "2023-10-26T01:16:14.735037751Z"
    }
   },
   "id": "4d6944915911d473"
  },
  {
   "cell_type": "code",
   "execution_count": null,
   "outputs": [],
   "source": [
    "import re\n",
    "emails.str.findall(pattern, flags=re.IGNORECASE)"
   ],
   "metadata": {
    "collapsed": false,
    "ExecuteTime": {
     "start_time": "2023-10-26T01:16:14.735101648Z"
    }
   },
   "id": "15024996928a9e4d"
  },
  {
   "cell_type": "code",
   "execution_count": null,
   "outputs": [],
   "source": [
    "[x[0] for x in [x for x in emails.str.findall(pattern) if len(x) > 0]]"
   ],
   "metadata": {
    "collapsed": false,
    "ExecuteTime": {
     "start_time": "2023-10-26T01:16:14.735189429Z"
    }
   },
   "id": "2985fe422bc5a0c7"
  },
  {
   "cell_type": "markdown",
   "source": [
    "# How to get the mean of a series grouped by another series?"
   ],
   "metadata": {
    "collapsed": false
   },
   "id": "74acc7cee01f9e52"
  },
  {
   "cell_type": "code",
   "execution_count": null,
   "outputs": [],
   "source": [
    "fruit = pd.Series(np.random.choice(['apple', 'banana', 'carrot'], 10))\n",
    "weights = pd.Series(np.linspace(1, 10, 10)) # cria uma Series com 10 valores, começando em 1 e terminando em 10.\n",
    "print(weights.tolist())\n",
    "print(fruit.tolist())"
   ],
   "metadata": {
    "collapsed": false,
    "ExecuteTime": {
     "start_time": "2023-10-26T01:16:14.735256120Z"
    }
   },
   "id": "217de24c6bb3845d"
  },
  {
   "cell_type": "code",
   "execution_count": null,
   "outputs": [],
   "source": [
    "weights.groupby(fruit).mean()"
   ],
   "metadata": {
    "collapsed": false,
    "ExecuteTime": {
     "start_time": "2023-10-26T01:16:14.735363734Z"
    }
   },
   "id": "d5dd9e24b1e1fb75"
  },
  {
   "cell_type": "markdown",
   "source": [
    "# How to compute the euclidean distance between two series?"
   ],
   "metadata": {
    "collapsed": false
   },
   "id": "76d0b1e33851f4ec"
  },
  {
   "cell_type": "code",
   "execution_count": null,
   "outputs": [],
   "source": [
    "p = pd.Series([1, 2, 3, 4, 5, 6, 7, 8, 9, 10])\n",
    "q = pd.Series([10, 9, 8, 7, 6, 5, 4, 3, 2, 1])"
   ],
   "metadata": {
    "collapsed": false,
    "ExecuteTime": {
     "start_time": "2023-10-26T01:16:14.735647119Z"
    }
   },
   "id": "c0a044b8f046084e"
  },
  {
   "cell_type": "code",
   "execution_count": null,
   "outputs": [],
   "source": [
    "sum((p - q)**2)**.5"
   ],
   "metadata": {
    "collapsed": false,
    "ExecuteTime": {
     "start_time": "2023-10-26T01:16:14.737600018Z"
    }
   },
   "id": "a326faa74fbd4642"
  },
  {
   "cell_type": "code",
   "execution_count": null,
   "outputs": [],
   "source": [
    "np.linalg.norm(p-q)"
   ],
   "metadata": {
    "collapsed": false,
    "ExecuteTime": {
     "start_time": "2023-10-26T01:16:14.778778569Z"
    }
   },
   "id": "9e7da944a870f115"
  },
  {
   "cell_type": "code",
   "execution_count": null,
   "outputs": [],
   "source": [
    "p-q"
   ],
   "metadata": {
    "collapsed": false,
    "ExecuteTime": {
     "start_time": "2023-10-26T01:16:14.778953991Z"
    }
   },
   "id": "370f8c0b8781e2f7"
  },
  {
   "cell_type": "markdown",
   "source": [
    "# How to find all the local maxima (or peaks) in a numeric series?"
   ],
   "metadata": {
    "collapsed": false
   },
   "id": "a1bc16ff6a95a879"
  },
  {
   "cell_type": "code",
   "execution_count": null,
   "outputs": [],
   "source": [
    "ser = pd.Series([2, 10, 3, 4, 9, 10, 2, 7, 3])"
   ],
   "metadata": {
    "collapsed": false,
    "ExecuteTime": {
     "start_time": "2023-10-26T01:16:14.779038769Z"
    }
   },
   "id": "adca59e8429dbe15"
  },
  {
   "cell_type": "code",
   "execution_count": null,
   "outputs": [],
   "source": [
    "dd = np.diff(np.sign(np.diff(ser)))\n",
    "peak_locs = np.where(dd == -2)[0] + 1\n",
    "peak_locs"
   ],
   "metadata": {
    "collapsed": false,
    "ExecuteTime": {
     "start_time": "2023-10-26T01:16:14.779100153Z"
    }
   },
   "id": "d28a5473c53721f0"
  },
  {
   "cell_type": "code",
   "execution_count": null,
   "outputs": [],
   "source": [
    "ser[peak_locs]"
   ],
   "metadata": {
    "collapsed": false,
    "ExecuteTime": {
     "start_time": "2023-10-26T01:16:14.779156230Z"
    }
   },
   "id": "18a29df3b53db64b"
  },
  {
   "cell_type": "code",
   "execution_count": null,
   "outputs": [],
   "source": [
    "np.diff(ser)"
   ],
   "metadata": {
    "collapsed": false,
    "ExecuteTime": {
     "start_time": "2023-10-26T01:16:14.779209164Z"
    }
   },
   "id": "64792c96159f2eb6"
  },
  {
   "cell_type": "code",
   "execution_count": null,
   "outputs": [],
   "source": [
    "np.sign(np.diff(ser))"
   ],
   "metadata": {
    "collapsed": false,
    "ExecuteTime": {
     "start_time": "2023-10-26T01:16:14.779272154Z"
    }
   },
   "id": "2e5650a7dcb5b87d"
  },
  {
   "cell_type": "code",
   "execution_count": null,
   "outputs": [],
   "source": [
    "np.diff(np.sign(np.diff(ser)))"
   ],
   "metadata": {
    "collapsed": false,
    "ExecuteTime": {
     "start_time": "2023-10-26T01:16:14.779328300Z"
    }
   },
   "id": "5dc40f367f568c9a"
  },
  {
   "cell_type": "markdown",
   "source": [
    "# How to replace missing spaces in a string with the least frequent character?"
   ],
   "metadata": {
    "collapsed": false
   },
   "id": "e4a619d0f4a4c779"
  },
  {
   "cell_type": "code",
   "execution_count": null,
   "outputs": [],
   "source": [
    "my_str = 'dbc deb abed gade'"
   ],
   "metadata": {
    "collapsed": false,
    "ExecuteTime": {
     "start_time": "2023-10-26T01:16:14.779381443Z"
    }
   },
   "id": "3cd13fd1fbb6f7a8"
  },
  {
   "cell_type": "code",
   "execution_count": null,
   "outputs": [],
   "source": [
    "ser = pd.Series(list('dbc deb abed gade'))\n",
    "freq = ser.value_counts()\n",
    "freq"
   ],
   "metadata": {
    "collapsed": false,
    "ExecuteTime": {
     "start_time": "2023-10-26T01:16:14.779433400Z"
    }
   },
   "id": "306acdf4e6613812"
  },
  {
   "cell_type": "code",
   "execution_count": null,
   "outputs": [],
   "source": [
    "least_freq = freq.dropna().index[-1]\n",
    "\"\".join(ser.replace(' ', least_freq))"
   ],
   "metadata": {
    "collapsed": false,
    "ExecuteTime": {
     "start_time": "2023-10-26T01:16:14.779484308Z"
    }
   },
   "id": "f256a13fbc127fde"
  },
  {
   "cell_type": "code",
   "execution_count": null,
   "outputs": [],
   "source": [
    "print(least_freq)"
   ],
   "metadata": {
    "collapsed": false,
    "ExecuteTime": {
     "start_time": "2023-10-26T01:16:14.779528303Z"
    }
   },
   "id": "e4ea06ca88b587d3"
  },
  {
   "cell_type": "markdown",
   "source": [
    "# How to create a TimeSeries starting ‘2000-01-01’ and 10 weekends (saturdays) after that having random numbers as values?"
   ],
   "metadata": {
    "collapsed": false
   },
   "id": "aff73ebe39d7cadf"
  },
  {
   "cell_type": "code",
   "execution_count": null,
   "outputs": [],
   "source": [
    "ser = pd.Series(np.random.randint(1, 10, 10), pd.date_range('2000-01-01', periods=10, freq='W-SAT'))\n",
    "ser"
   ],
   "metadata": {
    "collapsed": false,
    "ExecuteTime": {
     "start_time": "2023-10-26T01:16:14.779569785Z"
    }
   },
   "id": "248adde97f10c283"
  },
  {
   "cell_type": "code",
   "execution_count": null,
   "outputs": [],
   "source": [
    "np.random.randint(1, 10, 10) # cria uma Series com 10 valores aleatórios entre 1 e 10.\n",
    "pd.date_range('2000-01-01', periods=10, freq='W-SAT') # cria uma Series com 10 datas, começando em 2000-01-01 e terminando em 2000-03-04, com frequência semanal aos sábados."
   ],
   "metadata": {
    "collapsed": false,
    "ExecuteTime": {
     "start_time": "2023-10-26T01:16:14.779613012Z"
    }
   },
   "id": "a2455a2d7ae180bd"
  },
  {
   "cell_type": "markdown",
   "source": [
    "# How to fill an intermittent time series so all missing dates show up with values of previous non-missing date?"
   ],
   "metadata": {
    "collapsed": false
   },
   "id": "6bff1f95e7b3afec"
  },
  {
   "cell_type": "code",
   "execution_count": 112,
   "outputs": [
    {
     "data": {
      "text/plain": "2000-01-01     1.0\n2000-01-03    10.0\n2000-01-06     3.0\n2000-01-08     NaN\ndtype: float64"
     },
     "execution_count": 112,
     "metadata": {},
     "output_type": "execute_result"
    }
   ],
   "source": [
    "ser = pd.Series([1, 10, 3, np.nan], index=pd.to_datetime(['2000-01-01', '2000-01-03', '2000-01-06', '2000-01-08']))\n",
    "ser"
   ],
   "metadata": {
    "collapsed": false,
    "ExecuteTime": {
     "end_time": "2023-10-26T01:17:13.519043804Z",
     "start_time": "2023-10-26T01:17:13.457286104Z"
    }
   },
   "id": "88c51095a04869e8"
  },
  {
   "cell_type": "code",
   "execution_count": 111,
   "outputs": [
    {
     "data": {
      "text/plain": "2000-01-01     1.0\n2000-01-02     1.0\n2000-01-03    10.0\n2000-01-04    10.0\n2000-01-05    10.0\n2000-01-06     3.0\n2000-01-07     3.0\n2000-01-08     NaN\nFreq: D, dtype: float64"
     },
     "execution_count": 111,
     "metadata": {},
     "output_type": "execute_result"
    }
   ],
   "source": [
    "ser.resample('D').ffill() # resample('D') cria uma Series com frequência diária, e ffill() preenche os valores faltantes com o valor anterior."
   ],
   "metadata": {
    "collapsed": false,
    "ExecuteTime": {
     "end_time": "2023-10-26T01:16:49.872499246Z",
     "start_time": "2023-10-26T01:16:49.800068723Z"
    }
   },
   "id": "f2afce7bb2460b81"
  },
  {
   "cell_type": "code",
   "execution_count": 113,
   "outputs": [
    {
     "data": {
      "text/plain": "2000-01-01     1.0\n2000-01-02    10.0\n2000-01-03    10.0\n2000-01-04     3.0\n2000-01-05     3.0\n2000-01-06     3.0\n2000-01-07     NaN\n2000-01-08     NaN\nFreq: D, dtype: float64"
     },
     "execution_count": 113,
     "metadata": {},
     "output_type": "execute_result"
    }
   ],
   "source": [
    "ser.resample('D').bfill() # resample('D') cria uma Series com frequência diária, e bfill() preenche os valores faltantes com o valor posterior."
   ],
   "metadata": {
    "collapsed": false,
    "ExecuteTime": {
     "end_time": "2023-10-26T01:17:58.814328297Z",
     "start_time": "2023-10-26T01:17:58.755292714Z"
    }
   },
   "id": "f549c1996c7a953c"
  },
  {
   "cell_type": "code",
   "execution_count": 114,
   "outputs": [
    {
     "data": {
      "text/plain": "2000-01-01     1.0\n2000-01-02    10.0\n2000-01-03    10.0\n2000-01-04     3.0\n2000-01-05     3.0\n2000-01-06     3.0\n2000-01-07     3.0\n2000-01-08     3.0\nFreq: D, dtype: float64"
     },
     "execution_count": 114,
     "metadata": {},
     "output_type": "execute_result"
    }
   ],
   "source": [
    "ser.resample('D').bfill().ffill() # resample('D') cria uma Series com frequência diária, e bfill() preenche os valores faltantes com o valor posterior, e ffill() preenche os valores faltantes com o valor anterior."
   ],
   "metadata": {
    "collapsed": false,
    "ExecuteTime": {
     "end_time": "2023-10-26T01:18:08.055984099Z",
     "start_time": "2023-10-26T01:18:07.993662841Z"
    }
   },
   "id": "cdb5d4d1572308b6"
  },
  {
   "cell_type": "markdown",
   "source": [
    "# How to compute the autocorrelations of a numeric series?"
   ],
   "metadata": {
    "collapsed": false
   },
   "id": "6dc54390a8abf8fb"
  },
  {
   "cell_type": "code",
   "execution_count": 117,
   "outputs": [
    {
     "data": {
      "text/plain": "0     -8.027988\n1     -6.202589\n2     -1.735865\n3      1.344939\n4      3.011417\n5     20.350215\n6     -4.376035\n7      5.938298\n8      8.330342\n9     14.680695\n10    -2.112779\n11    14.547442\n12    -7.993968\n13    25.868252\n14    -0.663148\n15    -0.968974\n16    28.969195\n17    14.207964\n18    14.327766\n19     7.040235\ndtype: float64"
     },
     "execution_count": 117,
     "metadata": {},
     "output_type": "execute_result"
    }
   ],
   "source": [
    "ser = pd.Series(np.arange(20) + np.random.normal(1, 10, 20))\n",
    "ser"
   ],
   "metadata": {
    "collapsed": false,
    "ExecuteTime": {
     "end_time": "2023-10-26T01:19:03.585284754Z",
     "start_time": "2023-10-26T01:19:03.562954246Z"
    }
   },
   "id": "903c4c1119578e7a"
  },
  {
   "cell_type": "code",
   "execution_count": 121,
   "outputs": [
    {
     "name": "stdout",
     "output_type": "stream",
     "text": [
      "[-0.17, 0.2, 0.08, 0.09, 0.03, 0.09, -0.15, 0.39, 0.1, -0.17]\n",
      "Lag having highest correlation:  8\n"
     ]
    }
   ],
   "source": [
    "autocorrelations = [ser.autocorr(i).round(2) for i in range(11)]\n",
    "print(autocorrelations[1:])\n",
    "print('Lag having highest correlation: ', np.argmax(np.abs(autocorrelations[1:])) + 1)"
   ],
   "metadata": {
    "collapsed": false,
    "ExecuteTime": {
     "end_time": "2023-10-26T01:22:08.761408660Z",
     "start_time": "2023-10-26T01:22:08.733498347Z"
    }
   },
   "id": "c8f0211a620646da"
  },
  {
   "cell_type": "markdown",
   "source": [
    "# How to import only every nth row from a csv file to create a dataframe?"
   ],
   "metadata": {
    "collapsed": false
   },
   "id": "6b92daedcf734f76"
  },
  {
   "cell_type": "code",
   "execution_count": 140,
   "outputs": [],
   "source": [
    "df = pd.read_csv('https://raw.githubusercontent.com/selva86/datasets/master/BostonHousing.csv', chunksize=50)\n",
    "df2 = pd.DataFrame()"
   ],
   "metadata": {
    "collapsed": false,
    "ExecuteTime": {
     "end_time": "2023-10-26T01:28:28.229063267Z",
     "start_time": "2023-10-26T01:28:28.157289320Z"
    }
   },
   "id": "c495925dfefac761"
  },
  {
   "cell_type": "code",
   "execution_count": 141,
   "outputs": [
    {
     "data": {
      "text/plain": "       crim    zn  indus  chas    nox     rm    age     dis  rad  tax  \\\n0   0.00632  18.0   2.31     0  0.538  6.575   65.2  4.0900    1  296   \n1   0.02731   0.0   7.07     0  0.469  6.421   78.9  4.9671    2  242   \n2   0.02729   0.0   7.07     0  0.469  7.185   61.1  4.9671    2  242   \n3   0.03237   0.0   2.18     0  0.458  6.998   45.8  6.0622    3  222   \n4   0.06905   0.0   2.18     0  0.458  7.147   54.2  6.0622    3  222   \n5   0.02985   0.0   2.18     0  0.458  6.430   58.7  6.0622    3  222   \n6   0.08829  12.5   7.87     0  0.524  6.012   66.6  5.5605    5  311   \n7   0.14455  12.5   7.87     0  0.524  6.172   96.1  5.9505    5  311   \n8   0.21124  12.5   7.87     0  0.524  5.631  100.0  6.0821    5  311   \n9   0.17004  12.5   7.87     0  0.524  6.004   85.9  6.5921    5  311   \n10  0.22489  12.5   7.87     0  0.524  6.377   94.3  6.3467    5  311   \n11  0.11747  12.5   7.87     0  0.524  6.009   82.9  6.2267    5  311   \n12  0.09378  12.5   7.87     0  0.524  5.889   39.0  5.4509    5  311   \n13  0.62976   0.0   8.14     0  0.538  5.949   61.8  4.7075    4  307   \n14  0.63796   0.0   8.14     0  0.538  6.096   84.5  4.4619    4  307   \n15  0.62739   0.0   8.14     0  0.538  5.834   56.5  4.4986    4  307   \n16  1.05393   0.0   8.14     0  0.538  5.935   29.3  4.4986    4  307   \n17  0.78420   0.0   8.14     0  0.538  5.990   81.7  4.2579    4  307   \n18  0.80271   0.0   8.14     0  0.538  5.456   36.6  3.7965    4  307   \n19  0.72580   0.0   8.14     0  0.538  5.727   69.5  3.7965    4  307   \n20  1.25179   0.0   8.14     0  0.538  5.570   98.1  3.7979    4  307   \n21  0.85204   0.0   8.14     0  0.538  5.965   89.2  4.0123    4  307   \n22  1.23247   0.0   8.14     0  0.538  6.142   91.7  3.9769    4  307   \n23  0.98843   0.0   8.14     0  0.538  5.813  100.0  4.0952    4  307   \n24  0.75026   0.0   8.14     0  0.538  5.924   94.1  4.3996    4  307   \n25  0.84054   0.0   8.14     0  0.538  5.599   85.7  4.4546    4  307   \n26  0.67191   0.0   8.14     0  0.538  5.813   90.3  4.6820    4  307   \n27  0.95577   0.0   8.14     0  0.538  6.047   88.8  4.4534    4  307   \n28  0.77299   0.0   8.14     0  0.538  6.495   94.4  4.4547    4  307   \n29  1.00245   0.0   8.14     0  0.538  6.674   87.3  4.2390    4  307   \n30  1.13081   0.0   8.14     0  0.538  5.713   94.1  4.2330    4  307   \n31  1.35472   0.0   8.14     0  0.538  6.072  100.0  4.1750    4  307   \n32  1.38799   0.0   8.14     0  0.538  5.950   82.0  3.9900    4  307   \n33  1.15172   0.0   8.14     0  0.538  5.701   95.0  3.7872    4  307   \n34  1.61282   0.0   8.14     0  0.538  6.096   96.9  3.7598    4  307   \n35  0.06417   0.0   5.96     0  0.499  5.933   68.2  3.3603    5  279   \n36  0.09744   0.0   5.96     0  0.499  5.841   61.4  3.3779    5  279   \n37  0.08014   0.0   5.96     0  0.499  5.850   41.5  3.9342    5  279   \n38  0.17505   0.0   5.96     0  0.499  5.966   30.2  3.8473    5  279   \n39  0.02763  75.0   2.95     0  0.428  6.595   21.8  5.4011    3  252   \n40  0.03359  75.0   2.95     0  0.428  7.024   15.8  5.4011    3  252   \n41  0.12744   0.0   6.91     0  0.448  6.770    2.9  5.7209    3  233   \n42  0.14150   0.0   6.91     0  0.448  6.169    6.6  5.7209    3  233   \n43  0.15936   0.0   6.91     0  0.448  6.211    6.5  5.7209    3  233   \n44  0.12269   0.0   6.91     0  0.448  6.069   40.0  5.7209    3  233   \n45  0.17142   0.0   6.91     0  0.448  5.682   33.8  5.1004    3  233   \n46  0.18836   0.0   6.91     0  0.448  5.786   33.3  5.1004    3  233   \n47  0.22927   0.0   6.91     0  0.448  6.030   85.5  5.6894    3  233   \n48  0.25387   0.0   6.91     0  0.448  5.399   95.3  5.8700    3  233   \n49  0.21977   0.0   6.91     0  0.448  5.602   62.0  6.0877    3  233   \n\n    ptratio       b  lstat  medv  \n0      15.3  396.90   4.98  24.0  \n1      17.8  396.90   9.14  21.6  \n2      17.8  392.83   4.03  34.7  \n3      18.7  394.63   2.94  33.4  \n4      18.7  396.90   5.33  36.2  \n5      18.7  394.12   5.21  28.7  \n6      15.2  395.60  12.43  22.9  \n7      15.2  396.90  19.15  27.1  \n8      15.2  386.63  29.93  16.5  \n9      15.2  386.71  17.10  18.9  \n10     15.2  392.52  20.45  15.0  \n11     15.2  396.90  13.27  18.9  \n12     15.2  390.50  15.71  21.7  \n13     21.0  396.90   8.26  20.4  \n14     21.0  380.02  10.26  18.2  \n15     21.0  395.62   8.47  19.9  \n16     21.0  386.85   6.58  23.1  \n17     21.0  386.75  14.67  17.5  \n18     21.0  288.99  11.69  20.2  \n19     21.0  390.95  11.28  18.2  \n20     21.0  376.57  21.02  13.6  \n21     21.0  392.53  13.83  19.6  \n22     21.0  396.90  18.72  15.2  \n23     21.0  394.54  19.88  14.5  \n24     21.0  394.33  16.30  15.6  \n25     21.0  303.42  16.51  13.9  \n26     21.0  376.88  14.81  16.6  \n27     21.0  306.38  17.28  14.8  \n28     21.0  387.94  12.80  18.4  \n29     21.0  380.23  11.98  21.0  \n30     21.0  360.17  22.60  12.7  \n31     21.0  376.73  13.04  14.5  \n32     21.0  232.60  27.71  13.2  \n33     21.0  358.77  18.35  13.1  \n34     21.0  248.31  20.34  13.5  \n35     19.2  396.90   9.68  18.9  \n36     19.2  377.56  11.41  20.0  \n37     19.2  396.90   8.77  21.0  \n38     19.2  393.43  10.13  24.7  \n39     18.3  395.63   4.32  30.8  \n40     18.3  395.62   1.98  34.9  \n41     17.9  385.41   4.84  26.6  \n42     17.9  383.37   5.81  25.3  \n43     17.9  394.46   7.44  24.7  \n44     17.9  389.39   9.55  21.2  \n45     17.9  396.90  10.21  19.3  \n46     17.9  396.90  14.15  20.0  \n47     17.9  392.74  18.80  16.6  \n48     17.9  396.90  30.81  14.4  \n49     17.9  396.90  16.20  19.4  ",
      "text/html": "<div>\n<style scoped>\n    .dataframe tbody tr th:only-of-type {\n        vertical-align: middle;\n    }\n\n    .dataframe tbody tr th {\n        vertical-align: top;\n    }\n\n    .dataframe thead th {\n        text-align: right;\n    }\n</style>\n<table border=\"1\" class=\"dataframe\">\n  <thead>\n    <tr style=\"text-align: right;\">\n      <th></th>\n      <th>crim</th>\n      <th>zn</th>\n      <th>indus</th>\n      <th>chas</th>\n      <th>nox</th>\n      <th>rm</th>\n      <th>age</th>\n      <th>dis</th>\n      <th>rad</th>\n      <th>tax</th>\n      <th>ptratio</th>\n      <th>b</th>\n      <th>lstat</th>\n      <th>medv</th>\n    </tr>\n  </thead>\n  <tbody>\n    <tr>\n      <th>0</th>\n      <td>0.00632</td>\n      <td>18.0</td>\n      <td>2.31</td>\n      <td>0</td>\n      <td>0.538</td>\n      <td>6.575</td>\n      <td>65.2</td>\n      <td>4.0900</td>\n      <td>1</td>\n      <td>296</td>\n      <td>15.3</td>\n      <td>396.90</td>\n      <td>4.98</td>\n      <td>24.0</td>\n    </tr>\n    <tr>\n      <th>1</th>\n      <td>0.02731</td>\n      <td>0.0</td>\n      <td>7.07</td>\n      <td>0</td>\n      <td>0.469</td>\n      <td>6.421</td>\n      <td>78.9</td>\n      <td>4.9671</td>\n      <td>2</td>\n      <td>242</td>\n      <td>17.8</td>\n      <td>396.90</td>\n      <td>9.14</td>\n      <td>21.6</td>\n    </tr>\n    <tr>\n      <th>2</th>\n      <td>0.02729</td>\n      <td>0.0</td>\n      <td>7.07</td>\n      <td>0</td>\n      <td>0.469</td>\n      <td>7.185</td>\n      <td>61.1</td>\n      <td>4.9671</td>\n      <td>2</td>\n      <td>242</td>\n      <td>17.8</td>\n      <td>392.83</td>\n      <td>4.03</td>\n      <td>34.7</td>\n    </tr>\n    <tr>\n      <th>3</th>\n      <td>0.03237</td>\n      <td>0.0</td>\n      <td>2.18</td>\n      <td>0</td>\n      <td>0.458</td>\n      <td>6.998</td>\n      <td>45.8</td>\n      <td>6.0622</td>\n      <td>3</td>\n      <td>222</td>\n      <td>18.7</td>\n      <td>394.63</td>\n      <td>2.94</td>\n      <td>33.4</td>\n    </tr>\n    <tr>\n      <th>4</th>\n      <td>0.06905</td>\n      <td>0.0</td>\n      <td>2.18</td>\n      <td>0</td>\n      <td>0.458</td>\n      <td>7.147</td>\n      <td>54.2</td>\n      <td>6.0622</td>\n      <td>3</td>\n      <td>222</td>\n      <td>18.7</td>\n      <td>396.90</td>\n      <td>5.33</td>\n      <td>36.2</td>\n    </tr>\n    <tr>\n      <th>5</th>\n      <td>0.02985</td>\n      <td>0.0</td>\n      <td>2.18</td>\n      <td>0</td>\n      <td>0.458</td>\n      <td>6.430</td>\n      <td>58.7</td>\n      <td>6.0622</td>\n      <td>3</td>\n      <td>222</td>\n      <td>18.7</td>\n      <td>394.12</td>\n      <td>5.21</td>\n      <td>28.7</td>\n    </tr>\n    <tr>\n      <th>6</th>\n      <td>0.08829</td>\n      <td>12.5</td>\n      <td>7.87</td>\n      <td>0</td>\n      <td>0.524</td>\n      <td>6.012</td>\n      <td>66.6</td>\n      <td>5.5605</td>\n      <td>5</td>\n      <td>311</td>\n      <td>15.2</td>\n      <td>395.60</td>\n      <td>12.43</td>\n      <td>22.9</td>\n    </tr>\n    <tr>\n      <th>7</th>\n      <td>0.14455</td>\n      <td>12.5</td>\n      <td>7.87</td>\n      <td>0</td>\n      <td>0.524</td>\n      <td>6.172</td>\n      <td>96.1</td>\n      <td>5.9505</td>\n      <td>5</td>\n      <td>311</td>\n      <td>15.2</td>\n      <td>396.90</td>\n      <td>19.15</td>\n      <td>27.1</td>\n    </tr>\n    <tr>\n      <th>8</th>\n      <td>0.21124</td>\n      <td>12.5</td>\n      <td>7.87</td>\n      <td>0</td>\n      <td>0.524</td>\n      <td>5.631</td>\n      <td>100.0</td>\n      <td>6.0821</td>\n      <td>5</td>\n      <td>311</td>\n      <td>15.2</td>\n      <td>386.63</td>\n      <td>29.93</td>\n      <td>16.5</td>\n    </tr>\n    <tr>\n      <th>9</th>\n      <td>0.17004</td>\n      <td>12.5</td>\n      <td>7.87</td>\n      <td>0</td>\n      <td>0.524</td>\n      <td>6.004</td>\n      <td>85.9</td>\n      <td>6.5921</td>\n      <td>5</td>\n      <td>311</td>\n      <td>15.2</td>\n      <td>386.71</td>\n      <td>17.10</td>\n      <td>18.9</td>\n    </tr>\n    <tr>\n      <th>10</th>\n      <td>0.22489</td>\n      <td>12.5</td>\n      <td>7.87</td>\n      <td>0</td>\n      <td>0.524</td>\n      <td>6.377</td>\n      <td>94.3</td>\n      <td>6.3467</td>\n      <td>5</td>\n      <td>311</td>\n      <td>15.2</td>\n      <td>392.52</td>\n      <td>20.45</td>\n      <td>15.0</td>\n    </tr>\n    <tr>\n      <th>11</th>\n      <td>0.11747</td>\n      <td>12.5</td>\n      <td>7.87</td>\n      <td>0</td>\n      <td>0.524</td>\n      <td>6.009</td>\n      <td>82.9</td>\n      <td>6.2267</td>\n      <td>5</td>\n      <td>311</td>\n      <td>15.2</td>\n      <td>396.90</td>\n      <td>13.27</td>\n      <td>18.9</td>\n    </tr>\n    <tr>\n      <th>12</th>\n      <td>0.09378</td>\n      <td>12.5</td>\n      <td>7.87</td>\n      <td>0</td>\n      <td>0.524</td>\n      <td>5.889</td>\n      <td>39.0</td>\n      <td>5.4509</td>\n      <td>5</td>\n      <td>311</td>\n      <td>15.2</td>\n      <td>390.50</td>\n      <td>15.71</td>\n      <td>21.7</td>\n    </tr>\n    <tr>\n      <th>13</th>\n      <td>0.62976</td>\n      <td>0.0</td>\n      <td>8.14</td>\n      <td>0</td>\n      <td>0.538</td>\n      <td>5.949</td>\n      <td>61.8</td>\n      <td>4.7075</td>\n      <td>4</td>\n      <td>307</td>\n      <td>21.0</td>\n      <td>396.90</td>\n      <td>8.26</td>\n      <td>20.4</td>\n    </tr>\n    <tr>\n      <th>14</th>\n      <td>0.63796</td>\n      <td>0.0</td>\n      <td>8.14</td>\n      <td>0</td>\n      <td>0.538</td>\n      <td>6.096</td>\n      <td>84.5</td>\n      <td>4.4619</td>\n      <td>4</td>\n      <td>307</td>\n      <td>21.0</td>\n      <td>380.02</td>\n      <td>10.26</td>\n      <td>18.2</td>\n    </tr>\n    <tr>\n      <th>15</th>\n      <td>0.62739</td>\n      <td>0.0</td>\n      <td>8.14</td>\n      <td>0</td>\n      <td>0.538</td>\n      <td>5.834</td>\n      <td>56.5</td>\n      <td>4.4986</td>\n      <td>4</td>\n      <td>307</td>\n      <td>21.0</td>\n      <td>395.62</td>\n      <td>8.47</td>\n      <td>19.9</td>\n    </tr>\n    <tr>\n      <th>16</th>\n      <td>1.05393</td>\n      <td>0.0</td>\n      <td>8.14</td>\n      <td>0</td>\n      <td>0.538</td>\n      <td>5.935</td>\n      <td>29.3</td>\n      <td>4.4986</td>\n      <td>4</td>\n      <td>307</td>\n      <td>21.0</td>\n      <td>386.85</td>\n      <td>6.58</td>\n      <td>23.1</td>\n    </tr>\n    <tr>\n      <th>17</th>\n      <td>0.78420</td>\n      <td>0.0</td>\n      <td>8.14</td>\n      <td>0</td>\n      <td>0.538</td>\n      <td>5.990</td>\n      <td>81.7</td>\n      <td>4.2579</td>\n      <td>4</td>\n      <td>307</td>\n      <td>21.0</td>\n      <td>386.75</td>\n      <td>14.67</td>\n      <td>17.5</td>\n    </tr>\n    <tr>\n      <th>18</th>\n      <td>0.80271</td>\n      <td>0.0</td>\n      <td>8.14</td>\n      <td>0</td>\n      <td>0.538</td>\n      <td>5.456</td>\n      <td>36.6</td>\n      <td>3.7965</td>\n      <td>4</td>\n      <td>307</td>\n      <td>21.0</td>\n      <td>288.99</td>\n      <td>11.69</td>\n      <td>20.2</td>\n    </tr>\n    <tr>\n      <th>19</th>\n      <td>0.72580</td>\n      <td>0.0</td>\n      <td>8.14</td>\n      <td>0</td>\n      <td>0.538</td>\n      <td>5.727</td>\n      <td>69.5</td>\n      <td>3.7965</td>\n      <td>4</td>\n      <td>307</td>\n      <td>21.0</td>\n      <td>390.95</td>\n      <td>11.28</td>\n      <td>18.2</td>\n    </tr>\n    <tr>\n      <th>20</th>\n      <td>1.25179</td>\n      <td>0.0</td>\n      <td>8.14</td>\n      <td>0</td>\n      <td>0.538</td>\n      <td>5.570</td>\n      <td>98.1</td>\n      <td>3.7979</td>\n      <td>4</td>\n      <td>307</td>\n      <td>21.0</td>\n      <td>376.57</td>\n      <td>21.02</td>\n      <td>13.6</td>\n    </tr>\n    <tr>\n      <th>21</th>\n      <td>0.85204</td>\n      <td>0.0</td>\n      <td>8.14</td>\n      <td>0</td>\n      <td>0.538</td>\n      <td>5.965</td>\n      <td>89.2</td>\n      <td>4.0123</td>\n      <td>4</td>\n      <td>307</td>\n      <td>21.0</td>\n      <td>392.53</td>\n      <td>13.83</td>\n      <td>19.6</td>\n    </tr>\n    <tr>\n      <th>22</th>\n      <td>1.23247</td>\n      <td>0.0</td>\n      <td>8.14</td>\n      <td>0</td>\n      <td>0.538</td>\n      <td>6.142</td>\n      <td>91.7</td>\n      <td>3.9769</td>\n      <td>4</td>\n      <td>307</td>\n      <td>21.0</td>\n      <td>396.90</td>\n      <td>18.72</td>\n      <td>15.2</td>\n    </tr>\n    <tr>\n      <th>23</th>\n      <td>0.98843</td>\n      <td>0.0</td>\n      <td>8.14</td>\n      <td>0</td>\n      <td>0.538</td>\n      <td>5.813</td>\n      <td>100.0</td>\n      <td>4.0952</td>\n      <td>4</td>\n      <td>307</td>\n      <td>21.0</td>\n      <td>394.54</td>\n      <td>19.88</td>\n      <td>14.5</td>\n    </tr>\n    <tr>\n      <th>24</th>\n      <td>0.75026</td>\n      <td>0.0</td>\n      <td>8.14</td>\n      <td>0</td>\n      <td>0.538</td>\n      <td>5.924</td>\n      <td>94.1</td>\n      <td>4.3996</td>\n      <td>4</td>\n      <td>307</td>\n      <td>21.0</td>\n      <td>394.33</td>\n      <td>16.30</td>\n      <td>15.6</td>\n    </tr>\n    <tr>\n      <th>25</th>\n      <td>0.84054</td>\n      <td>0.0</td>\n      <td>8.14</td>\n      <td>0</td>\n      <td>0.538</td>\n      <td>5.599</td>\n      <td>85.7</td>\n      <td>4.4546</td>\n      <td>4</td>\n      <td>307</td>\n      <td>21.0</td>\n      <td>303.42</td>\n      <td>16.51</td>\n      <td>13.9</td>\n    </tr>\n    <tr>\n      <th>26</th>\n      <td>0.67191</td>\n      <td>0.0</td>\n      <td>8.14</td>\n      <td>0</td>\n      <td>0.538</td>\n      <td>5.813</td>\n      <td>90.3</td>\n      <td>4.6820</td>\n      <td>4</td>\n      <td>307</td>\n      <td>21.0</td>\n      <td>376.88</td>\n      <td>14.81</td>\n      <td>16.6</td>\n    </tr>\n    <tr>\n      <th>27</th>\n      <td>0.95577</td>\n      <td>0.0</td>\n      <td>8.14</td>\n      <td>0</td>\n      <td>0.538</td>\n      <td>6.047</td>\n      <td>88.8</td>\n      <td>4.4534</td>\n      <td>4</td>\n      <td>307</td>\n      <td>21.0</td>\n      <td>306.38</td>\n      <td>17.28</td>\n      <td>14.8</td>\n    </tr>\n    <tr>\n      <th>28</th>\n      <td>0.77299</td>\n      <td>0.0</td>\n      <td>8.14</td>\n      <td>0</td>\n      <td>0.538</td>\n      <td>6.495</td>\n      <td>94.4</td>\n      <td>4.4547</td>\n      <td>4</td>\n      <td>307</td>\n      <td>21.0</td>\n      <td>387.94</td>\n      <td>12.80</td>\n      <td>18.4</td>\n    </tr>\n    <tr>\n      <th>29</th>\n      <td>1.00245</td>\n      <td>0.0</td>\n      <td>8.14</td>\n      <td>0</td>\n      <td>0.538</td>\n      <td>6.674</td>\n      <td>87.3</td>\n      <td>4.2390</td>\n      <td>4</td>\n      <td>307</td>\n      <td>21.0</td>\n      <td>380.23</td>\n      <td>11.98</td>\n      <td>21.0</td>\n    </tr>\n    <tr>\n      <th>30</th>\n      <td>1.13081</td>\n      <td>0.0</td>\n      <td>8.14</td>\n      <td>0</td>\n      <td>0.538</td>\n      <td>5.713</td>\n      <td>94.1</td>\n      <td>4.2330</td>\n      <td>4</td>\n      <td>307</td>\n      <td>21.0</td>\n      <td>360.17</td>\n      <td>22.60</td>\n      <td>12.7</td>\n    </tr>\n    <tr>\n      <th>31</th>\n      <td>1.35472</td>\n      <td>0.0</td>\n      <td>8.14</td>\n      <td>0</td>\n      <td>0.538</td>\n      <td>6.072</td>\n      <td>100.0</td>\n      <td>4.1750</td>\n      <td>4</td>\n      <td>307</td>\n      <td>21.0</td>\n      <td>376.73</td>\n      <td>13.04</td>\n      <td>14.5</td>\n    </tr>\n    <tr>\n      <th>32</th>\n      <td>1.38799</td>\n      <td>0.0</td>\n      <td>8.14</td>\n      <td>0</td>\n      <td>0.538</td>\n      <td>5.950</td>\n      <td>82.0</td>\n      <td>3.9900</td>\n      <td>4</td>\n      <td>307</td>\n      <td>21.0</td>\n      <td>232.60</td>\n      <td>27.71</td>\n      <td>13.2</td>\n    </tr>\n    <tr>\n      <th>33</th>\n      <td>1.15172</td>\n      <td>0.0</td>\n      <td>8.14</td>\n      <td>0</td>\n      <td>0.538</td>\n      <td>5.701</td>\n      <td>95.0</td>\n      <td>3.7872</td>\n      <td>4</td>\n      <td>307</td>\n      <td>21.0</td>\n      <td>358.77</td>\n      <td>18.35</td>\n      <td>13.1</td>\n    </tr>\n    <tr>\n      <th>34</th>\n      <td>1.61282</td>\n      <td>0.0</td>\n      <td>8.14</td>\n      <td>0</td>\n      <td>0.538</td>\n      <td>6.096</td>\n      <td>96.9</td>\n      <td>3.7598</td>\n      <td>4</td>\n      <td>307</td>\n      <td>21.0</td>\n      <td>248.31</td>\n      <td>20.34</td>\n      <td>13.5</td>\n    </tr>\n    <tr>\n      <th>35</th>\n      <td>0.06417</td>\n      <td>0.0</td>\n      <td>5.96</td>\n      <td>0</td>\n      <td>0.499</td>\n      <td>5.933</td>\n      <td>68.2</td>\n      <td>3.3603</td>\n      <td>5</td>\n      <td>279</td>\n      <td>19.2</td>\n      <td>396.90</td>\n      <td>9.68</td>\n      <td>18.9</td>\n    </tr>\n    <tr>\n      <th>36</th>\n      <td>0.09744</td>\n      <td>0.0</td>\n      <td>5.96</td>\n      <td>0</td>\n      <td>0.499</td>\n      <td>5.841</td>\n      <td>61.4</td>\n      <td>3.3779</td>\n      <td>5</td>\n      <td>279</td>\n      <td>19.2</td>\n      <td>377.56</td>\n      <td>11.41</td>\n      <td>20.0</td>\n    </tr>\n    <tr>\n      <th>37</th>\n      <td>0.08014</td>\n      <td>0.0</td>\n      <td>5.96</td>\n      <td>0</td>\n      <td>0.499</td>\n      <td>5.850</td>\n      <td>41.5</td>\n      <td>3.9342</td>\n      <td>5</td>\n      <td>279</td>\n      <td>19.2</td>\n      <td>396.90</td>\n      <td>8.77</td>\n      <td>21.0</td>\n    </tr>\n    <tr>\n      <th>38</th>\n      <td>0.17505</td>\n      <td>0.0</td>\n      <td>5.96</td>\n      <td>0</td>\n      <td>0.499</td>\n      <td>5.966</td>\n      <td>30.2</td>\n      <td>3.8473</td>\n      <td>5</td>\n      <td>279</td>\n      <td>19.2</td>\n      <td>393.43</td>\n      <td>10.13</td>\n      <td>24.7</td>\n    </tr>\n    <tr>\n      <th>39</th>\n      <td>0.02763</td>\n      <td>75.0</td>\n      <td>2.95</td>\n      <td>0</td>\n      <td>0.428</td>\n      <td>6.595</td>\n      <td>21.8</td>\n      <td>5.4011</td>\n      <td>3</td>\n      <td>252</td>\n      <td>18.3</td>\n      <td>395.63</td>\n      <td>4.32</td>\n      <td>30.8</td>\n    </tr>\n    <tr>\n      <th>40</th>\n      <td>0.03359</td>\n      <td>75.0</td>\n      <td>2.95</td>\n      <td>0</td>\n      <td>0.428</td>\n      <td>7.024</td>\n      <td>15.8</td>\n      <td>5.4011</td>\n      <td>3</td>\n      <td>252</td>\n      <td>18.3</td>\n      <td>395.62</td>\n      <td>1.98</td>\n      <td>34.9</td>\n    </tr>\n    <tr>\n      <th>41</th>\n      <td>0.12744</td>\n      <td>0.0</td>\n      <td>6.91</td>\n      <td>0</td>\n      <td>0.448</td>\n      <td>6.770</td>\n      <td>2.9</td>\n      <td>5.7209</td>\n      <td>3</td>\n      <td>233</td>\n      <td>17.9</td>\n      <td>385.41</td>\n      <td>4.84</td>\n      <td>26.6</td>\n    </tr>\n    <tr>\n      <th>42</th>\n      <td>0.14150</td>\n      <td>0.0</td>\n      <td>6.91</td>\n      <td>0</td>\n      <td>0.448</td>\n      <td>6.169</td>\n      <td>6.6</td>\n      <td>5.7209</td>\n      <td>3</td>\n      <td>233</td>\n      <td>17.9</td>\n      <td>383.37</td>\n      <td>5.81</td>\n      <td>25.3</td>\n    </tr>\n    <tr>\n      <th>43</th>\n      <td>0.15936</td>\n      <td>0.0</td>\n      <td>6.91</td>\n      <td>0</td>\n      <td>0.448</td>\n      <td>6.211</td>\n      <td>6.5</td>\n      <td>5.7209</td>\n      <td>3</td>\n      <td>233</td>\n      <td>17.9</td>\n      <td>394.46</td>\n      <td>7.44</td>\n      <td>24.7</td>\n    </tr>\n    <tr>\n      <th>44</th>\n      <td>0.12269</td>\n      <td>0.0</td>\n      <td>6.91</td>\n      <td>0</td>\n      <td>0.448</td>\n      <td>6.069</td>\n      <td>40.0</td>\n      <td>5.7209</td>\n      <td>3</td>\n      <td>233</td>\n      <td>17.9</td>\n      <td>389.39</td>\n      <td>9.55</td>\n      <td>21.2</td>\n    </tr>\n    <tr>\n      <th>45</th>\n      <td>0.17142</td>\n      <td>0.0</td>\n      <td>6.91</td>\n      <td>0</td>\n      <td>0.448</td>\n      <td>5.682</td>\n      <td>33.8</td>\n      <td>5.1004</td>\n      <td>3</td>\n      <td>233</td>\n      <td>17.9</td>\n      <td>396.90</td>\n      <td>10.21</td>\n      <td>19.3</td>\n    </tr>\n    <tr>\n      <th>46</th>\n      <td>0.18836</td>\n      <td>0.0</td>\n      <td>6.91</td>\n      <td>0</td>\n      <td>0.448</td>\n      <td>5.786</td>\n      <td>33.3</td>\n      <td>5.1004</td>\n      <td>3</td>\n      <td>233</td>\n      <td>17.9</td>\n      <td>396.90</td>\n      <td>14.15</td>\n      <td>20.0</td>\n    </tr>\n    <tr>\n      <th>47</th>\n      <td>0.22927</td>\n      <td>0.0</td>\n      <td>6.91</td>\n      <td>0</td>\n      <td>0.448</td>\n      <td>6.030</td>\n      <td>85.5</td>\n      <td>5.6894</td>\n      <td>3</td>\n      <td>233</td>\n      <td>17.9</td>\n      <td>392.74</td>\n      <td>18.80</td>\n      <td>16.6</td>\n    </tr>\n    <tr>\n      <th>48</th>\n      <td>0.25387</td>\n      <td>0.0</td>\n      <td>6.91</td>\n      <td>0</td>\n      <td>0.448</td>\n      <td>5.399</td>\n      <td>95.3</td>\n      <td>5.8700</td>\n      <td>3</td>\n      <td>233</td>\n      <td>17.9</td>\n      <td>396.90</td>\n      <td>30.81</td>\n      <td>14.4</td>\n    </tr>\n    <tr>\n      <th>49</th>\n      <td>0.21977</td>\n      <td>0.0</td>\n      <td>6.91</td>\n      <td>0</td>\n      <td>0.448</td>\n      <td>5.602</td>\n      <td>62.0</td>\n      <td>6.0877</td>\n      <td>3</td>\n      <td>233</td>\n      <td>17.9</td>\n      <td>396.90</td>\n      <td>16.20</td>\n      <td>19.4</td>\n    </tr>\n  </tbody>\n</table>\n</div>"
     },
     "execution_count": 141,
     "metadata": {},
     "output_type": "execute_result"
    }
   ],
   "source": [
    "df.get_chunk()"
   ],
   "metadata": {
    "collapsed": false,
    "ExecuteTime": {
     "end_time": "2023-10-26T01:28:28.718024383Z",
     "start_time": "2023-10-26T01:28:28.681391731Z"
    }
   },
   "id": "b0a33801f02d9e99"
  },
  {
   "cell_type": "code",
   "execution_count": 145,
   "outputs": [],
   "source": [
    "for chunk in df:\n",
    "    df2 = pd.concat([df2, chunk.iloc[0, :1]])"
   ],
   "metadata": {
    "collapsed": false,
    "ExecuteTime": {
     "end_time": "2023-10-26T01:29:23.024123809Z",
     "start_time": "2023-10-26T01:29:23.001784318Z"
    }
   },
   "id": "553a950f0e7cd4f9"
  },
  {
   "cell_type": "code",
   "execution_count": 146,
   "outputs": [
    {
     "data": {
      "text/plain": "         crim    zn  indus  chas    nox     rm    age     dis  rad  tax  \\\n100   0.14866   0.0   8.56     0  0.520  6.727   79.9  2.7778    5  384   \n150   1.65660   0.0  19.58     0  0.871  6.122   97.3  1.6180    5  403   \n200   0.01778  95.0   1.47     0  0.403  7.135   13.9  7.6534    3  402   \n250   0.14030  22.0   5.86     0  0.431  6.487   13.0  7.3967    7  330   \n300   0.04417  70.0   2.24     0  0.400  6.871   47.4  7.8278    5  358   \n350   0.06211  40.0   1.25     0  0.429  6.490   44.4  8.7921    1  335   \n400  25.04610   0.0  18.10     0  0.693  5.987  100.0  1.5888   24  666   \n450   6.71772   0.0  18.10     0  0.713  6.749   92.6  2.3236   24  666   \n500   0.22438   0.0   9.69     0  0.585  6.027   79.7  2.4982    6  391   \n\n     ptratio       b  lstat  medv  \n100     20.9  394.76   9.42  27.5  \n150     14.7  372.80  14.10  21.5  \n200     17.0  384.30   4.45  32.9  \n250     19.1  396.28   5.90  24.4  \n300     14.8  390.86   6.07  24.8  \n350     19.7  396.90   5.98  22.9  \n400     20.2  396.90  26.77   5.6  \n450     20.2    0.32  17.44  13.4  \n500     19.2  396.90  14.33  16.8  ",
      "text/html": "<div>\n<style scoped>\n    .dataframe tbody tr th:only-of-type {\n        vertical-align: middle;\n    }\n\n    .dataframe tbody tr th {\n        vertical-align: top;\n    }\n\n    .dataframe thead th {\n        text-align: right;\n    }\n</style>\n<table border=\"1\" class=\"dataframe\">\n  <thead>\n    <tr style=\"text-align: right;\">\n      <th></th>\n      <th>crim</th>\n      <th>zn</th>\n      <th>indus</th>\n      <th>chas</th>\n      <th>nox</th>\n      <th>rm</th>\n      <th>age</th>\n      <th>dis</th>\n      <th>rad</th>\n      <th>tax</th>\n      <th>ptratio</th>\n      <th>b</th>\n      <th>lstat</th>\n      <th>medv</th>\n    </tr>\n  </thead>\n  <tbody>\n    <tr>\n      <th>100</th>\n      <td>0.14866</td>\n      <td>0.0</td>\n      <td>8.56</td>\n      <td>0</td>\n      <td>0.520</td>\n      <td>6.727</td>\n      <td>79.9</td>\n      <td>2.7778</td>\n      <td>5</td>\n      <td>384</td>\n      <td>20.9</td>\n      <td>394.76</td>\n      <td>9.42</td>\n      <td>27.5</td>\n    </tr>\n    <tr>\n      <th>150</th>\n      <td>1.65660</td>\n      <td>0.0</td>\n      <td>19.58</td>\n      <td>0</td>\n      <td>0.871</td>\n      <td>6.122</td>\n      <td>97.3</td>\n      <td>1.6180</td>\n      <td>5</td>\n      <td>403</td>\n      <td>14.7</td>\n      <td>372.80</td>\n      <td>14.10</td>\n      <td>21.5</td>\n    </tr>\n    <tr>\n      <th>200</th>\n      <td>0.01778</td>\n      <td>95.0</td>\n      <td>1.47</td>\n      <td>0</td>\n      <td>0.403</td>\n      <td>7.135</td>\n      <td>13.9</td>\n      <td>7.6534</td>\n      <td>3</td>\n      <td>402</td>\n      <td>17.0</td>\n      <td>384.30</td>\n      <td>4.45</td>\n      <td>32.9</td>\n    </tr>\n    <tr>\n      <th>250</th>\n      <td>0.14030</td>\n      <td>22.0</td>\n      <td>5.86</td>\n      <td>0</td>\n      <td>0.431</td>\n      <td>6.487</td>\n      <td>13.0</td>\n      <td>7.3967</td>\n      <td>7</td>\n      <td>330</td>\n      <td>19.1</td>\n      <td>396.28</td>\n      <td>5.90</td>\n      <td>24.4</td>\n    </tr>\n    <tr>\n      <th>300</th>\n      <td>0.04417</td>\n      <td>70.0</td>\n      <td>2.24</td>\n      <td>0</td>\n      <td>0.400</td>\n      <td>6.871</td>\n      <td>47.4</td>\n      <td>7.8278</td>\n      <td>5</td>\n      <td>358</td>\n      <td>14.8</td>\n      <td>390.86</td>\n      <td>6.07</td>\n      <td>24.8</td>\n    </tr>\n    <tr>\n      <th>350</th>\n      <td>0.06211</td>\n      <td>40.0</td>\n      <td>1.25</td>\n      <td>0</td>\n      <td>0.429</td>\n      <td>6.490</td>\n      <td>44.4</td>\n      <td>8.7921</td>\n      <td>1</td>\n      <td>335</td>\n      <td>19.7</td>\n      <td>396.90</td>\n      <td>5.98</td>\n      <td>22.9</td>\n    </tr>\n    <tr>\n      <th>400</th>\n      <td>25.04610</td>\n      <td>0.0</td>\n      <td>18.10</td>\n      <td>0</td>\n      <td>0.693</td>\n      <td>5.987</td>\n      <td>100.0</td>\n      <td>1.5888</td>\n      <td>24</td>\n      <td>666</td>\n      <td>20.2</td>\n      <td>396.90</td>\n      <td>26.77</td>\n      <td>5.6</td>\n    </tr>\n    <tr>\n      <th>450</th>\n      <td>6.71772</td>\n      <td>0.0</td>\n      <td>18.10</td>\n      <td>0</td>\n      <td>0.713</td>\n      <td>6.749</td>\n      <td>92.6</td>\n      <td>2.3236</td>\n      <td>24</td>\n      <td>666</td>\n      <td>20.2</td>\n      <td>0.32</td>\n      <td>17.44</td>\n      <td>13.4</td>\n    </tr>\n    <tr>\n      <th>500</th>\n      <td>0.22438</td>\n      <td>0.0</td>\n      <td>9.69</td>\n      <td>0</td>\n      <td>0.585</td>\n      <td>6.027</td>\n      <td>79.7</td>\n      <td>2.4982</td>\n      <td>6</td>\n      <td>391</td>\n      <td>19.2</td>\n      <td>396.90</td>\n      <td>14.33</td>\n      <td>16.8</td>\n    </tr>\n  </tbody>\n</table>\n</div>"
     },
     "execution_count": 146,
     "metadata": {},
     "output_type": "execute_result"
    }
   ],
   "source": [
    "df2"
   ],
   "metadata": {
    "collapsed": false,
    "ExecuteTime": {
     "end_time": "2023-10-26T01:29:23.595916756Z",
     "start_time": "2023-10-26T01:29:23.578626006Z"
    }
   },
   "id": "c416dc8a8e8705a6"
  },
  {
   "cell_type": "markdown",
   "source": [
    "# How to create a dataframe with rows as strides from a given series?"
   ],
   "metadata": {
    "collapsed": false
   },
   "id": "d814e0c761a1c9c0"
  },
  {
   "cell_type": "code",
   "execution_count": 148,
   "outputs": [
    {
     "data": {
      "text/plain": "0      0\n1      1\n2      2\n3      3\n4      4\n5      5\n6      6\n7      7\n8      8\n9      9\n10    10\n11    11\n12    12\n13    13\n14    14\ndtype: int64"
     },
     "execution_count": 148,
     "metadata": {},
     "output_type": "execute_result"
    }
   ],
   "source": [
    "L = pd.Series(range(15))\n",
    "L"
   ],
   "metadata": {
    "collapsed": false,
    "ExecuteTime": {
     "end_time": "2023-10-26T01:31:10.992581307Z",
     "start_time": "2023-10-26T01:31:10.973002867Z"
    }
   },
   "id": "87d335f46cd9f950"
  },
  {
   "cell_type": "code",
   "execution_count": 153,
   "outputs": [
    {
     "data": {
      "text/plain": "array([[ 0,  1,  2,  3],\n       [ 2,  3,  4,  5],\n       [ 4,  5,  6,  7],\n       [ 6,  7,  8,  9],\n       [ 8,  9, 10, 11],\n       [10, 11, 12, 13]])"
     },
     "execution_count": 153,
     "metadata": {},
     "output_type": "execute_result"
    }
   ],
   "source": [
    "def gen_strides(a, stride_len=5, window_len=5):\n",
    "    n_strides = ((a.size-window_len)//stride_len) + 1\n",
    "    return np.array([a[s:(s+window_len)] for s in np.arange(0, a.size, stride_len)[:n_strides]])\n",
    "\n",
    "gen_strides(L, stride_len=2, window_len=4)"
   ],
   "metadata": {
    "collapsed": false,
    "ExecuteTime": {
     "end_time": "2023-10-26T01:33:11.751257101Z",
     "start_time": "2023-10-26T01:33:11.727231278Z"
    }
   },
   "id": "8528265b8dfda347"
  },
  {
   "cell_type": "code",
   "execution_count": 155,
   "outputs": [
    {
     "name": "stdout",
     "output_type": "stream",
     "text": [
      " a\n"
     ]
    }
   ],
   "source": [],
   "metadata": {
    "collapsed": false,
    "ExecuteTime": {
     "end_time": "2023-10-26T01:33:22.083289881Z",
     "start_time": "2023-10-26T01:33:22.049270620Z"
    }
   },
   "id": "174b7b03a72f7f0"
  },
  {
   "cell_type": "code",
   "execution_count": null,
   "outputs": [],
   "source": [],
   "metadata": {
    "collapsed": false
   },
   "id": "f61836770040c597"
  }
 ],
 "metadata": {
  "kernelspec": {
   "display_name": "Python 3",
   "language": "python",
   "name": "python3"
  },
  "language_info": {
   "codemirror_mode": {
    "name": "ipython",
    "version": 2
   },
   "file_extension": ".py",
   "mimetype": "text/x-python",
   "name": "python",
   "nbconvert_exporter": "python",
   "pygments_lexer": "ipython2",
   "version": "2.7.6"
  }
 },
 "nbformat": 4,
 "nbformat_minor": 5
}
