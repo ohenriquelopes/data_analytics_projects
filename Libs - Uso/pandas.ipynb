{
 "cells": [
  {
   "cell_type": "code",
   "execution_count": 2,
   "id": "initial_id",
   "metadata": {
    "collapsed": true,
    "ExecuteTime": {
     "end_time": "2023-10-23T02:21:41.835706126Z",
     "start_time": "2023-10-23T02:21:41.169811736Z"
    }
   },
   "outputs": [],
   "source": [
    "import pandas as pd\n",
    "import numpy as np"
   ]
  },
  {
   "cell_type": "code",
   "execution_count": 3,
   "outputs": [],
   "source": [
    "mylist = list('abcedfghijklmnopqrstuvwxyz')\n",
    "myarr = np.arange(26)\n",
    "mydict = dict(zip(mylist, myarr))\n",
    "ser = pd.Series(mydict)\n"
   ],
   "metadata": {
    "collapsed": false,
    "ExecuteTime": {
     "end_time": "2023-10-23T02:21:41.837139904Z",
     "start_time": "2023-10-23T02:21:41.572506229Z"
    }
   },
   "id": "48cb3d19d133df23"
  },
  {
   "cell_type": "markdown",
   "source": [
    "## How to convert the index of a series into a column of a dataframe?"
   ],
   "metadata": {
    "collapsed": false
   },
   "id": "3c2dc2c9bbf0f27c"
  },
  {
   "cell_type": "code",
   "execution_count": 4,
   "outputs": [
    {
     "name": "stdout",
     "output_type": "stream",
     "text": [
      "  index  0\n",
      "0     a  0\n",
      "1     b  1\n",
      "2     c  2\n",
      "3     e  3\n",
      "4     d  4\n"
     ]
    }
   ],
   "source": [
    "df = ser.to_frame().reset_index()\n",
    "print(df.head())"
   ],
   "metadata": {
    "collapsed": false,
    "ExecuteTime": {
     "end_time": "2023-10-23T02:21:41.837801723Z",
     "start_time": "2023-10-23T02:21:41.573070060Z"
    }
   },
   "id": "5d313d20e4710c18"
  },
  {
   "cell_type": "markdown",
   "source": [
    "## How to combine many series to form a dataframe?"
   ],
   "metadata": {
    "collapsed": false
   },
   "id": "87c5a5d95354bb0"
  },
  {
   "cell_type": "code",
   "execution_count": 5,
   "outputs": [],
   "source": [
    "ser1 = pd.Series(list('abcedfghijklmnopqrstuvwxyz'))\n",
    "ser2 = pd.Series(np.arange(26))"
   ],
   "metadata": {
    "collapsed": false,
    "ExecuteTime": {
     "end_time": "2023-10-23T02:21:41.838020327Z",
     "start_time": "2023-10-23T02:21:41.573311503Z"
    }
   },
   "id": "cd7c9665dd27cdb7"
  },
  {
   "cell_type": "code",
   "execution_count": 6,
   "outputs": [
    {
     "name": "stdout",
     "output_type": "stream",
     "text": [
      "   0  1\n",
      "0  a  0\n",
      "1  b  1\n",
      "2  c  2\n",
      "3  e  3\n",
      "4  d  4\n"
     ]
    }
   ],
   "source": [
    "df = pd.concat([ser1, ser2], axis=1)\n",
    "print(df.head())"
   ],
   "metadata": {
    "collapsed": false,
    "ExecuteTime": {
     "end_time": "2023-10-23T02:21:41.843716677Z",
     "start_time": "2023-10-23T02:21:41.573550151Z"
    }
   },
   "id": "dca5484d54bad62d"
  },
  {
   "cell_type": "markdown",
   "source": [
    "## How to assign name to the series’ index?"
   ],
   "metadata": {
    "collapsed": false
   },
   "id": "29e705b553cbf95d"
  },
  {
   "cell_type": "code",
   "execution_count": 7,
   "outputs": [
    {
     "data": {
      "text/plain": "0    a\n1    b\n2    c\n3    e\n4    d\nName: alphabets, dtype: object"
     },
     "execution_count": 7,
     "metadata": {},
     "output_type": "execute_result"
    }
   ],
   "source": [
    "ser = pd.Series(list('abcedfghijklmnopqrstuvwxyz'))\n",
    "ser.name = 'alphabets'\n",
    "ser.head()"
   ],
   "metadata": {
    "collapsed": false,
    "ExecuteTime": {
     "end_time": "2023-10-23T02:21:41.850586574Z",
     "start_time": "2023-10-23T02:21:41.573834826Z"
    }
   },
   "id": "cbb4c05287f238aa"
  },
  {
   "cell_type": "markdown",
   "source": [
    "## How to get the items of series A not present in series B?"
   ],
   "metadata": {
    "collapsed": false
   },
   "id": "492a86174a5ab835"
  },
  {
   "cell_type": "code",
   "execution_count": 8,
   "outputs": [
    {
     "data": {
      "text/plain": "0    1\n1    2\n2    3\nName: ser1, dtype: int64"
     },
     "execution_count": 8,
     "metadata": {},
     "output_type": "execute_result"
    }
   ],
   "source": [
    "ser1 = pd.Series([1, 2, 3, 4, 5])\n",
    "ser2 = pd.Series([4, 5, 6, 7, 8])\n",
    "ser1.name = 'ser1'\n",
    "# isin() valida se o valor está presente na série, e o ~ inverte o resultado\n",
    "ser1[~ser1.isin(ser2)]"
   ],
   "metadata": {
    "collapsed": false,
    "ExecuteTime": {
     "end_time": "2023-10-23T02:21:41.851061427Z",
     "start_time": "2023-10-23T02:21:41.576950599Z"
    }
   },
   "id": "8a63e13b8e2f6e63"
  },
  {
   "cell_type": "markdown",
   "source": [
    "## How to get the items not common to both series A and series B?"
   ],
   "metadata": {
    "collapsed": false
   },
   "id": "3f98fe468db0f213"
  },
  {
   "cell_type": "code",
   "execution_count": 9,
   "outputs": [],
   "source": [
    "ser1 = pd.Series([1, 2, 3, 4, 5])\n",
    "ser2 = pd.Series([4, 5, 6, 7, 8])"
   ],
   "metadata": {
    "collapsed": false,
    "ExecuteTime": {
     "end_time": "2023-10-23T02:21:41.851618274Z",
     "start_time": "2023-10-23T02:21:41.586336819Z"
    }
   },
   "id": "e376df269d704747"
  },
  {
   "cell_type": "code",
   "execution_count": 10,
   "outputs": [
    {
     "name": "stdout",
     "output_type": "stream",
     "text": [
      "0    4\n",
      "1    5\n",
      "dtype: int64\n"
     ]
    }
   ],
   "source": [
    "ser_u = pd.Series(np.union1d(ser1, ser2))  # union / unique no repeat\n",
    "ser_i = pd.Series(np.intersect1d(ser1, ser2))  # intersect / common\n",
    "print(ser_i)"
   ],
   "metadata": {
    "collapsed": false,
    "ExecuteTime": {
     "end_time": "2023-10-23T02:21:41.851901691Z",
     "start_time": "2023-10-23T02:21:41.592660904Z"
    }
   },
   "id": "64590087e68e75ff"
  },
  {
   "cell_type": "code",
   "execution_count": 11,
   "outputs": [
    {
     "data": {
      "text/plain": "0    1\n1    2\n2    3\n5    6\n6    7\n7    8\ndtype: int64"
     },
     "execution_count": 11,
     "metadata": {},
     "output_type": "execute_result"
    }
   ],
   "source": [
    "ser_u[~ser_u.isin(ser_i)]"
   ],
   "metadata": {
    "collapsed": false,
    "ExecuteTime": {
     "end_time": "2023-10-23T02:21:41.852312639Z",
     "start_time": "2023-10-23T02:21:41.601684227Z"
    }
   },
   "id": "596a030782a9bc25"
  },
  {
   "cell_type": "code",
   "execution_count": 12,
   "outputs": [
    {
     "data": {
      "text/plain": "0     True\n1     True\n2     True\n3    False\n4    False\n5     True\n6     True\n7     True\ndtype: bool"
     },
     "execution_count": 12,
     "metadata": {},
     "output_type": "execute_result"
    }
   ],
   "source": [
    "~ser_u.isin(ser_i)"
   ],
   "metadata": {
    "collapsed": false,
    "ExecuteTime": {
     "end_time": "2023-10-23T02:21:41.852725682Z",
     "start_time": "2023-10-23T02:21:41.648518318Z"
    }
   },
   "id": "70e6c882fb3bc563"
  },
  {
   "cell_type": "code",
   "execution_count": 13,
   "outputs": [
    {
     "data": {
      "text/plain": "0    False\n1    False\n2    False\n3     True\n4     True\n5    False\n6    False\n7    False\ndtype: bool"
     },
     "execution_count": 13,
     "metadata": {},
     "output_type": "execute_result"
    }
   ],
   "source": [
    "ser_u.isin(ser_i)"
   ],
   "metadata": {
    "collapsed": false,
    "ExecuteTime": {
     "end_time": "2023-10-23T02:21:41.853159259Z",
     "start_time": "2023-10-23T02:21:41.648967329Z"
    }
   },
   "id": "38a4ef1991dd59df"
  },
  {
   "cell_type": "markdown",
   "source": [
    "## How to get the minimum, 25th percentile, median, 75th, and max of a numeric series?"
   ],
   "metadata": {
    "collapsed": false
   },
   "id": "e22fe6370bdd557d"
  },
  {
   "cell_type": "code",
   "execution_count": 14,
   "outputs": [],
   "source": [
    "ser = pd.Series(np.random.normal(10, 5, 25))"
   ],
   "metadata": {
    "collapsed": false,
    "ExecuteTime": {
     "end_time": "2023-10-23T02:21:41.853391901Z",
     "start_time": "2023-10-23T02:21:41.649301801Z"
    }
   },
   "id": "bc853538c1bc0cd3"
  },
  {
   "cell_type": "code",
   "execution_count": 15,
   "outputs": [
    {
     "name": "stdout",
     "output_type": "stream",
     "text": [
      "0      8.110420\n",
      "1     12.107878\n",
      "2     15.782444\n",
      "3      9.963149\n",
      "4     14.486342\n",
      "5     12.802871\n",
      "6     19.120164\n",
      "7     -1.814310\n",
      "8      2.293028\n",
      "9     10.724034\n",
      "10     2.092178\n",
      "11     9.677246\n",
      "12    14.617441\n",
      "13    11.961504\n",
      "14    15.179017\n",
      "15    11.568372\n",
      "16    15.967326\n",
      "17     3.173345\n",
      "18     2.948116\n",
      "19     7.996335\n",
      "20    14.065631\n",
      "21     9.829216\n",
      "22     7.610574\n",
      "23    11.891953\n",
      "24    -1.365075\n",
      "dtype: float64\n"
     ]
    }
   ],
   "source": [
    "print(ser)"
   ],
   "metadata": {
    "collapsed": false,
    "ExecuteTime": {
     "end_time": "2023-10-23T02:21:41.853918716Z",
     "start_time": "2023-10-23T02:21:41.649764292Z"
    }
   },
   "id": "4a631bd5f2ea14fc"
  },
  {
   "cell_type": "code",
   "execution_count": 16,
   "outputs": [
    {
     "data": {
      "text/plain": "array([-1.81431036,  7.61057427, 10.72403446, 14.06563064, 19.12016418])"
     },
     "execution_count": 16,
     "metadata": {},
     "output_type": "execute_result"
    }
   ],
   "source": [
    "np.percentile(ser, q=[0, 25, 50, 75, 100])"
   ],
   "metadata": {
    "collapsed": false,
    "ExecuteTime": {
     "end_time": "2023-10-23T02:21:41.854400274Z",
     "start_time": "2023-10-23T02:21:41.650286707Z"
    }
   },
   "id": "4acf2cd9b4bef5e1"
  },
  {
   "cell_type": "code",
   "execution_count": 17,
   "outputs": [
    {
     "data": {
      "text/plain": "count    25.000000\nmean      9.631568\nstd       5.615361\nmin      -1.814310\n25%       7.610574\n50%      10.724034\n75%      14.065631\nmax      19.120164\ndtype: float64"
     },
     "execution_count": 17,
     "metadata": {},
     "output_type": "execute_result"
    }
   ],
   "source": [
    "ser.describe()"
   ],
   "metadata": {
    "collapsed": false,
    "ExecuteTime": {
     "end_time": "2023-10-23T02:21:41.855332729Z",
     "start_time": "2023-10-23T02:21:41.650709667Z"
    }
   },
   "id": "6b799e79e03fa59d"
  },
  {
   "cell_type": "markdown",
   "source": [
    "## How to get frequency counts of unique items of a series?"
   ],
   "metadata": {
    "collapsed": false
   },
   "id": "62ba69005d0ac07b"
  },
  {
   "cell_type": "code",
   "execution_count": 18,
   "outputs": [],
   "source": [
    "ser = pd.Series(np.take(list('abcdefgh'), np.random.randint(8, size=30)))"
   ],
   "metadata": {
    "collapsed": false,
    "ExecuteTime": {
     "end_time": "2023-10-23T02:21:41.855627530Z",
     "start_time": "2023-10-23T02:21:41.660308625Z"
    }
   },
   "id": "375677cb53d51a9e"
  },
  {
   "cell_type": "code",
   "execution_count": 19,
   "outputs": [
    {
     "data": {
      "text/plain": "f    5\ng    5\nb    5\nh    4\nc    4\nd    4\ne    2\na    1\nName: count, dtype: int64"
     },
     "execution_count": 19,
     "metadata": {},
     "output_type": "execute_result"
    }
   ],
   "source": [
    "ser.value_counts()"
   ],
   "metadata": {
    "collapsed": false,
    "ExecuteTime": {
     "end_time": "2023-10-23T02:21:41.858514991Z",
     "start_time": "2023-10-23T02:21:41.667559788Z"
    }
   },
   "id": "3b70cab4b925dd47"
  },
  {
   "cell_type": "markdown",
   "source": [
    "# How to keep only top 2 most frequent values as it is and replace everything else as Other?"
   ],
   "metadata": {
    "collapsed": false
   },
   "id": "49f8670523841130"
  },
  {
   "cell_type": "code",
   "execution_count": 20,
   "outputs": [],
   "source": [
    "np.random.RandomState(100)\n",
    "#cria uma Series chamada ser que contém 12 números inteiros aleatórios entre 1 e 4.\n",
    "ser = pd.Series(np.random.randint(1, 5, [12]))"
   ],
   "metadata": {
    "collapsed": false,
    "ExecuteTime": {
     "end_time": "2023-10-23T02:21:41.858843316Z",
     "start_time": "2023-10-23T02:21:41.711775727Z"
    }
   },
   "id": "703e073d859b9bf4"
  },
  {
   "cell_type": "code",
   "execution_count": 21,
   "outputs": [],
   "source": [
    "# ser.value_counts().index[:2] retorna os dois índices com as maiores contagens.\n",
    "# ~ser.isin(ser.value_counts().index[:2]) retorna uma Series booleana que é True para os valores em ser que não estão nos dois índices com as maiores contagens\n",
    "# ser[~ser.isin(ser.value_counts().index[:2])] = 'Other' substitui todos os valores em ser que não estão nos dois índices com as maiores contagens por 'Other'."
   ],
   "metadata": {
    "collapsed": false,
    "ExecuteTime": {
     "end_time": "2023-10-23T02:21:41.859086993Z",
     "start_time": "2023-10-23T02:21:41.712028623Z"
    }
   },
   "id": "fa334f473f877733"
  },
  {
   "cell_type": "code",
   "execution_count": 22,
   "outputs": [
    {
     "name": "stdout",
     "output_type": "stream",
     "text": [
      "Top 2 freq: 4    5\n",
      "3    3\n",
      "1    3\n",
      "2    1\n",
      "Name: count, dtype: int64\n"
     ]
    },
    {
     "name": "stderr",
     "output_type": "stream",
     "text": [
      "/tmp/ipykernel_58465/1646089746.py:2: FutureWarning: Setting an item of incompatible dtype is deprecated and will raise in a future error of pandas. Value 'Other' has dtype incompatible with int64, please explicitly cast to a compatible dtype first.\n",
      "  ser[~ser.isin(ser.value_counts().index[:2])] = 'Other'\n"
     ]
    },
    {
     "data": {
      "text/plain": "0         4\n1         3\n2         3\n3     Other\n4     Other\n5     Other\n6     Other\n7         4\n8         4\n9         3\n10        4\n11        4\ndtype: object"
     },
     "execution_count": 22,
     "metadata": {},
     "output_type": "execute_result"
    }
   ],
   "source": [
    "print(\"Top 2 freq:\", ser.value_counts())\n",
    "ser[~ser.isin(ser.value_counts().index[:2])] = 'Other'\n",
    "ser"
   ],
   "metadata": {
    "collapsed": false,
    "ExecuteTime": {
     "end_time": "2023-10-23T02:21:41.860018750Z",
     "start_time": "2023-10-23T02:21:41.712175779Z"
    }
   },
   "id": "bb80b66a9624c5ff"
  },
  {
   "cell_type": "markdown",
   "source": [
    "# How to bin a numeric series to 10 groups of equal size?"
   ],
   "metadata": {
    "collapsed": false
   },
   "id": "8ea9e2d45fb728b3"
  },
  {
   "cell_type": "code",
   "execution_count": 23,
   "outputs": [
    {
     "name": "stdout",
     "output_type": "stream",
     "text": [
      "0    0.186864\n",
      "1    0.697595\n",
      "2    0.829726\n",
      "3    0.421755\n",
      "4    0.020442\n",
      "dtype: float64\n"
     ]
    }
   ],
   "source": [
    "ser = pd.Series(np.random.random(20))\n",
    "print(ser.head())"
   ],
   "metadata": {
    "collapsed": false,
    "ExecuteTime": {
     "end_time": "2023-10-23T02:21:41.860430187Z",
     "start_time": "2023-10-23T02:21:41.712372942Z"
    }
   },
   "id": "a26db1a212879659"
  },
  {
   "cell_type": "code",
   "execution_count": 24,
   "outputs": [
    {
     "data": {
      "text/plain": "0      2nd\n1      6th\n2      9th\n3      4th\n4      1st\n5      2nd\n6      4th\n7      3rd\n8      5th\n9      7th\n10     3rd\n11     8th\n12     5th\n13    10th\n14     1st\n15     7th\n16     8th\n17    10th\n18     6th\n19     9th\ndtype: category\nCategories (10, object): ['1st' < '2nd' < '3rd' < '4th' ... '7th' < '8th' < '9th' < '10th']"
     },
     "execution_count": 24,
     "metadata": {},
     "output_type": "execute_result"
    }
   ],
   "source": [
    "pd.qcut(ser, q=[0, .10, .20, .3, .4, .5, .6, .7, .8, .9, 1], labels=['1st', '2nd', '3rd', '4th', '5th', '6th', '7th', '8th', '9th', '10th'])"
   ],
   "metadata": {
    "collapsed": false,
    "ExecuteTime": {
     "end_time": "2023-10-23T02:21:41.860921452Z",
     "start_time": "2023-10-23T02:21:41.712617248Z"
    }
   },
   "id": "6ee4dd4ff96f6a11"
  },
  {
   "cell_type": "markdown",
   "source": [
    "# How to convert a numpy array to a dataframe of given shape?"
   ],
   "metadata": {
    "collapsed": false
   },
   "id": "b43f7c77bee9de45"
  },
  {
   "cell_type": "code",
   "execution_count": 25,
   "outputs": [
    {
     "name": "stdout",
     "output_type": "stream",
     "text": [
      "0    7\n",
      "1    9\n",
      "2    6\n",
      "3    3\n",
      "4    8\n",
      "dtype: int64\n"
     ]
    }
   ],
   "source": [
    "ser = pd.Series(np.random.randint(1, 10, 35))\n",
    "print(ser.head())"
   ],
   "metadata": {
    "collapsed": false,
    "ExecuteTime": {
     "end_time": "2023-10-23T02:21:41.861277365Z",
     "start_time": "2023-10-23T02:21:41.718938540Z"
    }
   },
   "id": "cbc39405fe867c8f"
  },
  {
   "cell_type": "code",
   "execution_count": 26,
   "outputs": [
    {
     "name": "stdout",
     "output_type": "stream",
     "text": [
      "[[7 9 6 3 8]\n",
      " [4 3 1 4 9]\n",
      " [1 3 3 4 1]\n",
      " [4 9 9 1 1]\n",
      " [1 3 3 4 2]\n",
      " [4 5 3 2 3]\n",
      " [5 6 8 7 1]]\n"
     ]
    }
   ],
   "source": [
    "teste = ser.values.reshape(7, 5)\n",
    "print(teste)"
   ],
   "metadata": {
    "collapsed": false,
    "ExecuteTime": {
     "end_time": "2023-10-23T02:21:41.861692643Z",
     "start_time": "2023-10-23T02:21:41.765144684Z"
    }
   },
   "id": "cf3b4bd8e8deff00"
  },
  {
   "cell_type": "code",
   "execution_count": 27,
   "outputs": [
    {
     "name": "stdout",
     "output_type": "stream",
     "text": [
      "[4 3 1 4 9]\n"
     ]
    }
   ],
   "source": [
    "print(teste[1])"
   ],
   "metadata": {
    "collapsed": false,
    "ExecuteTime": {
     "end_time": "2023-10-23T02:21:41.862059381Z",
     "start_time": "2023-10-23T02:21:41.765589436Z"
    }
   },
   "id": "5a59dcaa48fc0e98"
  },
  {
   "cell_type": "code",
   "execution_count": 28,
   "outputs": [],
   "source": [
    "df = pd.DataFrame(ser.values.reshape(7, 5))"
   ],
   "metadata": {
    "collapsed": false,
    "ExecuteTime": {
     "end_time": "2023-10-23T02:21:41.862268976Z",
     "start_time": "2023-10-23T02:21:41.765834230Z"
    }
   },
   "id": "6a1ab4f164585303"
  },
  {
   "cell_type": "code",
   "execution_count": 29,
   "outputs": [
    {
     "data": {
      "text/plain": "   0  1  2  3  4\n0  7  9  6  3  8\n1  4  3  1  4  9\n2  1  3  3  4  1\n3  4  9  9  1  1\n4  1  3  3  4  2\n5  4  5  3  2  3\n6  5  6  8  7  1",
      "text/html": "<div>\n<style scoped>\n    .dataframe tbody tr th:only-of-type {\n        vertical-align: middle;\n    }\n\n    .dataframe tbody tr th {\n        vertical-align: top;\n    }\n\n    .dataframe thead th {\n        text-align: right;\n    }\n</style>\n<table border=\"1\" class=\"dataframe\">\n  <thead>\n    <tr style=\"text-align: right;\">\n      <th></th>\n      <th>0</th>\n      <th>1</th>\n      <th>2</th>\n      <th>3</th>\n      <th>4</th>\n    </tr>\n  </thead>\n  <tbody>\n    <tr>\n      <th>0</th>\n      <td>7</td>\n      <td>9</td>\n      <td>6</td>\n      <td>3</td>\n      <td>8</td>\n    </tr>\n    <tr>\n      <th>1</th>\n      <td>4</td>\n      <td>3</td>\n      <td>1</td>\n      <td>4</td>\n      <td>9</td>\n    </tr>\n    <tr>\n      <th>2</th>\n      <td>1</td>\n      <td>3</td>\n      <td>3</td>\n      <td>4</td>\n      <td>1</td>\n    </tr>\n    <tr>\n      <th>3</th>\n      <td>4</td>\n      <td>9</td>\n      <td>9</td>\n      <td>1</td>\n      <td>1</td>\n    </tr>\n    <tr>\n      <th>4</th>\n      <td>1</td>\n      <td>3</td>\n      <td>3</td>\n      <td>4</td>\n      <td>2</td>\n    </tr>\n    <tr>\n      <th>5</th>\n      <td>4</td>\n      <td>5</td>\n      <td>3</td>\n      <td>2</td>\n      <td>3</td>\n    </tr>\n    <tr>\n      <th>6</th>\n      <td>5</td>\n      <td>6</td>\n      <td>8</td>\n      <td>7</td>\n      <td>1</td>\n    </tr>\n  </tbody>\n</table>\n</div>"
     },
     "execution_count": 29,
     "metadata": {},
     "output_type": "execute_result"
    }
   ],
   "source": [
    "df"
   ],
   "metadata": {
    "collapsed": false,
    "ExecuteTime": {
     "end_time": "2023-10-23T02:21:41.864185359Z",
     "start_time": "2023-10-23T02:21:41.766053323Z"
    }
   },
   "id": "467f86f2998160a1"
  },
  {
   "cell_type": "markdown",
   "source": [
    "# How to find the positions of numbers that are multiples of 3 from a series?"
   ],
   "metadata": {
    "collapsed": false
   },
   "id": "76a34716f45d9a30"
  },
  {
   "cell_type": "code",
   "execution_count": 30,
   "outputs": [
    {
     "data": {
      "text/plain": "0    3\n1    6\n2    5\n3    9\n4    4\n5    9\n6    7\ndtype: int64"
     },
     "execution_count": 30,
     "metadata": {},
     "output_type": "execute_result"
    }
   ],
   "source": [
    "# cria uma Series chamada ser com 7 valores aleatórios entre 1 e 10.\n",
    "ser = pd.Series(np.random.randint(1, 10, 7))\n",
    "ser.head(7)"
   ],
   "metadata": {
    "collapsed": false,
    "ExecuteTime": {
     "end_time": "2023-10-23T02:21:41.864841102Z",
     "start_time": "2023-10-23T02:21:41.766453935Z"
    }
   },
   "id": "8db057977aa09eef"
  },
  {
   "cell_type": "code",
   "execution_count": 31,
   "outputs": [
    {
     "data": {
      "text/plain": "array([[0],\n       [1],\n       [3],\n       [5]])"
     },
     "execution_count": 31,
     "metadata": {},
     "output_type": "execute_result"
    }
   ],
   "source": [
    "np.argwhere(ser % 3==0) #retorna os índices dos valores em ser que são múltiplos de 3."
   ],
   "metadata": {
    "collapsed": false,
    "ExecuteTime": {
     "end_time": "2023-10-23T02:21:41.865355834Z",
     "start_time": "2023-10-23T02:21:41.767941980Z"
    }
   },
   "id": "f438fe6f8593a3cc"
  },
  {
   "cell_type": "markdown",
   "source": [
    "# How to extract items at given positions from a series"
   ],
   "metadata": {
    "collapsed": false
   },
   "id": "33dd83a9661f2917"
  },
  {
   "cell_type": "code",
   "execution_count": 32,
   "outputs": [],
   "source": [
    "# # ser = pd.Series(list('abcdefghijklmnopqrstuvwxyz'))\n",
    "# # ser = pd.Series(np.array(list('abcdefghijklmnopqrstuvwxyz')))\n",
    "# ser = pd.Series(np.array(list('abcdefghijklmnopqrstuvwxyz')))\n",
    "# pos = [0, 4, 8, 14, 20]\n",
    "# # pos"
   ],
   "metadata": {
    "collapsed": false,
    "ExecuteTime": {
     "end_time": "2023-10-23T02:21:41.865578140Z",
     "start_time": "2023-10-23T02:21:41.811610780Z"
    }
   },
   "id": "287a62f299d6cc95"
  },
  {
   "cell_type": "code",
   "execution_count": 33,
   "outputs": [],
   "source": [
    "# ser = pd.Series(np.array(list('abcdefghijklmnopqrstuvwxyz')))\n",
    "# pos = np.array(pos)\n",
    "# \n",
    "# print(ser[pos])\n"
   ],
   "metadata": {
    "collapsed": false,
    "ExecuteTime": {
     "end_time": "2023-10-23T02:21:41.865786687Z",
     "start_time": "2023-10-23T02:21:41.811885955Z"
    }
   },
   "id": "d3f2436931511026"
  },
  {
   "cell_type": "markdown",
   "source": [
    "# How to stack two series vertically and horizontally ?"
   ],
   "metadata": {
    "collapsed": false
   },
   "id": "f52282bcbe407c26"
  },
  {
   "cell_type": "code",
   "execution_count": 34,
   "outputs": [],
   "source": [
    "ser1 = pd.Series(range(5))\n",
    "ser2 = pd.Series(['a', 'b', 'c', 'd', 'e'])"
   ],
   "metadata": {
    "collapsed": false,
    "ExecuteTime": {
     "end_time": "2023-10-23T02:21:41.865982523Z",
     "start_time": "2023-10-23T02:21:41.812079417Z"
    }
   },
   "id": "291f0e5a382c74cb"
  },
  {
   "cell_type": "code",
   "execution_count": 35,
   "outputs": [
    {
     "data": {
      "text/plain": "   0  1\n0  0  a\n1  1  b\n2  2  c\n3  3  d\n4  4  e",
      "text/html": "<div>\n<style scoped>\n    .dataframe tbody tr th:only-of-type {\n        vertical-align: middle;\n    }\n\n    .dataframe tbody tr th {\n        vertical-align: top;\n    }\n\n    .dataframe thead th {\n        text-align: right;\n    }\n</style>\n<table border=\"1\" class=\"dataframe\">\n  <thead>\n    <tr style=\"text-align: right;\">\n      <th></th>\n      <th>0</th>\n      <th>1</th>\n    </tr>\n  </thead>\n  <tbody>\n    <tr>\n      <th>0</th>\n      <td>0</td>\n      <td>a</td>\n    </tr>\n    <tr>\n      <th>1</th>\n      <td>1</td>\n      <td>b</td>\n    </tr>\n    <tr>\n      <th>2</th>\n      <td>2</td>\n      <td>c</td>\n    </tr>\n    <tr>\n      <th>3</th>\n      <td>3</td>\n      <td>d</td>\n    </tr>\n    <tr>\n      <th>4</th>\n      <td>4</td>\n      <td>e</td>\n    </tr>\n  </tbody>\n</table>\n</div>"
     },
     "execution_count": 35,
     "metadata": {},
     "output_type": "execute_result"
    }
   ],
   "source": [
    "pd.concat([ser1, ser2], axis=1)"
   ],
   "metadata": {
    "collapsed": false,
    "ExecuteTime": {
     "end_time": "2023-10-23T02:21:41.867077988Z",
     "start_time": "2023-10-23T02:21:41.812241868Z"
    }
   },
   "id": "af0a42180a7db7e5"
  },
  {
   "cell_type": "markdown",
   "source": [
    "# How to get the positions of items of series A in another series B?"
   ],
   "metadata": {
    "collapsed": false
   },
   "id": "f5c9cf4e6c7f8573"
  },
  {
   "cell_type": "code",
   "execution_count": 36,
   "outputs": [],
   "source": [
    "ser1 = pd.Series([10, 9, 6, 5, 3, 1, 12, 8, 13])\n",
    "ser2 = pd.Series([1, 3, 10, 13])"
   ],
   "metadata": {
    "collapsed": false,
    "ExecuteTime": {
     "end_time": "2023-10-23T02:21:41.867283113Z",
     "start_time": "2023-10-23T02:21:41.812419126Z"
    }
   },
   "id": "b1494b8c59232a4c"
  },
  {
   "cell_type": "code",
   "execution_count": 37,
   "outputs": [
    {
     "data": {
      "text/plain": "[5, 4, 0, 8]"
     },
     "execution_count": 37,
     "metadata": {},
     "output_type": "execute_result"
    }
   ],
   "source": [
    "[np.where(i == ser1)[0].tolist()[0] for i in ser2]"
   ],
   "metadata": {
    "collapsed": false,
    "ExecuteTime": {
     "end_time": "2023-10-23T02:21:42.143999871Z",
     "start_time": "2023-10-23T02:21:41.815227037Z"
    }
   },
   "id": "1eef57c490b4b59f"
  },
  {
   "cell_type": "code",
   "execution_count": 38,
   "outputs": [
    {
     "data": {
      "text/plain": "[5, 4, 0, 8]"
     },
     "execution_count": 38,
     "metadata": {},
     "output_type": "execute_result"
    }
   ],
   "source": [
    "[pd.Index(ser1).get_loc(i) for i in ser2]"
   ],
   "metadata": {
    "collapsed": false,
    "ExecuteTime": {
     "end_time": "2023-10-23T02:21:42.144544705Z",
     "start_time": "2023-10-23T02:21:41.858363644Z"
    }
   },
   "id": "fa1b14a6d57a957f"
  },
  {
   "cell_type": "code",
   "execution_count": 39,
   "outputs": [
    {
     "name": "stdout",
     "output_type": "stream",
     "text": [
      "1\n",
      "3\n",
      "10\n",
      "13\n"
     ]
    }
   ],
   "source": [
    "for i in ser2:\n",
    "    print(i)"
   ],
   "metadata": {
    "collapsed": false,
    "ExecuteTime": {
     "end_time": "2023-10-23T02:21:42.172238080Z",
     "start_time": "2023-10-23T02:21:41.858699931Z"
    }
   },
   "id": "321ee251de4eab80"
  },
  {
   "cell_type": "code",
   "execution_count": 40,
   "outputs": [
    {
     "data": {
      "text/plain": "1"
     },
     "execution_count": 40,
     "metadata": {},
     "output_type": "execute_result"
    }
   ],
   "source": [
    "pd.Index(ser1).get_loc(9)"
   ],
   "metadata": {
    "collapsed": false,
    "ExecuteTime": {
     "end_time": "2023-10-23T02:21:42.174105155Z",
     "start_time": "2023-10-23T02:21:41.858942561Z"
    }
   },
   "id": "f68488957334419d"
  },
  {
   "cell_type": "markdown",
   "source": [
    "# How to compute the mean squared error on a truth and predicted series?"
   ],
   "metadata": {
    "collapsed": false
   },
   "id": "f0e0e4d1db3cc6ab"
  },
  {
   "cell_type": "code",
   "execution_count": 41,
   "outputs": [],
   "source": [
    "truth = pd.Series(range(10))\n",
    "pred = pd.Series(range(10)) + np.random.random(10) # cria uma Series com 10 valores, começando em 0 e terminando em 9. A cada valor é adicionado um valor aleatório entre 0 e 1."
   ],
   "metadata": {
    "collapsed": false,
    "ExecuteTime": {
     "end_time": "2023-10-23T02:21:42.175516654Z",
     "start_time": "2023-10-23T02:21:41.859183794Z"
    }
   },
   "id": "4f2c8c189ae30381"
  },
  {
   "cell_type": "code",
   "execution_count": 42,
   "outputs": [
    {
     "data": {
      "text/plain": "0.30452815062405236"
     },
     "execution_count": 42,
     "metadata": {},
     "output_type": "execute_result"
    }
   ],
   "source": [
    "np.mean((truth-pred)**2)"
   ],
   "metadata": {
    "collapsed": false,
    "ExecuteTime": {
     "end_time": "2023-10-23T02:21:42.219424731Z",
     "start_time": "2023-10-23T02:21:41.859306994Z"
    }
   },
   "id": "385bf2f28bfd2852"
  },
  {
   "cell_type": "code",
   "execution_count": 43,
   "outputs": [
    {
     "data": {
      "text/plain": "0   -0.584388\n1   -0.561688\n2   -0.174896\n3   -0.746742\n4   -0.223972\n5   -0.961787\n6   -0.372991\n7   -0.515433\n8   -0.378505\n9   -0.526126\ndtype: float64"
     },
     "execution_count": 43,
     "metadata": {},
     "output_type": "execute_result"
    }
   ],
   "source": [
    "truth - pred"
   ],
   "metadata": {
    "collapsed": false,
    "ExecuteTime": {
     "end_time": "2023-10-23T02:21:42.233669132Z",
     "start_time": "2023-10-23T02:21:41.865254075Z"
    }
   },
   "id": "ce09da88fc868289"
  },
  {
   "cell_type": "code",
   "execution_count": 44,
   "outputs": [
    {
     "data": {
      "text/plain": "0    0.341509\n1    0.315494\n2    0.030589\n3    0.557624\n4    0.050164\n5    0.925033\n6    0.139122\n7    0.265672\n8    0.143266\n9    0.276809\ndtype: float64"
     },
     "execution_count": 44,
     "metadata": {},
     "output_type": "execute_result"
    }
   ],
   "source": [
    "(truth - pred)**2"
   ],
   "metadata": {
    "collapsed": false,
    "ExecuteTime": {
     "end_time": "2023-10-23T02:21:42.234451707Z",
     "start_time": "2023-10-23T02:21:41.874602232Z"
    }
   },
   "id": "fff9f790b142faa0"
  },
  {
   "cell_type": "markdown",
   "source": [
    "# How to convert the first character of each element in a series to uppercase?"
   ],
   "metadata": {
    "collapsed": false
   },
   "id": "69f2188ef904f636"
  },
  {
   "cell_type": "code",
   "execution_count": 45,
   "outputs": [],
   "source": [
    "ser = pd.Series(['how', 'to', 'kick', 'ass?'])"
   ],
   "metadata": {
    "collapsed": false,
    "ExecuteTime": {
     "end_time": "2023-10-23T02:21:42.238659662Z",
     "start_time": "2023-10-23T02:21:41.883678634Z"
    }
   },
   "id": "2a1cba5c2f7e126c"
  },
  {
   "cell_type": "code",
   "execution_count": 46,
   "outputs": [
    {
     "data": {
      "text/plain": "0     How\n1      To\n2    Kick\n3    Ass?\ndtype: object"
     },
     "execution_count": 46,
     "metadata": {},
     "output_type": "execute_result"
    }
   ],
   "source": [
    "ser.map(lambda x: x.title())"
   ],
   "metadata": {
    "collapsed": false,
    "ExecuteTime": {
     "end_time": "2023-10-23T02:21:42.239305487Z",
     "start_time": "2023-10-23T02:21:41.924778312Z"
    }
   },
   "id": "c820f8f66d933417"
  },
  {
   "cell_type": "code",
   "execution_count": 47,
   "outputs": [
    {
     "data": {
      "text/plain": "0     How\n1      To\n2    Kick\n3    Ass?\ndtype: object"
     },
     "execution_count": 47,
     "metadata": {},
     "output_type": "execute_result"
    }
   ],
   "source": [
    "ser.map(lambda x: x[0].upper() + x[1:])"
   ],
   "metadata": {
    "collapsed": false,
    "ExecuteTime": {
     "end_time": "2023-10-23T02:21:42.239612860Z",
     "start_time": "2023-10-23T02:21:41.925085405Z"
    }
   },
   "id": "3bc70f729c58ccb5"
  },
  {
   "cell_type": "code",
   "execution_count": 48,
   "outputs": [
    {
     "data": {
      "text/plain": "0     How\n1      To\n2    Kick\n3    Ass?\ndtype: object"
     },
     "execution_count": 48,
     "metadata": {},
     "output_type": "execute_result"
    }
   ],
   "source": [
    "pd.Series([i.title() for i in ser])"
   ],
   "metadata": {
    "collapsed": false,
    "ExecuteTime": {
     "end_time": "2023-10-23T02:21:42.239968005Z",
     "start_time": "2023-10-23T02:21:41.925248695Z"
    }
   },
   "id": "94ae541027bf6ad8"
  },
  {
   "cell_type": "markdown",
   "source": [
    "# How to calculate the number of character in each word in a series"
   ],
   "metadata": {
    "collapsed": false
   },
   "id": "7491b3e6e71ed51f"
  },
  {
   "cell_type": "code",
   "execution_count": 49,
   "outputs": [],
   "source": [
    "ser = pd.Series(['how', 'to', 'kick', 'ass?'])"
   ],
   "metadata": {
    "collapsed": false,
    "ExecuteTime": {
     "end_time": "2023-10-23T02:21:42.242528956Z",
     "start_time": "2023-10-23T02:21:41.925555648Z"
    }
   },
   "id": "14aa20471ac8fb53"
  },
  {
   "cell_type": "code",
   "execution_count": 50,
   "outputs": [
    {
     "data": {
      "text/plain": "0    3\n1    2\n2    4\n3    4\ndtype: int64"
     },
     "execution_count": 50,
     "metadata": {},
     "output_type": "execute_result"
    }
   ],
   "source": [
    "ser.map(lambda x: len(x))"
   ],
   "metadata": {
    "collapsed": false,
    "ExecuteTime": {
     "end_time": "2023-10-23T02:21:58.580557267Z",
     "start_time": "2023-10-23T02:21:58.532394440Z"
    }
   },
   "id": "9dbc6990deaad10a"
  },
  {
   "cell_type": "markdown",
   "source": [
    "# How to compute difference of differences between consequtive numbers of a series?"
   ],
   "metadata": {
    "collapsed": false
   },
   "id": "f8be6c5690b76b35"
  },
  {
   "cell_type": "code",
   "execution_count": 51,
   "outputs": [],
   "source": [
    "ser = pd.Series([1, 3, 6, 10, 15, 21, 27, 35])"
   ],
   "metadata": {
    "collapsed": false,
    "ExecuteTime": {
     "end_time": "2023-10-23T02:22:58.438546447Z",
     "start_time": "2023-10-23T02:22:58.404782649Z"
    }
   },
   "id": "aaff921ba8a604e8"
  },
  {
   "cell_type": "code",
   "execution_count": 52,
   "outputs": [
    {
     "name": "stdout",
     "output_type": "stream",
     "text": [
      "[nan, 2.0, 3.0, 4.0, 5.0, 6.0, 6.0, 8.0]\n"
     ]
    }
   ],
   "source": [
    "print(ser.diff().tolist())"
   ],
   "metadata": {
    "collapsed": false,
    "ExecuteTime": {
     "end_time": "2023-10-23T02:23:16.810141380Z",
     "start_time": "2023-10-23T02:23:16.735206944Z"
    }
   },
   "id": "448ae58eb6f7337a"
  },
  {
   "cell_type": "code",
   "execution_count": 53,
   "outputs": [
    {
     "name": "stdout",
     "output_type": "stream",
     "text": [
      "[nan, nan, 1.0, 1.0, 1.0, 1.0, 0.0, 2.0]\n"
     ]
    }
   ],
   "source": [
    "print(ser.diff().diff().tolist())"
   ],
   "metadata": {
    "collapsed": false,
    "ExecuteTime": {
     "end_time": "2023-10-23T02:23:32.067067166Z",
     "start_time": "2023-10-23T02:23:32.028246278Z"
    }
   },
   "id": "86cfacd0b0891258"
  },
  {
   "cell_type": "code",
   "execution_count": null,
   "outputs": [],
   "source": [],
   "metadata": {
    "collapsed": false
   },
   "id": "8b1f082e520cc1be"
  }
 ],
 "metadata": {
  "kernelspec": {
   "display_name": "Python 3",
   "language": "python",
   "name": "python3"
  },
  "language_info": {
   "codemirror_mode": {
    "name": "ipython",
    "version": 2
   },
   "file_extension": ".py",
   "mimetype": "text/x-python",
   "name": "python",
   "nbconvert_exporter": "python",
   "pygments_lexer": "ipython2",
   "version": "2.7.6"
  }
 },
 "nbformat": 4,
 "nbformat_minor": 5
}
