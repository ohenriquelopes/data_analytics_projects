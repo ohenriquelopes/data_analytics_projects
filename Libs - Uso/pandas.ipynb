{
 "cells": [
  {
   "cell_type": "code",
   "execution_count": 4,
   "id": "initial_id",
   "metadata": {
    "collapsed": true,
    "ExecuteTime": {
     "end_time": "2023-10-22T20:32:00.328211328Z",
     "start_time": "2023-10-22T20:32:00.284741206Z"
    }
   },
   "outputs": [],
   "source": [
    "import pandas as pd\n",
    "import numpy as np"
   ]
  },
  {
   "cell_type": "code",
   "execution_count": 6,
   "outputs": [],
   "source": [
    "mylist = list('abcedfghijklmnopqrstuvwxyz')\n",
    "myarr = np.arange(26)\n",
    "mydict = dict(zip(mylist, myarr))\n",
    "ser = pd.Series(mydict)\n"
   ],
   "metadata": {
    "collapsed": false,
    "ExecuteTime": {
     "end_time": "2023-10-22T20:36:17.701396596Z",
     "start_time": "2023-10-22T20:36:17.659035998Z"
    }
   },
   "id": "48cb3d19d133df23"
  },
  {
   "cell_type": "markdown",
   "source": [
    "## How to convert the index of a series into a column of a dataframe?"
   ],
   "metadata": {
    "collapsed": false
   },
   "id": "3c2dc2c9bbf0f27c"
  },
  {
   "cell_type": "code",
   "execution_count": 16,
   "outputs": [
    {
     "name": "stdout",
     "output_type": "stream",
     "text": [
      "  index  0\n",
      "0     a  0\n",
      "1     b  1\n",
      "2     c  2\n",
      "3     e  3\n",
      "4     d  4\n"
     ]
    }
   ],
   "source": [
    "df = ser.to_frame().reset_index()\n",
    "print(df.head())"
   ],
   "metadata": {
    "collapsed": false,
    "ExecuteTime": {
     "end_time": "2023-10-22T20:37:58.324986511Z",
     "start_time": "2023-10-22T20:37:58.316890985Z"
    }
   },
   "id": "5d313d20e4710c18"
  },
  {
   "cell_type": "markdown",
   "source": [
    "## How to combine many series to form a dataframe?"
   ],
   "metadata": {
    "collapsed": false
   },
   "id": "87c5a5d95354bb0"
  },
  {
   "cell_type": "code",
   "execution_count": 17,
   "outputs": [],
   "source": [
    "ser1 = pd.Series(list('abcedfghijklmnopqrstuvwxyz'))\n",
    "ser2 = pd.Series(np.arange(26))"
   ],
   "metadata": {
    "collapsed": false,
    "ExecuteTime": {
     "end_time": "2023-10-22T20:38:57.004632951Z",
     "start_time": "2023-10-22T20:38:56.957791144Z"
    }
   },
   "id": "cd7c9665dd27cdb7"
  },
  {
   "cell_type": "code",
   "execution_count": 21,
   "outputs": [
    {
     "name": "stdout",
     "output_type": "stream",
     "text": [
      "   0  1\n",
      "0  a  0\n",
      "1  b  1\n",
      "2  c  2\n",
      "3  e  3\n",
      "4  d  4\n"
     ]
    }
   ],
   "source": [
    "df = pd.concat([ser1, ser2], axis=1)\n",
    "print(df.head())"
   ],
   "metadata": {
    "collapsed": false,
    "ExecuteTime": {
     "end_time": "2023-10-22T20:39:41.228137914Z",
     "start_time": "2023-10-22T20:39:41.186521265Z"
    }
   },
   "id": "dca5484d54bad62d"
  },
  {
   "cell_type": "markdown",
   "source": [
    "## How to assign name to the series’ index?"
   ],
   "metadata": {
    "collapsed": false
   },
   "id": "29e705b553cbf95d"
  },
  {
   "cell_type": "code",
   "execution_count": 24,
   "outputs": [
    {
     "data": {
      "text/plain": "0    a\n1    b\n2    c\n3    e\n4    d\nName: alphabets, dtype: object"
     },
     "execution_count": 24,
     "metadata": {},
     "output_type": "execute_result"
    }
   ],
   "source": [
    "ser = pd.Series(list('abcedfghijklmnopqrstuvwxyz'))\n",
    "ser.name = 'alphabets'\n",
    "ser.head()"
   ],
   "metadata": {
    "collapsed": false,
    "ExecuteTime": {
     "end_time": "2023-10-22T20:40:49.511039424Z",
     "start_time": "2023-10-22T20:40:49.505510655Z"
    }
   },
   "id": "cbb4c05287f238aa"
  },
  {
   "cell_type": "markdown",
   "source": [
    "## How to get the items of series A not present in series B?"
   ],
   "metadata": {
    "collapsed": false
   },
   "id": "492a86174a5ab835"
  },
  {
   "cell_type": "code",
   "execution_count": 27,
   "outputs": [
    {
     "data": {
      "text/plain": "0    1\n1    2\n2    3\nName: ser1, dtype: int64"
     },
     "execution_count": 27,
     "metadata": {},
     "output_type": "execute_result"
    }
   ],
   "source": [
    "ser1 = pd.Series([1, 2, 3, 4, 5])\n",
    "ser2 = pd.Series([4, 5, 6, 7, 8])\n",
    "ser1.name = 'ser1'\n",
    "# isin() valida se o valor está presente na série, e o ~ inverte o resultado\n",
    "ser1[~ser1.isin(ser2)]"
   ],
   "metadata": {
    "collapsed": false,
    "ExecuteTime": {
     "end_time": "2023-10-22T20:45:47.408795785Z",
     "start_time": "2023-10-22T20:45:47.366384838Z"
    }
   },
   "id": "8a63e13b8e2f6e63"
  },
  {
   "cell_type": "markdown",
   "source": [
    "## How to get the items not common to both series A and series B?"
   ],
   "metadata": {
    "collapsed": false
   },
   "id": "3f98fe468db0f213"
  },
  {
   "cell_type": "code",
   "execution_count": 28,
   "outputs": [],
   "source": [
    "ser1 = pd.Series([1, 2, 3, 4, 5])\n",
    "ser2 = pd.Series([4, 5, 6, 7, 8])"
   ],
   "metadata": {
    "collapsed": false,
    "ExecuteTime": {
     "end_time": "2023-10-22T20:47:37.114891049Z",
     "start_time": "2023-10-22T20:47:37.072022228Z"
    }
   },
   "id": "e376df269d704747"
  },
  {
   "cell_type": "code",
   "execution_count": 33,
   "outputs": [
    {
     "name": "stdout",
     "output_type": "stream",
     "text": [
      "0    4\n",
      "1    5\n",
      "dtype: int64\n"
     ]
    }
   ],
   "source": [
    "ser_u = pd.Series(np.union1d(ser1, ser2))  # union / unique no repeat\n",
    "ser_i = pd.Series(np.intersect1d(ser1, ser2))  # intersect / common\n",
    "print(ser_i)"
   ],
   "metadata": {
    "collapsed": false,
    "ExecuteTime": {
     "end_time": "2023-10-22T20:51:09.908365348Z",
     "start_time": "2023-10-22T20:51:09.861392826Z"
    }
   },
   "id": "64590087e68e75ff"
  },
  {
   "cell_type": "code",
   "execution_count": 34,
   "outputs": [
    {
     "data": {
      "text/plain": "0    1\n1    2\n2    3\n5    6\n6    7\n7    8\ndtype: int64"
     },
     "execution_count": 34,
     "metadata": {},
     "output_type": "execute_result"
    }
   ],
   "source": [
    "ser_u[~ser_u.isin(ser_i)]"
   ],
   "metadata": {
    "collapsed": false,
    "ExecuteTime": {
     "end_time": "2023-10-22T20:51:18.625157870Z",
     "start_time": "2023-10-22T20:51:18.616101384Z"
    }
   },
   "id": "596a030782a9bc25"
  },
  {
   "cell_type": "code",
   "execution_count": 35,
   "outputs": [
    {
     "data": {
      "text/plain": "0     True\n1     True\n2     True\n3    False\n4    False\n5     True\n6     True\n7     True\ndtype: bool"
     },
     "execution_count": 35,
     "metadata": {},
     "output_type": "execute_result"
    }
   ],
   "source": [
    "~ser_u.isin(ser_i)"
   ],
   "metadata": {
    "collapsed": false,
    "ExecuteTime": {
     "end_time": "2023-10-22T20:51:35.326387982Z",
     "start_time": "2023-10-22T20:51:35.306251891Z"
    }
   },
   "id": "70e6c882fb3bc563"
  },
  {
   "cell_type": "code",
   "execution_count": 36,
   "outputs": [
    {
     "data": {
      "text/plain": "0    False\n1    False\n2    False\n3     True\n4     True\n5    False\n6    False\n7    False\ndtype: bool"
     },
     "execution_count": 36,
     "metadata": {},
     "output_type": "execute_result"
    }
   ],
   "source": [
    "ser_u.isin(ser_i)"
   ],
   "metadata": {
    "collapsed": false,
    "ExecuteTime": {
     "end_time": "2023-10-22T20:51:44.424195925Z",
     "start_time": "2023-10-22T20:51:44.408666268Z"
    }
   },
   "id": "38a4ef1991dd59df"
  },
  {
   "cell_type": "markdown",
   "source": [
    "## How to get the minimum, 25th percentile, median, 75th, and max of a numeric series?"
   ],
   "metadata": {
    "collapsed": false
   },
   "id": "e22fe6370bdd557d"
  },
  {
   "cell_type": "code",
   "execution_count": 37,
   "outputs": [],
   "source": [
    "ser = pd.Series(np.random.normal(10, 5, 25))"
   ],
   "metadata": {
    "collapsed": false,
    "ExecuteTime": {
     "end_time": "2023-10-22T20:53:29.852701506Z",
     "start_time": "2023-10-22T20:53:29.835439358Z"
    }
   },
   "id": "bc853538c1bc0cd3"
  },
  {
   "cell_type": "code",
   "execution_count": 38,
   "outputs": [
    {
     "name": "stdout",
     "output_type": "stream",
     "text": [
      "0     10.892579\n",
      "1     14.466109\n",
      "2     17.073401\n",
      "3      1.627593\n",
      "4     10.941670\n",
      "5      8.644525\n",
      "6      2.836961\n",
      "7     15.184189\n",
      "8      3.691791\n",
      "9     13.607751\n",
      "10     8.348275\n",
      "11     6.115550\n",
      "12     8.152078\n",
      "13    15.200553\n",
      "14     6.308857\n",
      "15     1.899106\n",
      "16     4.409031\n",
      "17    11.577716\n",
      "18     6.273475\n",
      "19     4.812205\n",
      "20     2.642932\n",
      "21    14.870014\n",
      "22     9.624308\n",
      "23    14.824186\n",
      "24    10.640633\n",
      "dtype: float64\n"
     ]
    }
   ],
   "source": [
    "print(ser)"
   ],
   "metadata": {
    "collapsed": false,
    "ExecuteTime": {
     "end_time": "2023-10-22T20:53:33.464466951Z",
     "start_time": "2023-10-22T20:53:33.418239439Z"
    }
   },
   "id": "4a631bd5f2ea14fc"
  },
  {
   "cell_type": "code",
   "execution_count": 39,
   "outputs": [
    {
     "data": {
      "text/plain": "array([ 1.62759254,  4.81220502,  8.64452537, 13.6077513 , 17.07340127])"
     },
     "execution_count": 39,
     "metadata": {},
     "output_type": "execute_result"
    }
   ],
   "source": [
    "np.percentile(ser, q=[0, 25, 50, 75, 100])"
   ],
   "metadata": {
    "collapsed": false,
    "ExecuteTime": {
     "end_time": "2023-10-22T20:54:09.384562455Z",
     "start_time": "2023-10-22T20:54:09.340129040Z"
    }
   },
   "id": "4acf2cd9b4bef5e1"
  },
  {
   "cell_type": "code",
   "execution_count": 40,
   "outputs": [
    {
     "data": {
      "text/plain": "count    25.000000\nmean      8.986620\nstd       4.798701\nmin       1.627593\n25%       4.812205\n50%       8.644525\n75%      13.607751\nmax      17.073401\ndtype: float64"
     },
     "execution_count": 40,
     "metadata": {},
     "output_type": "execute_result"
    }
   ],
   "source": [
    "ser.describe()"
   ],
   "metadata": {
    "collapsed": false,
    "ExecuteTime": {
     "end_time": "2023-10-22T20:54:22.588123457Z",
     "start_time": "2023-10-22T20:54:22.569014812Z"
    }
   },
   "id": "6b799e79e03fa59d"
  },
  {
   "cell_type": "markdown",
   "source": [
    "## How to get frequency counts of unique items of a series?"
   ],
   "metadata": {
    "collapsed": false
   },
   "id": "62ba69005d0ac07b"
  },
  {
   "cell_type": "code",
   "execution_count": 43,
   "outputs": [],
   "source": [
    "ser = pd.Series(np.take(list('abcdefgh'), np.random.randint(8, size=30)))"
   ],
   "metadata": {
    "collapsed": false,
    "ExecuteTime": {
     "end_time": "2023-10-22T20:57:36.890982404Z",
     "start_time": "2023-10-22T20:57:36.849380744Z"
    }
   },
   "id": "375677cb53d51a9e"
  },
  {
   "cell_type": "code",
   "execution_count": 44,
   "outputs": [
    {
     "name": "stdout",
     "output_type": "stream",
     "text": [
      "0    e\n",
      "1    h\n",
      "2    e\n",
      "3    b\n",
      "4    f\n",
      "dtype: object\n"
     ]
    }
   ],
   "source": [
    "print(ser.head())"
   ],
   "metadata": {
    "collapsed": false,
    "ExecuteTime": {
     "end_time": "2023-10-22T20:57:42.543972116Z",
     "start_time": "2023-10-22T20:57:42.522227914Z"
    }
   },
   "id": "3b70cab4b925dd47"
  },
  {
   "cell_type": "code",
   "execution_count": null,
   "outputs": [],
   "source": [],
   "metadata": {
    "collapsed": false
   },
   "id": "bb80b66a9624c5ff"
  }
 ],
 "metadata": {
  "kernelspec": {
   "display_name": "Python 3",
   "language": "python",
   "name": "python3"
  },
  "language_info": {
   "codemirror_mode": {
    "name": "ipython",
    "version": 2
   },
   "file_extension": ".py",
   "mimetype": "text/x-python",
   "name": "python",
   "nbconvert_exporter": "python",
   "pygments_lexer": "ipython2",
   "version": "2.7.6"
  }
 },
 "nbformat": 4,
 "nbformat_minor": 5
}
